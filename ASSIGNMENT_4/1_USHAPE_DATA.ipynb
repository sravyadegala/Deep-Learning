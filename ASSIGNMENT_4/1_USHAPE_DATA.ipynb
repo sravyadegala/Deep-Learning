{
 "cells": [
  {
   "cell_type": "markdown",
   "id": "4f93cff5",
   "metadata": {},
   "source": [
    "## Importing Libraries"
   ]
  },
  {
   "cell_type": "code",
   "execution_count": 1,
   "id": "ff0d8e67",
   "metadata": {},
   "outputs": [],
   "source": [
    "import numpy as np\n",
    "import pandas as pd    \n",
    "import matplotlib.pyplot as plt "
   ]
  },
  {
   "cell_type": "markdown",
   "id": "47ef5a51",
   "metadata": {},
   "source": [
    "## Loading the CSV file"
   ]
  },
  {
   "cell_type": "code",
   "execution_count": 2,
   "id": "cbdded52",
   "metadata": {},
   "outputs": [
    {
     "data": {
      "text/html": [
       "<div>\n",
       "<style scoped>\n",
       "    .dataframe tbody tr th:only-of-type {\n",
       "        vertical-align: middle;\n",
       "    }\n",
       "\n",
       "    .dataframe tbody tr th {\n",
       "        vertical-align: top;\n",
       "    }\n",
       "\n",
       "    .dataframe thead th {\n",
       "        text-align: right;\n",
       "    }\n",
       "</style>\n",
       "<table border=\"1\" class=\"dataframe\">\n",
       "  <thead>\n",
       "    <tr style=\"text-align: right;\">\n",
       "      <th></th>\n",
       "      <th>0</th>\n",
       "      <th>1</th>\n",
       "      <th>2</th>\n",
       "    </tr>\n",
       "  </thead>\n",
       "  <tbody>\n",
       "    <tr>\n",
       "      <th>0</th>\n",
       "      <td>0.031595</td>\n",
       "      <td>0.986988</td>\n",
       "      <td>0.0</td>\n",
       "    </tr>\n",
       "    <tr>\n",
       "      <th>1</th>\n",
       "      <td>2.115098</td>\n",
       "      <td>-0.046244</td>\n",
       "      <td>1.0</td>\n",
       "    </tr>\n",
       "    <tr>\n",
       "      <th>2</th>\n",
       "      <td>0.882490</td>\n",
       "      <td>-0.075756</td>\n",
       "      <td>0.0</td>\n",
       "    </tr>\n",
       "    <tr>\n",
       "      <th>3</th>\n",
       "      <td>-0.055144</td>\n",
       "      <td>-0.037332</td>\n",
       "      <td>1.0</td>\n",
       "    </tr>\n",
       "    <tr>\n",
       "      <th>4</th>\n",
       "      <td>0.829545</td>\n",
       "      <td>-0.539321</td>\n",
       "      <td>1.0</td>\n",
       "    </tr>\n",
       "  </tbody>\n",
       "</table>\n",
       "</div>"
      ],
      "text/plain": [
       "          0         1    2\n",
       "0  0.031595  0.986988  0.0\n",
       "1  2.115098 -0.046244  1.0\n",
       "2  0.882490 -0.075756  0.0\n",
       "3 -0.055144 -0.037332  1.0\n",
       "4  0.829545 -0.539321  1.0"
      ]
     },
     "execution_count": 2,
     "metadata": {},
     "output_type": "execute_result"
    }
   ],
   "source": [
    "df=pd.read_csv(r\"Multiple CSV\\1.ushape.csv\",header=None) \n",
    "df.head() "
   ]
  },
  {
   "cell_type": "markdown",
   "id": "97e974ab",
   "metadata": {},
   "source": [
    "### Identifying the Input and Output Features"
   ]
  },
  {
   "cell_type": "code",
   "execution_count": 3,
   "id": "17c7b60a",
   "metadata": {},
   "outputs": [],
   "source": [
    "x=df.iloc[:,0:2]\n",
    "y=df.iloc[:,2].astype(int) "
   ]
  },
  {
   "cell_type": "code",
   "execution_count": 4,
   "id": "238da76f",
   "metadata": {},
   "outputs": [
    {
     "data": {
      "text/html": [
       "<div>\n",
       "<style scoped>\n",
       "    .dataframe tbody tr th:only-of-type {\n",
       "        vertical-align: middle;\n",
       "    }\n",
       "\n",
       "    .dataframe tbody tr th {\n",
       "        vertical-align: top;\n",
       "    }\n",
       "\n",
       "    .dataframe thead th {\n",
       "        text-align: right;\n",
       "    }\n",
       "</style>\n",
       "<table border=\"1\" class=\"dataframe\">\n",
       "  <thead>\n",
       "    <tr style=\"text-align: right;\">\n",
       "      <th></th>\n",
       "      <th>0</th>\n",
       "      <th>1</th>\n",
       "    </tr>\n",
       "  </thead>\n",
       "  <tbody>\n",
       "    <tr>\n",
       "      <th>0</th>\n",
       "      <td>0.031595</td>\n",
       "      <td>0.986988</td>\n",
       "    </tr>\n",
       "    <tr>\n",
       "      <th>1</th>\n",
       "      <td>2.115098</td>\n",
       "      <td>-0.046244</td>\n",
       "    </tr>\n",
       "    <tr>\n",
       "      <th>2</th>\n",
       "      <td>0.882490</td>\n",
       "      <td>-0.075756</td>\n",
       "    </tr>\n",
       "    <tr>\n",
       "      <th>3</th>\n",
       "      <td>-0.055144</td>\n",
       "      <td>-0.037332</td>\n",
       "    </tr>\n",
       "    <tr>\n",
       "      <th>4</th>\n",
       "      <td>0.829545</td>\n",
       "      <td>-0.539321</td>\n",
       "    </tr>\n",
       "  </tbody>\n",
       "</table>\n",
       "</div>"
      ],
      "text/plain": [
       "          0         1\n",
       "0  0.031595  0.986988\n",
       "1  2.115098 -0.046244\n",
       "2  0.882490 -0.075756\n",
       "3 -0.055144 -0.037332\n",
       "4  0.829545 -0.539321"
      ]
     },
     "execution_count": 4,
     "metadata": {},
     "output_type": "execute_result"
    }
   ],
   "source": [
    "x.head() "
   ]
  },
  {
   "cell_type": "code",
   "execution_count": 5,
   "id": "c6f479b8",
   "metadata": {},
   "outputs": [
    {
     "data": {
      "text/plain": [
       "0    0\n",
       "1    1\n",
       "2    0\n",
       "3    1\n",
       "4    1\n",
       "Name: 2, dtype: int32"
      ]
     },
     "execution_count": 5,
     "metadata": {},
     "output_type": "execute_result"
    }
   ],
   "source": [
    "y.head()"
   ]
  },
  {
   "cell_type": "markdown",
   "id": "c9b9afbd",
   "metadata": {},
   "source": [
    "### Spliting the data into train and test"
   ]
  },
  {
   "cell_type": "code",
   "execution_count": 6,
   "id": "864c2f81",
   "metadata": {},
   "outputs": [],
   "source": [
    "from sklearn.model_selection import train_test_split\n",
    "x_train,x_test,y_train,y_test=train_test_split(x,y,test_size=0.1)"
   ]
  },
  {
   "cell_type": "code",
   "execution_count": 7,
   "id": "47f62c70",
   "metadata": {},
   "outputs": [
    {
     "data": {
      "text/plain": [
       "(90, 2)"
      ]
     },
     "execution_count": 7,
     "metadata": {},
     "output_type": "execute_result"
    }
   ],
   "source": [
    "x_train.shape"
   ]
  },
  {
   "cell_type": "code",
   "execution_count": 8,
   "id": "2d5204e1",
   "metadata": {},
   "outputs": [
    {
     "data": {
      "text/plain": [
       "(10, 2)"
      ]
     },
     "execution_count": 8,
     "metadata": {},
     "output_type": "execute_result"
    }
   ],
   "source": [
    "x_test.shape "
   ]
  },
  {
   "cell_type": "markdown",
   "id": "dfd6cec0",
   "metadata": {},
   "source": [
    "### Standardizing input features"
   ]
  },
  {
   "cell_type": "code",
   "execution_count": 9,
   "id": "12dedab1",
   "metadata": {},
   "outputs": [],
   "source": [
    "from sklearn.preprocessing import StandardScaler\n",
    "std=StandardScaler()\n",
    "x_train=std.fit_transform(x_train)\n",
    "x_test=std.transform(x_test) "
   ]
  },
  {
   "cell_type": "markdown",
   "id": "c79b8b52",
   "metadata": {},
   "source": [
    "### Building the Logical Structure"
   ]
  },
  {
   "cell_type": "code",
   "execution_count": 25,
   "id": "808882d9-bbff-4156-b812-e210bec1c9bd",
   "metadata": {},
   "outputs": [],
   "source": [
    "from keras import Sequential \n",
    "from keras.layers import Dense, BatchNormalization\n",
    "from keras.regularizers import L1,L2,L1L2 \n",
    "from keras.optimizers import SGD"
   ]
  },
  {
   "cell_type": "code",
   "execution_count": 26,
   "id": "3ef4d952",
   "metadata": {},
   "outputs": [],
   "source": [
    "model=Sequential()\n",
    "model.add(Dense(18,activation=\"relu\",kernel_regularizer=L2(0.001),bias_regularizer=L2(0.001),input_dim=2))\n",
    "model.add(Dense(16,activation=\"relu\",kernel_regularizer=L2(0.001),bias_regularizer=L2(0.001)))\n",
    "model.add(BatchNormalization())\n",
    "model.add(Dense(12,activation=\"relu\",kernel_regularizer=L2(0.001),bias_regularizer=L2(0.001)))\n",
    "model.add(Dense(8,activation=\"relu\",kernel_regularizer=L2(0.001),bias_regularizer=L2(0.001)))\n",
    "model.add(Dense(1,activation=\"sigmoid\",kernel_regularizer=L2(0.001),bias_regularizer=L2(0.001)))  "
   ]
  },
  {
   "cell_type": "markdown",
   "id": "fffcd28a-6db5-463d-9905-9e5c7311ec18",
   "metadata": {},
   "source": [
    "**Observation:**\n",
    "- As the data is much complex, relu activation function is used.\n",
    "- As model is overfitting, Regularization is used as Lasso with 0.001 learning rate.\n",
    "- As target variable contains binary class, In output layer i have used sigmoid as activation function.\n",
    "- As Regularization is used, to overcome the internal covariate shift i have used batch normalization."
   ]
  },
  {
   "cell_type": "code",
   "execution_count": 27,
   "id": "6a3b0eaf",
   "metadata": {},
   "outputs": [
    {
     "name": "stdout",
     "output_type": "stream",
     "text": [
      "Model: \"sequential_2\"\n",
      "_________________________________________________________________\n",
      " Layer (type)                Output Shape              Param #   \n",
      "=================================================================\n",
      " dense_7 (Dense)             (None, 18)                54        \n",
      "                                                                 \n",
      " dense_8 (Dense)             (None, 16)                304       \n",
      "                                                                 \n",
      " batch_normalization (Batch  (None, 16)                64        \n",
      " Normalization)                                                  \n",
      "                                                                 \n",
      " dense_9 (Dense)             (None, 12)                204       \n",
      "                                                                 \n",
      " dense_10 (Dense)            (None, 8)                 104       \n",
      "                                                                 \n",
      " dense_11 (Dense)            (None, 1)                 9         \n",
      "                                                                 \n",
      "=================================================================\n",
      "Total params: 739 (2.89 KB)\n",
      "Trainable params: 707 (2.76 KB)\n",
      "Non-trainable params: 32 (128.00 Byte)\n",
      "_________________________________________________________________\n"
     ]
    }
   ],
   "source": [
    "model.summary() "
   ]
  },
  {
   "cell_type": "markdown",
   "id": "91aac4c1",
   "metadata": {},
   "source": [
    "### Compling the model"
   ]
  },
  {
   "cell_type": "code",
   "execution_count": 28,
   "id": "a86dfac1",
   "metadata": {},
   "outputs": [],
   "source": [
    "model.compile(loss=\"binary_crossentropy\",optimizer=SGD(0.01),metrics=[\"accuracy\"])"
   ]
  },
  {
   "cell_type": "code",
   "execution_count": 29,
   "id": "ab74dc15",
   "metadata": {},
   "outputs": [
    {
     "name": "stdout",
     "output_type": "stream",
     "text": [
      "Epoch 1/40\n",
      "17/17 [==============================] - 1s 17ms/step - loss: 0.7043 - accuracy: 0.6296 - val_loss: 0.7212 - val_accuracy: 0.7778\n",
      "Epoch 2/40\n",
      "17/17 [==============================] - 0s 6ms/step - loss: 0.6646 - accuracy: 0.7160 - val_loss: 0.7134 - val_accuracy: 0.7778\n",
      "Epoch 3/40\n",
      "17/17 [==============================] - 0s 6ms/step - loss: 0.6412 - accuracy: 0.7531 - val_loss: 0.7019 - val_accuracy: 0.7778\n",
      "Epoch 4/40\n",
      "17/17 [==============================] - 0s 6ms/step - loss: 0.6161 - accuracy: 0.7901 - val_loss: 0.6908 - val_accuracy: 0.7778\n",
      "Epoch 5/40\n",
      "17/17 [==============================] - 0s 6ms/step - loss: 0.6024 - accuracy: 0.8272 - val_loss: 0.6847 - val_accuracy: 0.6667\n",
      "Epoch 6/40\n",
      "17/17 [==============================] - 0s 8ms/step - loss: 0.5879 - accuracy: 0.7778 - val_loss: 0.6708 - val_accuracy: 0.7778\n",
      "Epoch 7/40\n",
      "17/17 [==============================] - 0s 7ms/step - loss: 0.5754 - accuracy: 0.8519 - val_loss: 0.6640 - val_accuracy: 0.7778\n",
      "Epoch 8/40\n",
      "17/17 [==============================] - 0s 6ms/step - loss: 0.5631 - accuracy: 0.8272 - val_loss: 0.6537 - val_accuracy: 0.7778\n",
      "Epoch 9/40\n",
      "17/17 [==============================] - 0s 6ms/step - loss: 0.5196 - accuracy: 0.8272 - val_loss: 0.6377 - val_accuracy: 0.7778\n",
      "Epoch 10/40\n",
      "17/17 [==============================] - 0s 5ms/step - loss: 0.5191 - accuracy: 0.8272 - val_loss: 0.6200 - val_accuracy: 0.8889\n",
      "Epoch 11/40\n",
      "17/17 [==============================] - 0s 5ms/step - loss: 0.4921 - accuracy: 0.8148 - val_loss: 0.5897 - val_accuracy: 0.8889\n",
      "Epoch 12/40\n",
      "17/17 [==============================] - 0s 9ms/step - loss: 0.4925 - accuracy: 0.8395 - val_loss: 0.5747 - val_accuracy: 0.8889\n",
      "Epoch 13/40\n",
      "17/17 [==============================] - 0s 6ms/step - loss: 0.4833 - accuracy: 0.8642 - val_loss: 0.5701 - val_accuracy: 0.8889\n",
      "Epoch 14/40\n",
      "17/17 [==============================] - 0s 7ms/step - loss: 0.4138 - accuracy: 0.9136 - val_loss: 0.5465 - val_accuracy: 0.8889\n",
      "Epoch 15/40\n",
      "17/17 [==============================] - 0s 6ms/step - loss: 0.4052 - accuracy: 0.8642 - val_loss: 0.5221 - val_accuracy: 0.8889\n",
      "Epoch 16/40\n",
      "17/17 [==============================] - 0s 7ms/step - loss: 0.4325 - accuracy: 0.8519 - val_loss: 0.5026 - val_accuracy: 0.8889\n",
      "Epoch 17/40\n",
      "17/17 [==============================] - 0s 8ms/step - loss: 0.4550 - accuracy: 0.8519 - val_loss: 0.4949 - val_accuracy: 0.8889\n",
      "Epoch 18/40\n",
      "17/17 [==============================] - 0s 7ms/step - loss: 0.3783 - accuracy: 0.8765 - val_loss: 0.4661 - val_accuracy: 0.8889\n",
      "Epoch 19/40\n",
      "17/17 [==============================] - 0s 6ms/step - loss: 0.3689 - accuracy: 0.8642 - val_loss: 0.4367 - val_accuracy: 0.8889\n",
      "Epoch 20/40\n",
      "17/17 [==============================] - 0s 5ms/step - loss: 0.4109 - accuracy: 0.8519 - val_loss: 0.4142 - val_accuracy: 0.8889\n",
      "Epoch 21/40\n",
      "17/17 [==============================] - 0s 6ms/step - loss: 0.3731 - accuracy: 0.9012 - val_loss: 0.4008 - val_accuracy: 0.8889\n",
      "Epoch 22/40\n",
      "17/17 [==============================] - 0s 6ms/step - loss: 0.3907 - accuracy: 0.8642 - val_loss: 0.3879 - val_accuracy: 0.8889\n",
      "Epoch 23/40\n",
      "17/17 [==============================] - 0s 7ms/step - loss: 0.3621 - accuracy: 0.9012 - val_loss: 0.3915 - val_accuracy: 0.8889\n",
      "Epoch 24/40\n",
      "17/17 [==============================] - 0s 5ms/step - loss: 0.3258 - accuracy: 0.8889 - val_loss: 0.3699 - val_accuracy: 0.8889\n",
      "Epoch 25/40\n",
      "17/17 [==============================] - 0s 6ms/step - loss: 0.2968 - accuracy: 0.9383 - val_loss: 0.3461 - val_accuracy: 0.8889\n",
      "Epoch 26/40\n",
      "17/17 [==============================] - 0s 6ms/step - loss: 0.3285 - accuracy: 0.9012 - val_loss: 0.3530 - val_accuracy: 0.8889\n",
      "Epoch 27/40\n",
      "17/17 [==============================] - 0s 6ms/step - loss: 0.3569 - accuracy: 0.8765 - val_loss: 0.3485 - val_accuracy: 0.8889\n",
      "Epoch 28/40\n",
      "17/17 [==============================] - 0s 10ms/step - loss: 0.3270 - accuracy: 0.9012 - val_loss: 0.3236 - val_accuracy: 0.8889\n",
      "Epoch 29/40\n",
      "17/17 [==============================] - 0s 7ms/step - loss: 0.2779 - accuracy: 0.9259 - val_loss: 0.3162 - val_accuracy: 0.8889\n",
      "Epoch 30/40\n",
      "17/17 [==============================] - 0s 6ms/step - loss: 0.2784 - accuracy: 0.9012 - val_loss: 0.3147 - val_accuracy: 0.8889\n",
      "Epoch 31/40\n",
      "17/17 [==============================] - 0s 5ms/step - loss: 0.3292 - accuracy: 0.9012 - val_loss: 0.3588 - val_accuracy: 0.8889\n",
      "Epoch 32/40\n",
      "17/17 [==============================] - 0s 7ms/step - loss: 0.3134 - accuracy: 0.9012 - val_loss: 0.2990 - val_accuracy: 0.8889\n",
      "Epoch 33/40\n",
      "17/17 [==============================] - 0s 6ms/step - loss: 0.3472 - accuracy: 0.8642 - val_loss: 0.3172 - val_accuracy: 0.8889\n",
      "Epoch 34/40\n",
      "17/17 [==============================] - 0s 6ms/step - loss: 0.2524 - accuracy: 0.9383 - val_loss: 0.3276 - val_accuracy: 0.8889\n",
      "Epoch 35/40\n",
      "17/17 [==============================] - 0s 6ms/step - loss: 0.2368 - accuracy: 0.9259 - val_loss: 0.2974 - val_accuracy: 0.8889\n",
      "Epoch 36/40\n",
      "17/17 [==============================] - 0s 6ms/step - loss: 0.2945 - accuracy: 0.9136 - val_loss: 0.2974 - val_accuracy: 0.8889\n",
      "Epoch 37/40\n",
      "17/17 [==============================] - 0s 8ms/step - loss: 0.2535 - accuracy: 0.9136 - val_loss: 0.3168 - val_accuracy: 0.8889\n",
      "Epoch 38/40\n",
      "17/17 [==============================] - 0s 6ms/step - loss: 0.2878 - accuracy: 0.9259 - val_loss: 0.2785 - val_accuracy: 0.8889\n",
      "Epoch 39/40\n",
      "17/17 [==============================] - 0s 5ms/step - loss: 0.2822 - accuracy: 0.9259 - val_loss: 0.3479 - val_accuracy: 0.8889\n",
      "Epoch 40/40\n",
      "17/17 [==============================] - 0s 6ms/step - loss: 0.2433 - accuracy: 0.9383 - val_loss: 0.3598 - val_accuracy: 0.8889\n"
     ]
    }
   ],
   "source": [
    "history=model.fit(x_train,y_train,batch_size=5,epochs=40,validation_split=0.1)"
   ]
  },
  {
   "cell_type": "code",
   "execution_count": 30,
   "id": "18f852e1",
   "metadata": {},
   "outputs": [
    {
     "data": {
      "text/plain": [
       "<matplotlib.legend.Legend at 0x19a472e3dc0>"
      ]
     },
     "execution_count": 30,
     "metadata": {},
     "output_type": "execute_result"
    },
    {
     "data": {
      "image/png": "[encoded data removed]",
      "text/plain": [
       "<Figure size 640x480 with 1 Axes>"
      ]
     },
     "metadata": {},
     "output_type": "display_data"
    }
   ],
   "source": [
    "plt.plot(range(1,41),history.history[\"loss\"],label=\"train_loss\")\n",
    "plt.plot(range(1,41),history.history[\"val_loss\"],label=\"test_loss\") \n",
    "plt.legend() "
   ]
  },
  {
   "cell_type": "markdown",
   "id": "459d3ab0",
   "metadata": {},
   "source": [
    "### Predicting the model\n"
   ]
  },
  {
   "cell_type": "code",
   "execution_count": 31,
   "id": "ac6e5175",
   "metadata": {},
   "outputs": [
    {
     "name": "stdout",
     "output_type": "stream",
     "text": [
      "1/1 [==============================] - 0s 100ms/step\n"
     ]
    },
    {
     "data": {
      "text/plain": [
       "array([[0.07035396],\n",
       "       [0.8021627 ],\n",
       "       [0.0912716 ],\n",
       "       [0.02437679],\n",
       "       [0.19431785],\n",
       "       [0.99753445],\n",
       "       [0.04642332],\n",
       "       [0.03385224],\n",
       "       [0.97534865],\n",
       "       [0.9952957 ]], dtype=float32)"
      ]
     },
     "execution_count": 31,
     "metadata": {},
     "output_type": "execute_result"
    }
   ],
   "source": [
    "predicted=model.predict(x_test) \n",
    "predicted "
   ]
  },
  {
   "cell_type": "code",
   "execution_count": 32,
   "id": "00ff2a87",
   "metadata": {},
   "outputs": [
    {
     "data": {
      "text/plain": [
       "array([[0],\n",
       "       [1],\n",
       "       [0],\n",
       "       [0],\n",
       "       [0],\n",
       "       [1],\n",
       "       [0],\n",
       "       [0],\n",
       "       [1],\n",
       "       [1]])"
      ]
     },
     "execution_count": 32,
     "metadata": {},
     "output_type": "execute_result"
    }
   ],
   "source": [
    "predicted=np.where(predicted>0.5,1,0)\n",
    "predicted  "
   ]
  },
  {
   "cell_type": "markdown",
   "id": "4c222511",
   "metadata": {},
   "source": [
    "### Evaluating the model "
   ]
  },
  {
   "cell_type": "code",
   "execution_count": 37,
   "id": "d95042c5",
   "metadata": {},
   "outputs": [
    {
     "name": "stdout",
     "output_type": "stream",
     "text": [
      "1.0\n"
     ]
    }
   ],
   "source": [
    "from sklearn.metrics import accuracy_score,confusion_matrix,ConfusionMatrixDisplay\n",
    "print(accuracy_score(y_test,predicted))"
   ]
  },
  {
   "cell_type": "code",
   "execution_count": 38,
   "id": "6844fd94-758a-4aaa-990c-cd7582cb37f8",
   "metadata": {},
   "outputs": [
    {
     "data": {
      "image/png": "[encoded data removed]",
      "text/plain": [
       "<Figure size 640x480 with 2 Axes>"
      ]
     },
     "metadata": {},
     "output_type": "display_data"
    }
   ],
   "source": [
    "cm=confusion_matrix(y_test,predicted)\n",
    "va=ConfusionMatrixDisplay(cm)\n",
    "va.plot() \n",
    "plt.show() "
   ]
  },
  {
   "cell_type": "markdown",
   "id": "df82e05c",
   "metadata": {},
   "source": [
    "### PLOTING THE DECISION SURFACE"
   ]
  },
  {
   "cell_type": "code",
   "execution_count": 34,
   "id": "9339a069",
   "metadata": {},
   "outputs": [],
   "source": [
    "from mlxtend.plotting  import plot_decision_regions "
   ]
  },
  {
   "cell_type": "code",
   "execution_count": 35,
   "id": "e295f772",
   "metadata": {},
   "outputs": [
    {
     "name": "stdout",
     "output_type": "stream",
     "text": [
      "9600/9600 [==============================] - 16s 2ms/step\n"
     ]
    },
    {
     "data": {
      "text/plain": [
       "<Axes: >"
      ]
     },
     "execution_count": 35,
     "metadata": {},
     "output_type": "execute_result"
    },
    {
     "data": {
      "image/png": "[encoded data removed]",
      "text/plain": [
       "<Figure size 640x480 with 1 Axes>"
      ]
     },
     "metadata": {},
     "output_type": "display_data"
    }
   ],
   "source": [
    "plot_decision_regions(x_train,y_train.values,clf=model) "
   ]
  },
  {
   "cell_type": "code",
   "execution_count": 36,
   "id": "63eb6fe3",
   "metadata": {},
   "outputs": [
    {
     "name": "stdout",
     "output_type": "stream",
     "text": [
      "9600/9600 [==============================] - 19s 2ms/step\n"
     ]
    },
    {
     "data": {
      "text/plain": [
       "<Axes: >"
      ]
     },
     "execution_count": 36,
     "metadata": {},
     "output_type": "execute_result"
    },
    {
     "data": {
      "image/png": "[encoded data removed]",
      "text/plain": [
       "<Figure size 640x480 with 1 Axes>"
      ]
     },
     "metadata": {},
     "output_type": "display_data"
    }
   ],
   "source": [
    "plot_decision_regions(x_test,y_test.values,clf=model) "
   ]
  },
  {
   "cell_type": "markdown",
   "id": "c37af396",
   "metadata": {},
   "source": [
    "### Conclusions:"
   ]
  },
  {
   "cell_type": "markdown",
   "id": "75366b74",
   "metadata": {},
   "source": [
    "###### This neural network model achieves an accuracy of 100%. \n",
    "- The model architecture consists of 4 hidden layers with the following specifications:\n",
    "\n",
    "- In the first hidden layer, there are 18 neurons with the ReLU activation function and an L2 regularizer with a strength of 0.001.\n",
    "- In the second hidden layer, there are 16 neurons with the ReLU activation function and an L2 regularizer with a strength of 0.001.\n",
    "- In the third hidden layer, there are 12 neurons with the ReLU activation function and an L2 regularizer with a strength of 0.001.\n",
    "- In the fourth hidden layer, there are 8 neurons with the ReLU activation function and an L2 regularizer with a strength of 0.001.\n",
    "\n",
    "#### The output layer uses the sigmoid activation function.\n",
    "\n",
    "### In model compilation,\n",
    "- Loss function: Binary cross-entropy.\n",
    "- Optimizer: Stochastic Gradient Descent (SGD) with a batch size of 5 and a learning rate of 0.01.\n",
    "- The model was trained for 40 epochs.\n",
    "\n",
    "#### Overall, this neural network model architecture and training configuration achieve an accuracy of 100%."
   ]
  },
  {
   "cell_type": "code",
   "execution_count": null,
   "id": "fd1f09a5",
   "metadata": {},
   "outputs": [],
   "source": []
  },
  {
   "cell_type": "code",
   "execution_count": null,
   "id": "00a19049-7ea2-441e-9e34-0c34bc5ad268",
   "metadata": {},
   "outputs": [],
   "source": []
  }
 ],
 "metadata": {
  "kernelspec": {
   "display_name": "Python 3 (ipykernel)",
   "language": "python",
   "name": "python3"
  },
  "language_info": {
   "codemirror_mode": {
    "name": "ipython",
    "version": 3
   },
   "file_extension": ".py",
   "mimetype": "text/x-python",
   "name": "python",
   "nbconvert_exporter": "python",
   "pygments_lexer": "ipython3",
   "version": "3.9.13"
  }
 },
 "nbformat": 4,
 "nbformat_minor": 5
}
