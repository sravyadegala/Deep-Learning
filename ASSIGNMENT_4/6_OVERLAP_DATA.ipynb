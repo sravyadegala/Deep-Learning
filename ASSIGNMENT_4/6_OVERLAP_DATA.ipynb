{
 "cells": [
  {
   "cell_type": "markdown",
   "id": "63821759",
   "metadata": {},
   "source": [
    "## Importing Libraries "
   ]
  },
  {
   "cell_type": "code",
   "execution_count": 1,
   "id": "026414a5",
   "metadata": {},
   "outputs": [],
   "source": [
    "import numpy as np\n",
    "import pandas as pd  \n",
    "import matplotlib.pyplot as plt \n",
    "import seaborn as sns  "
   ]
  },
  {
   "cell_type": "markdown",
   "id": "93377503",
   "metadata": {},
   "source": [
    "## Loading the CSV file"
   ]
  },
  {
   "cell_type": "code",
   "execution_count": 2,
   "id": "9b86371a",
   "metadata": {},
   "outputs": [
    {
     "data": {
      "text/html": [
       "<div>\n",
       "<style scoped>\n",
       "    .dataframe tbody tr th:only-of-type {\n",
       "        vertical-align: middle;\n",
       "    }\n",
       "\n",
       "    .dataframe tbody tr th {\n",
       "        vertical-align: top;\n",
       "    }\n",
       "\n",
       "    .dataframe thead th {\n",
       "        text-align: right;\n",
       "    }\n",
       "</style>\n",
       "<table border=\"1\" class=\"dataframe\">\n",
       "  <thead>\n",
       "    <tr style=\"text-align: right;\">\n",
       "      <th></th>\n",
       "      <th>0</th>\n",
       "      <th>1</th>\n",
       "      <th>2</th>\n",
       "    </tr>\n",
       "  </thead>\n",
       "  <tbody>\n",
       "    <tr>\n",
       "      <th>0</th>\n",
       "      <td>7.0</td>\n",
       "      <td>3.2</td>\n",
       "      <td>0</td>\n",
       "    </tr>\n",
       "    <tr>\n",
       "      <th>1</th>\n",
       "      <td>6.4</td>\n",
       "      <td>3.2</td>\n",
       "      <td>0</td>\n",
       "    </tr>\n",
       "    <tr>\n",
       "      <th>2</th>\n",
       "      <td>6.9</td>\n",
       "      <td>3.1</td>\n",
       "      <td>0</td>\n",
       "    </tr>\n",
       "    <tr>\n",
       "      <th>3</th>\n",
       "      <td>5.5</td>\n",
       "      <td>2.3</td>\n",
       "      <td>0</td>\n",
       "    </tr>\n",
       "    <tr>\n",
       "      <th>4</th>\n",
       "      <td>6.5</td>\n",
       "      <td>2.8</td>\n",
       "      <td>0</td>\n",
       "    </tr>\n",
       "  </tbody>\n",
       "</table>\n",
       "</div>"
      ],
      "text/plain": [
       "     0    1  2\n",
       "0  7.0  3.2  0\n",
       "1  6.4  3.2  0\n",
       "2  6.9  3.1  0\n",
       "3  5.5  2.3  0\n",
       "4  6.5  2.8  0"
      ]
     },
     "execution_count": 2,
     "metadata": {},
     "output_type": "execute_result"
    }
   ],
   "source": [
    "df=pd.read_csv(r\"Multiple CSV\\6.overlap.csv\",header=None) \n",
    "df.head() "
   ]
  },
  {
   "cell_type": "code",
   "execution_count": 3,
   "id": "2353642a",
   "metadata": {},
   "outputs": [
    {
     "name": "stdout",
     "output_type": "stream",
     "text": [
      "<class 'pandas.core.frame.DataFrame'>\n",
      "RangeIndex: 100 entries, 0 to 99\n",
      "Data columns (total 3 columns):\n",
      " #   Column  Non-Null Count  Dtype  \n",
      "---  ------  --------------  -----  \n",
      " 0   0       100 non-null    float64\n",
      " 1   1       100 non-null    float64\n",
      " 2   2       100 non-null    int64  \n",
      "dtypes: float64(2), int64(1)\n",
      "memory usage: 2.5 KB\n"
     ]
    }
   ],
   "source": [
    "df.info()  "
   ]
  },
  {
   "cell_type": "code",
   "execution_count": 4,
   "id": "31c482d4",
   "metadata": {},
   "outputs": [
    {
     "data": {
      "text/plain": [
       "2\n",
       "0    50\n",
       "1    50\n",
       "Name: count, dtype: int64"
      ]
     },
     "execution_count": 4,
     "metadata": {},
     "output_type": "execute_result"
    }
   ],
   "source": [
    "# Checking whether target variable is imbalanced or not\n",
    "df[2].value_counts()   "
   ]
  },
  {
   "cell_type": "code",
   "execution_count": 5,
   "id": "c51a27d9",
   "metadata": {},
   "outputs": [
    {
     "data": {
      "text/plain": [
       "<Axes: ylabel='0'>"
      ]
     },
     "execution_count": 5,
     "metadata": {},
     "output_type": "execute_result"
    },
    {
     "data": {
      "image/png": "[encoded data removed]",
      "text/plain": [
       "<Figure size 640x480 with 1 Axes>"
      ]
     },
     "metadata": {},
     "output_type": "display_data"
    }
   ],
   "source": [
    "## Identifying outliers \n",
    "sns.boxplot(df[0])  "
   ]
  },
  {
   "cell_type": "code",
   "execution_count": 6,
   "id": "9875ee44",
   "metadata": {},
   "outputs": [
    {
     "data": {
      "text/plain": [
       "<Axes: ylabel='1'>"
      ]
     },
     "execution_count": 6,
     "metadata": {},
     "output_type": "execute_result"
    },
    {
     "data": {
      "image/png": "[encoded data removed]",
      "text/plain": [
       "<Figure size 640x480 with 1 Axes>"
      ]
     },
     "metadata": {},
     "output_type": "display_data"
    }
   ],
   "source": [
    "sns.boxplot(df[1]) "
   ]
  },
  {
   "cell_type": "code",
   "execution_count": 7,
   "id": "5a240123",
   "metadata": {},
   "outputs": [],
   "source": [
    "# removing the outliers\n",
    "df=df[(df[1]<3.50)&(df[1]>2.25)]  "
   ]
  },
  {
   "cell_type": "code",
   "execution_count": 8,
   "id": "81d0e429",
   "metadata": {},
   "outputs": [
    {
     "name": "stdout",
     "output_type": "stream",
     "text": [
      "<class 'pandas.core.frame.DataFrame'>\n",
      "Index: 93 entries, 0 to 99\n",
      "Data columns (total 3 columns):\n",
      " #   Column  Non-Null Count  Dtype  \n",
      "---  ------  --------------  -----  \n",
      " 0   0       93 non-null     float64\n",
      " 1   1       93 non-null     float64\n",
      " 2   2       93 non-null     int64  \n",
      "dtypes: float64(2), int64(1)\n",
      "memory usage: 2.9 KB\n"
     ]
    }
   ],
   "source": [
    "df.info() "
   ]
  },
  {
   "cell_type": "code",
   "execution_count": 9,
   "id": "73387b35",
   "metadata": {},
   "outputs": [
    {
     "data": {
      "text/plain": [
       "<Axes: ylabel='1'>"
      ]
     },
     "execution_count": 9,
     "metadata": {},
     "output_type": "execute_result"
    },
    {
     "data": {
      "image/png": "[encoded data removed]",
      "text/plain": [
       "<Figure size 640x480 with 1 Axes>"
      ]
     },
     "metadata": {},
     "output_type": "display_data"
    }
   ],
   "source": [
    "sns.boxplot(df[1])  "
   ]
  },
  {
   "cell_type": "markdown",
   "id": "24badc69-f5f6-425e-a8c6-f02a93e6079b",
   "metadata": {},
   "source": [
    "**Observation:**\n",
    "- identified outliers and removed the outliers by using condition and after removing outliers, each column contains 93 data points."
   ]
  },
  {
   "cell_type": "markdown",
   "id": "f0c7d6ad",
   "metadata": {},
   "source": [
    "## Identifying the Input and Output Features"
   ]
  },
  {
   "cell_type": "code",
   "execution_count": 10,
   "id": "97772e3b",
   "metadata": {},
   "outputs": [],
   "source": [
    "x=df.iloc[:,0:2]\n",
    "y=df.iloc[:,2]  "
   ]
  },
  {
   "cell_type": "markdown",
   "id": "7085c160",
   "metadata": {},
   "source": [
    "## Spliting the data into train and test"
   ]
  },
  {
   "cell_type": "code",
   "execution_count": 11,
   "id": "165195b9",
   "metadata": {},
   "outputs": [],
   "source": [
    "from sklearn.model_selection import train_test_split\n",
    "x_train,x_test,y_train,y_test=train_test_split(x,y,test_size=0.1) "
   ]
  },
  {
   "cell_type": "markdown",
   "id": "68c957a8",
   "metadata": {},
   "source": [
    "## Standardizing input features "
   ]
  },
  {
   "cell_type": "code",
   "execution_count": 12,
   "id": "f7de64bb",
   "metadata": {},
   "outputs": [],
   "source": [
    "from sklearn.preprocessing import StandardScaler\n",
    "std=StandardScaler()\n",
    "x_train=std.fit_transform(x_train)\n",
    "x_test=std.transform(x_test) "
   ]
  },
  {
   "cell_type": "markdown",
   "id": "cd39ff11",
   "metadata": {},
   "source": [
    "## Building the Logical Structure "
   ]
  },
  {
   "cell_type": "code",
   "execution_count": 13,
   "id": "52cf1006-eaa3-40dd-9c88-0ce56c44ffcb",
   "metadata": {},
   "outputs": [],
   "source": [
    "from keras import Sequential \n",
    "from keras.layers import Dense, BatchNormalization \n",
    "from keras.regularizers import L1,L2,L1L2 \n",
    "from keras.optimizers import SGD  "
   ]
  },
  {
   "cell_type": "code",
   "execution_count": 79,
   "id": "6eefa6c3",
   "metadata": {},
   "outputs": [],
   "source": [
    "model=Sequential()\n",
    "model.add(Dense(12,activation=\"relu\",kernel_regularizer=L2(0.01),bias_regularizer=L2(0.01),input_dim=2))\n",
    "model.add(Dense(10,activation=\"relu\",kernel_regularizer=L2(0.01),bias_regularizer=L2(0.01)))\n",
    "model.add(BatchNormalization())\n",
    "model.add(Dense(8,activation=\"relu\",kernel_regularizer=L2(0.01),bias_regularizer=L2(0.01)))\n",
    "model.add(Dense(1,activation=\"sigmoid\")) "
   ]
  },
  {
   "cell_type": "markdown",
   "id": "7f09daea-3f9f-4ad1-a362-3ff13d7fd141",
   "metadata": {},
   "source": [
    "**Observation:**\n",
    "- As the data is much complex, relu activation function is used.\n",
    "- As model is overfitting, Regularization is used as Lasso with 0.01 learning rate.\n",
    "- Even though regularization is used still model is overfitting so batch normalization is used.\n",
    "- As target variable contains binary class, In output layer i have used sigmoid as activation function."
   ]
  },
  {
   "cell_type": "code",
   "execution_count": 80,
   "id": "7c47044d",
   "metadata": {},
   "outputs": [
    {
     "name": "stdout",
     "output_type": "stream",
     "text": [
      "Model: \"sequential_8\"\n",
      "_________________________________________________________________\n",
      " Layer (type)                Output Shape              Param #   \n",
      "=================================================================\n",
      " dense_32 (Dense)            (None, 12)                36        \n",
      "                                                                 \n",
      " dense_33 (Dense)            (None, 10)                130       \n",
      "                                                                 \n",
      " batch_normalization_13 (Ba  (None, 10)                40        \n",
      " tchNormalization)                                               \n",
      "                                                                 \n",
      " dense_34 (Dense)            (None, 8)                 88        \n",
      "                                                                 \n",
      " dense_35 (Dense)            (None, 1)                 9         \n",
      "                                                                 \n",
      "=================================================================\n",
      "Total params: 303 (1.18 KB)\n",
      "Trainable params: 283 (1.11 KB)\n",
      "Non-trainable params: 20 (80.00 Byte)\n",
      "_________________________________________________________________\n"
     ]
    }
   ],
   "source": [
    "model.summary() "
   ]
  },
  {
   "cell_type": "markdown",
   "id": "8c9101e2",
   "metadata": {},
   "source": [
    "## compiling the model"
   ]
  },
  {
   "cell_type": "code",
   "execution_count": 81,
   "id": "59cf5dde",
   "metadata": {},
   "outputs": [
    {
     "name": "stdout",
     "output_type": "stream",
     "text": [
      "Epoch 1/25\n",
      "5/5 [==============================] - 1s 56ms/step - loss: 1.1833 - accuracy: 0.4189 - val_loss: 0.9283 - val_accuracy: 0.6667\n",
      "Epoch 2/25\n",
      "5/5 [==============================] - 0s 14ms/step - loss: 1.1130 - accuracy: 0.4730 - val_loss: 0.9219 - val_accuracy: 0.6667\n",
      "Epoch 3/25\n",
      "5/5 [==============================] - 0s 13ms/step - loss: 1.0564 - accuracy: 0.4865 - val_loss: 0.9161 - val_accuracy: 0.5556\n",
      "Epoch 4/25\n",
      "5/5 [==============================] - 0s 13ms/step - loss: 1.0203 - accuracy: 0.4459 - val_loss: 0.9104 - val_accuracy: 0.5556\n",
      "Epoch 5/25\n",
      "5/5 [==============================] - 0s 15ms/step - loss: 0.9745 - accuracy: 0.5000 - val_loss: 0.9064 - val_accuracy: 0.5556\n",
      "Epoch 6/25\n",
      "5/5 [==============================] - 0s 14ms/step - loss: 0.9474 - accuracy: 0.5270 - val_loss: 0.9026 - val_accuracy: 0.5556\n",
      "Epoch 7/25\n",
      "5/5 [==============================] - 0s 12ms/step - loss: 0.9144 - accuracy: 0.5270 - val_loss: 0.8990 - val_accuracy: 0.5556\n",
      "Epoch 8/25\n",
      "5/5 [==============================] - 0s 12ms/step - loss: 0.9009 - accuracy: 0.5541 - val_loss: 0.8955 - val_accuracy: 0.5556\n",
      "Epoch 9/25\n",
      "5/5 [==============================] - 0s 13ms/step - loss: 0.8831 - accuracy: 0.6351 - val_loss: 0.8933 - val_accuracy: 0.5556\n",
      "Epoch 10/25\n",
      "5/5 [==============================] - 0s 12ms/step - loss: 0.8650 - accuracy: 0.6216 - val_loss: 0.8915 - val_accuracy: 0.5556\n",
      "Epoch 11/25\n",
      "5/5 [==============================] - 0s 14ms/step - loss: 0.8618 - accuracy: 0.6081 - val_loss: 0.8908 - val_accuracy: 0.5556\n",
      "Epoch 12/25\n",
      "5/5 [==============================] - 0s 16ms/step - loss: 0.8563 - accuracy: 0.6216 - val_loss: 0.8896 - val_accuracy: 0.5556\n",
      "Epoch 13/25\n",
      "5/5 [==============================] - 0s 15ms/step - loss: 0.8497 - accuracy: 0.6216 - val_loss: 0.8879 - val_accuracy: 0.5556\n",
      "Epoch 14/25\n",
      "5/5 [==============================] - 0s 12ms/step - loss: 0.8523 - accuracy: 0.5811 - val_loss: 0.8860 - val_accuracy: 0.5556\n",
      "Epoch 15/25\n",
      "5/5 [==============================] - 0s 19ms/step - loss: 0.8489 - accuracy: 0.6757 - val_loss: 0.8837 - val_accuracy: 0.6667\n",
      "Epoch 16/25\n",
      "5/5 [==============================] - 0s 16ms/step - loss: 0.8238 - accuracy: 0.6757 - val_loss: 0.8814 - val_accuracy: 0.6667\n",
      "Epoch 17/25\n",
      "5/5 [==============================] - 0s 14ms/step - loss: 0.8270 - accuracy: 0.6622 - val_loss: 0.8794 - val_accuracy: 0.6667\n",
      "Epoch 18/25\n",
      "5/5 [==============================] - 0s 15ms/step - loss: 0.8285 - accuracy: 0.6351 - val_loss: 0.8776 - val_accuracy: 0.7778\n",
      "Epoch 19/25\n",
      "5/5 [==============================] - 0s 12ms/step - loss: 0.7976 - accuracy: 0.6622 - val_loss: 0.8755 - val_accuracy: 0.7778\n",
      "Epoch 20/25\n",
      "5/5 [==============================] - 0s 13ms/step - loss: 0.8139 - accuracy: 0.6486 - val_loss: 0.8739 - val_accuracy: 0.6667\n",
      "Epoch 21/25\n",
      "5/5 [==============================] - 0s 15ms/step - loss: 0.8165 - accuracy: 0.6486 - val_loss: 0.8720 - val_accuracy: 0.6667\n",
      "Epoch 22/25\n",
      "5/5 [==============================] - 0s 14ms/step - loss: 0.8306 - accuracy: 0.5946 - val_loss: 0.8703 - val_accuracy: 0.6667\n",
      "Epoch 23/25\n",
      "5/5 [==============================] - 0s 15ms/step - loss: 0.8053 - accuracy: 0.6892 - val_loss: 0.8689 - val_accuracy: 0.6667\n",
      "Epoch 24/25\n",
      "5/5 [==============================] - 0s 14ms/step - loss: 0.8092 - accuracy: 0.7162 - val_loss: 0.8671 - val_accuracy: 0.6667\n",
      "Epoch 25/25\n",
      "5/5 [==============================] - 0s 13ms/step - loss: 0.8064 - accuracy: 0.6351 - val_loss: 0.8656 - val_accuracy: 0.6667\n"
     ]
    }
   ],
   "source": [
    "model.compile(loss=\"binary_crossentropy\",optimizer=SGD(0.01),metrics=[\"accuracy\"])\n",
    "history=model.fit(x_train,y_train,batch_size=15,epochs=25,validation_split=0.1) "
   ]
  },
  {
   "cell_type": "code",
   "execution_count": 82,
   "id": "11c69036",
   "metadata": {},
   "outputs": [
    {
     "data": {
      "text/plain": [
       "<matplotlib.legend.Legend at 0x17d450dba90>"
      ]
     },
     "execution_count": 82,
     "metadata": {},
     "output_type": "execute_result"
    },
    {
     "data": {
      "image/png": "[encoded data removed]",
      "text/plain": [
       "<Figure size 640x480 with 1 Axes>"
      ]
     },
     "metadata": {},
     "output_type": "display_data"
    }
   ],
   "source": [
    "plt.plot(range(1,26),history.history[\"loss\"],label=\"train_loss\")\n",
    "plt.plot(range(1,26),history.history[\"val_loss\"],label=\"test_loss\") \n",
    "plt.legend()  "
   ]
  },
  {
   "cell_type": "markdown",
   "id": "54c8512b",
   "metadata": {},
   "source": [
    "## Predicting the model "
   ]
  },
  {
   "cell_type": "code",
   "execution_count": 83,
   "id": "e759e790",
   "metadata": {},
   "outputs": [
    {
     "name": "stdout",
     "output_type": "stream",
     "text": [
      "1/1 [==============================] - 0s 79ms/step\n"
     ]
    },
    {
     "data": {
      "text/plain": [
       "array([[0.4806536 ],\n",
       "       [0.48419282],\n",
       "       [0.48147634],\n",
       "       [0.4886672 ],\n",
       "       [0.535774  ],\n",
       "       [0.60444635],\n",
       "       [0.49150488],\n",
       "       [0.570389  ],\n",
       "       [0.5295907 ],\n",
       "       [0.5295907 ]], dtype=float32)"
      ]
     },
     "execution_count": 83,
     "metadata": {},
     "output_type": "execute_result"
    }
   ],
   "source": [
    "predicted=model.predict(x_test) \n",
    "predicted  "
   ]
  },
  {
   "cell_type": "code",
   "execution_count": 84,
   "id": "a4b7305b",
   "metadata": {},
   "outputs": [
    {
     "data": {
      "text/plain": [
       "array([[0],\n",
       "       [0],\n",
       "       [0],\n",
       "       [0],\n",
       "       [1],\n",
       "       [1],\n",
       "       [0],\n",
       "       [1],\n",
       "       [1],\n",
       "       [1]])"
      ]
     },
     "execution_count": 84,
     "metadata": {},
     "output_type": "execute_result"
    }
   ],
   "source": [
    "predicted=np.where(predicted>0.5,1,0)\n",
    "predicted  "
   ]
  },
  {
   "cell_type": "markdown",
   "id": "fb83a151",
   "metadata": {},
   "source": [
    "## Evaluating the model"
   ]
  },
  {
   "cell_type": "code",
   "execution_count": 85,
   "id": "6ccbee42",
   "metadata": {},
   "outputs": [
    {
     "name": "stdout",
     "output_type": "stream",
     "text": [
      "0.8\n"
     ]
    }
   ],
   "source": [
    "from sklearn.metrics import accuracy_score,confusion_matrix,ConfusionMatrixDisplay\n",
    "print(accuracy_score(y_test,predicted))\n",
    " "
   ]
  },
  {
   "cell_type": "code",
   "execution_count": 86,
   "id": "9b02c149-f868-430e-ae2b-e021067cce2b",
   "metadata": {},
   "outputs": [
    {
     "data": {
      "image/png": "[encoded data removed]",
      "text/plain": [
       "<Figure size 640x480 with 2 Axes>"
      ]
     },
     "metadata": {},
     "output_type": "display_data"
    }
   ],
   "source": [
    "cm=confusion_matrix(y_test,predicted)\n",
    "va=ConfusionMatrixDisplay(cm)\n",
    "va.plot() \n",
    "plt.show()"
   ]
  },
  {
   "cell_type": "markdown",
   "id": "6c9ec729",
   "metadata": {},
   "source": [
    "## PLOTING THE DECISION SURFACE"
   ]
  },
  {
   "cell_type": "code",
   "execution_count": 87,
   "id": "dfefccd5",
   "metadata": {},
   "outputs": [],
   "source": [
    "from mlxtend.plotting  import plot_decision_regions "
   ]
  },
  {
   "cell_type": "code",
   "execution_count": 88,
   "id": "97a6c8d1",
   "metadata": {},
   "outputs": [
    {
     "name": "stdout",
     "output_type": "stream",
     "text": [
      "9600/9600 [==============================] - 16s 2ms/step\n"
     ]
    },
    {
     "data": {
      "text/plain": [
       "<Axes: >"
      ]
     },
     "execution_count": 88,
     "metadata": {},
     "output_type": "execute_result"
    },
    {
     "data": {
      "image/png": "[encoded data removed]",
      "text/plain": [
       "<Figure size 640x480 with 1 Axes>"
      ]
     },
     "metadata": {},
     "output_type": "display_data"
    }
   ],
   "source": [
    "plot_decision_regions(x_train,y_train.values,clf=model)  "
   ]
  },
  {
   "cell_type": "code",
   "execution_count": 89,
   "id": "29817b68",
   "metadata": {},
   "outputs": [
    {
     "name": "stdout",
     "output_type": "stream",
     "text": [
      "9600/9600 [==============================] - 17s 2ms/step\n"
     ]
    },
    {
     "data": {
      "text/plain": [
       "<Axes: >"
      ]
     },
     "execution_count": 89,
     "metadata": {},
     "output_type": "execute_result"
    },
    {
     "data": {
      "image/png": "[encoded data removed]",
      "text/plain": [
       "<Figure size 640x480 with 1 Axes>"
      ]
     },
     "metadata": {},
     "output_type": "display_data"
    }
   ],
   "source": [
    "plot_decision_regions(x_test,y_test.values,clf=model)"
   ]
  },
  {
   "cell_type": "markdown",
   "id": "df91bf4f",
   "metadata": {},
   "source": [
    "## Conclusions:\n",
    "\n",
    "###### This neural network model achieves an accuracy of 80%. \n",
    "\n",
    "- The model architecture consists of 3 hidden layers with the following specifications:\n",
    "\n",
    "- In the first hidden layer, there are 12 neurons with the relu activation function\n",
    "- In the second hidden layer, there are 10 neurons with the relu activation function\n",
    "- In the third hidden layer, there are 8 neurons with the relu activation function \n",
    "\n",
    "###### The output layer uses the sigmoid activation function.\n",
    "\n",
    "##### For model compilation, the following settings were used:\n",
    "\n",
    "###### Loss function: Binary cross-entropy.\n",
    "- Optimizer: Stochastic Gradient Descent (SGD) with a batch size of 15 and a learning rate of 0.01.\n",
    "- The model was trained for 25 epochs.\n",
    " \n",
    "###### Overall, this neural network model architecture and training configuration achieve an accuracy of 80%.   "
   ]
  },
  {
   "cell_type": "code",
   "execution_count": null,
   "id": "355183b4",
   "metadata": {},
   "outputs": [],
   "source": []
  }
 ],
 "metadata": {
  "kernelspec": {
   "display_name": "Python 3 (ipykernel)",
   "language": "python",
   "name": "python3"
  },
  "language_info": {
   "codemirror_mode": {
    "name": "ipython",
    "version": 3
   },
   "file_extension": ".py",
   "mimetype": "text/x-python",
   "name": "python",
   "nbconvert_exporter": "python",
   "pygments_lexer": "ipython3",
   "version": "3.9.13"
  }
 },
 "nbformat": 4,
 "nbformat_minor": 5
}
