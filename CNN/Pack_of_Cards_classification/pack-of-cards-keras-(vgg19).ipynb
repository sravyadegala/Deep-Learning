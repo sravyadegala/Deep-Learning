{
 "cells": [
  {
   "cell_type": "code",
   "execution_count": 55,
   "metadata": {
    "execution": {
     "iopub.execute_input": "2023-12-05T09:41:38.848630Z",
     "iopub.status.busy": "2023-12-05T09:41:38.847110Z",
     "iopub.status.idle": "2023-12-05T09:41:38.858558Z",
     "shell.execute_reply": "2023-12-05T09:41:38.857298Z",
     "shell.execute_reply.started": "2023-12-05T09:41:38.848573Z"
    }
   },
   "outputs": [],
   "source": [
    "# Importing Required Libraries\n",
    "import cv2 \n",
    "import numpy as np\n",
    "import tensorflow \n",
    "import keras \n",
    "import matplotlib.pyplot as plt \n",
    "import keras_tuner as kt\n",
    "from tensorflow.keras.models import load_model\n",
    "from keras.layers import Activation\n",
    "\n",
    "from tensorflow.keras.optimizers import Adam, SGD, RMSprop, Adadelta, Adamax\n",
    "from tensorflow.keras import regularizers\n",
    "from keras.models import Model,Sequential \n",
    "from keras.preprocessing.image import ImageDataGenerator\n",
    "from keras.layers import Dense, Dropout, BatchNormalization, Input, Flatten, Conv2D, MaxPooling2D\n",
    "from keras.applications import ResNet50, VGG16,VGG19, MobileNet\n",
    "from keras.applications.efficientnet import EfficientNetB0, EfficientNetB3\n",
    "from keras.callbacks import EarlyStopping,ModelCheckpoint,CSVLogger,TensorBoard, ReduceLROnPlateau"
   ]
  },
  {
   "cell_type": "code",
   "execution_count": 3,
   "metadata": {
    "execution": {
     "iopub.execute_input": "2023-12-05T03:52:25.842528Z",
     "iopub.status.busy": "2023-12-05T03:52:25.842139Z",
     "iopub.status.idle": "2023-12-05T03:52:25.847726Z",
     "shell.execute_reply": "2023-12-05T03:52:25.846841Z",
     "shell.execute_reply.started": "2023-12-05T03:52:25.842497Z"
    }
   },
   "outputs": [],
   "source": [
    "# Generators\n",
    "train = ImageDataGenerator(rotation_range=90,horizontal_flip = True, vertical_flip =True, rescale = 1./255, shear_range = 0.2,\n",
    "                                   zoom_range = 0.2)\n",
    "valid = ImageDataGenerator(rescale = 1./255)\n",
    "\n",
    "test = ImageDataGenerator(rescale = 1./255)"
   ]
  },
  {
   "cell_type": "code",
   "execution_count": 4,
   "metadata": {
    "execution": {
     "iopub.execute_input": "2023-12-05T03:52:46.535167Z",
     "iopub.status.busy": "2023-12-05T03:52:46.534797Z",
     "iopub.status.idle": "2023-12-05T03:52:47.083323Z",
     "shell.execute_reply": "2023-12-05T03:52:47.082413Z",
     "shell.execute_reply.started": "2023-12-05T03:52:46.535137Z"
    }
   },
   "outputs": [
    {
     "name": "stdout",
     "output_type": "stream",
     "text": [
      "Found 7624 images belonging to 53 classes.\n",
      "Found 265 images belonging to 53 classes.\n",
      "Found 265 images belonging to 53 classes.\n"
     ]
    }
   ],
   "source": [
    "training = train.flow_from_directory(r'/kaggle/input/cards-image-datasetclassification/train', target_size = (224,224),class_mode = 'sparse',batch_size=32)\n",
    "validation = valid.flow_from_directory(r'/kaggle/input/cards-image-datasetclassification/valid',target_size = (224,224),class_mode = 'sparse',batch_size = 32)\n",
    "testing = test.flow_from_directory(r'/kaggle/input/cards-image-datasetclassification/test', target_size = (224,224),class_mode = 'sparse',batch_size=32)"
   ]
  },
  {
   "cell_type": "markdown",
   "metadata": {},
   "source": [
    "## VGG19 Architecture"
   ]
  },
  {
   "cell_type": "code",
   "execution_count": 6,
   "metadata": {
    "execution": {
     "iopub.execute_input": "2023-12-05T03:53:12.489217Z",
     "iopub.status.busy": "2023-12-05T03:53:12.488855Z",
     "iopub.status.idle": "2023-12-05T03:53:12.911603Z",
     "shell.execute_reply": "2023-12-05T03:53:12.910698Z",
     "shell.execute_reply.started": "2023-12-05T03:53:12.489186Z"
    }
   },
   "outputs": [
    {
     "name": "stdout",
     "output_type": "stream",
     "text": [
      "input_2 True\n",
      "block1_conv1 False\n",
      "block1_conv2 False\n",
      "block1_pool False\n",
      "block2_conv1 True\n",
      "block2_conv2 True\n",
      "block2_pool True\n",
      "block3_conv1 True\n",
      "block3_conv2 True\n",
      "block3_conv3 True\n",
      "block3_conv4 True\n",
      "block3_pool True\n",
      "block4_conv1 True\n",
      "block4_conv2 True\n",
      "block4_conv3 True\n",
      "block4_conv4 True\n",
      "block4_pool True\n",
      "block5_conv1 True\n",
      "block5_conv2 True\n",
      "block5_conv3 True\n",
      "block5_conv4 True\n",
      "block5_pool True\n"
     ]
    }
   ],
   "source": [
    "# CNN Architecture \n",
    "vgg = VGG19(include_top=False,\n",
    "    weights='imagenet',input_shape=(224,224,3))\n",
    "\n",
    "vgg.trainable=False\n",
    "\n",
    "for i in vgg.layers:\n",
    "    if i.name.startswith('block1_'):\n",
    "        i.trainable=False\n",
    "    else:\n",
    "        i.trainable=True\n",
    "for i in vgg.layers:\n",
    "    print(i.name, i.trainable)"
   ]
  },
  {
   "cell_type": "code",
   "execution_count": 7,
   "metadata": {
    "execution": {
     "iopub.execute_input": "2023-12-05T03:53:16.767298Z",
     "iopub.status.busy": "2023-12-05T03:53:16.766651Z",
     "iopub.status.idle": "2023-12-05T03:53:16.819106Z",
     "shell.execute_reply": "2023-12-05T03:53:16.818136Z",
     "shell.execute_reply.started": "2023-12-05T03:53:16.767245Z"
    }
   },
   "outputs": [
    {
     "name": "stdout",
     "output_type": "stream",
     "text": [
      "Model: \"vgg19\"\n",
      "_________________________________________________________________\n",
      " Layer (type)                Output Shape              Param #   \n",
      "=================================================================\n",
      " input_2 (InputLayer)        [(None, 224, 224, 3)]     0         \n",
      "                                                                 \n",
      " block1_conv1 (Conv2D)       (None, 224, 224, 64)      1792      \n",
      "                                                                 \n",
      " block1_conv2 (Conv2D)       (None, 224, 224, 64)      36928     \n",
      "                                                                 \n",
      " block1_pool (MaxPooling2D)  (None, 112, 112, 64)      0         \n",
      "                                                                 \n",
      " block2_conv1 (Conv2D)       (None, 112, 112, 128)     73856     \n",
      "                                                                 \n",
      " block2_conv2 (Conv2D)       (None, 112, 112, 128)     147584    \n",
      "                                                                 \n",
      " block2_pool (MaxPooling2D)  (None, 56, 56, 128)       0         \n",
      "                                                                 \n",
      " block3_conv1 (Conv2D)       (None, 56, 56, 256)       295168    \n",
      "                                                                 \n",
      " block3_conv2 (Conv2D)       (None, 56, 56, 256)       590080    \n",
      "                                                                 \n",
      " block3_conv3 (Conv2D)       (None, 56, 56, 256)       590080    \n",
      "                                                                 \n",
      " block3_conv4 (Conv2D)       (None, 56, 56, 256)       590080    \n",
      "                                                                 \n",
      " block3_pool (MaxPooling2D)  (None, 28, 28, 256)       0         \n",
      "                                                                 \n",
      " block4_conv1 (Conv2D)       (None, 28, 28, 512)       1180160   \n",
      "                                                                 \n",
      " block4_conv2 (Conv2D)       (None, 28, 28, 512)       2359808   \n",
      "                                                                 \n",
      " block4_conv3 (Conv2D)       (None, 28, 28, 512)       2359808   \n",
      "                                                                 \n",
      " block4_conv4 (Conv2D)       (None, 28, 28, 512)       2359808   \n",
      "                                                                 \n",
      " block4_pool (MaxPooling2D)  (None, 14, 14, 512)       0         \n",
      "                                                                 \n",
      " block5_conv1 (Conv2D)       (None, 14, 14, 512)       2359808   \n",
      "                                                                 \n",
      " block5_conv2 (Conv2D)       (None, 14, 14, 512)       2359808   \n",
      "                                                                 \n",
      " block5_conv3 (Conv2D)       (None, 14, 14, 512)       2359808   \n",
      "                                                                 \n",
      " block5_conv4 (Conv2D)       (None, 14, 14, 512)       2359808   \n",
      "                                                                 \n",
      " block5_pool (MaxPooling2D)  (None, 7, 7, 512)         0         \n",
      "                                                                 \n",
      "=================================================================\n",
      "Total params: 20024384 (76.39 MB)\n",
      "Trainable params: 0 (0.00 Byte)\n",
      "Non-trainable params: 20024384 (76.39 MB)\n",
      "_________________________________________________________________\n"
     ]
    }
   ],
   "source": [
    "vgg.summary()"
   ]
  },
  {
   "cell_type": "markdown",
   "metadata": {},
   "source": [
    "### Keras tuner with VGG19 "
   ]
  },
  {
   "cell_type": "code",
   "execution_count": 8,
   "metadata": {
    "execution": {
     "iopub.execute_input": "2023-12-05T03:53:19.929515Z",
     "iopub.status.busy": "2023-12-05T03:53:19.929141Z",
     "iopub.status.idle": "2023-12-05T03:53:19.939908Z",
     "shell.execute_reply": "2023-12-05T03:53:19.938849Z",
     "shell.execute_reply.started": "2023-12-05T03:53:19.929482Z"
    }
   },
   "outputs": [],
   "source": [
    "def build_model(hp):\n",
    "    model = Sequential()\n",
    "    \n",
    "    model.add(vgg)\n",
    "    model.add(Flatten())\n",
    "\n",
    "    # Tune the number of units in the dense layer\n",
    "    model.add(Dense(units=hp.Int(\"dense_units\", min_value=128, max_value=300),\n",
    "                    activation=hp.Choice(\"activation\",values=[\"sigmoid\",\"tanh\",\"relu\"]),\n",
    "                    kernel_initializer=hp.Choice(\"weight_init\",values=[\"glorot_uniform\",\"glorot_normal\",\"he_uniform\",\"he_normal\"])))\n",
    "    \n",
    "    model.add(Dropout(rate=hp.Float(\"dropout_rate\", min_value=0.1, max_value=0.5, step=0.1)))\n",
    "    model.add(BatchNormalization())\n",
    "    model.add(Dense(53, activation='softmax'))\n",
    "    \n",
    "    optimizer_name = hp.Choice('optimizer', values=['sgd', 'adam', 'rmsprop', 'adadelta'])\n",
    "    if optimizer_name == 'sgd':\n",
    "        optimizer = SGD(learning_rate=hp.Choice('learning_rate', values=[1e-2, 1e-3, 1e-4]))\n",
    "    elif optimizer_name == 'adam':\n",
    "        optimizer = Adam(learning_rate=hp.Choice('learning_rate', values=[1e-2, 1e-3, 1e-4]))\n",
    "    elif optimizer_name == 'rmsprop':\n",
    "        optimizer = RMSprop(learning_rate=hp.Choice('learning_rate', values=[1e-2, 1e-3, 1e-4]))\n",
    "    else:\n",
    "        optimizer = Adadelta(learning_rate=hp.Choice('learning_rate', values=[1e-2, 1e-3, 1e-4]))\n",
    "\n",
    "    optimizer_choice = hp.Choice('optimizer', values=['sgd', 'adam', 'rmsprop', 'adadelta'])\n",
    "    model.compile(loss='sparse_categorical_crossentropy', optimizer=optimizer, metrics=['accuracy'])\n",
    "    \n",
    "    return model\n"
   ]
  },
  {
   "cell_type": "code",
   "execution_count": 9,
   "metadata": {
    "execution": {
     "iopub.execute_input": "2023-12-05T03:53:25.033147Z",
     "iopub.status.busy": "2023-12-05T03:53:25.032785Z",
     "iopub.status.idle": "2023-12-05T06:19:35.598887Z",
     "shell.execute_reply": "2023-12-05T06:19:35.597997Z",
     "shell.execute_reply.started": "2023-12-05T03:53:25.033116Z"
    }
   },
   "outputs": [
    {
     "name": "stdout",
     "output_type": "stream",
     "text": [
      "Trial 5 Complete [00h 29m 01s]\n",
      "val_accuracy: 0.6792452931404114\n",
      "\n",
      "Best val_accuracy So Far: 0.6792452931404114\n",
      "Total elapsed time: 02h 26m 10s\n"
     ]
    }
   ],
   "source": [
    "tuner = kt.RandomSearch(build_model, objective=\"val_accuracy\", max_trials=5,directory=r\"tuner_models_1\")\n",
    "\n",
    "tuner.search(training, epochs=20, validation_data=validation)"
   ]
  },
  {
   "cell_type": "code",
   "execution_count": 10,
   "metadata": {
    "execution": {
     "iopub.execute_input": "2023-12-05T06:24:10.435689Z",
     "iopub.status.busy": "2023-12-05T06:24:10.434794Z",
     "iopub.status.idle": "2023-12-05T06:24:10.441325Z",
     "shell.execute_reply": "2023-12-05T06:24:10.440309Z",
     "shell.execute_reply.started": "2023-12-05T06:24:10.435652Z"
    }
   },
   "outputs": [
    {
     "name": "stdout",
     "output_type": "stream",
     "text": [
      "Search space summary\n",
      "Default search space size: 6\n",
      "dense_units (Int)\n",
      "{'default': None, 'conditions': [], 'min_value': 128, 'max_value': 300, 'step': 1, 'sampling': 'linear'}\n",
      "activation (Choice)\n",
      "{'default': 'sigmoid', 'conditions': [], 'values': ['sigmoid', 'tanh', 'relu'], 'ordered': False}\n",
      "weight_init (Choice)\n",
      "{'default': 'glorot_uniform', 'conditions': [], 'values': ['glorot_uniform', 'glorot_normal', 'he_uniform', 'he_normal'], 'ordered': False}\n",
      "dropout_rate (Float)\n",
      "{'default': 0.1, 'conditions': [], 'min_value': 0.1, 'max_value': 0.5, 'step': 0.1, 'sampling': 'linear'}\n",
      "optimizer (Choice)\n",
      "{'default': 'sgd', 'conditions': [], 'values': ['sgd', 'adam', 'rmsprop', 'adadelta'], 'ordered': False}\n",
      "learning_rate (Choice)\n",
      "{'default': 0.01, 'conditions': [], 'values': [0.01, 0.001, 0.0001], 'ordered': True}\n"
     ]
    }
   ],
   "source": [
    "tuner.search_space_summary()"
   ]
  },
  {
   "cell_type": "code",
   "execution_count": 11,
   "metadata": {
    "execution": {
     "iopub.execute_input": "2023-12-05T06:24:11.687579Z",
     "iopub.status.busy": "2023-12-05T06:24:11.686764Z",
     "iopub.status.idle": "2023-12-05T06:24:11.692727Z",
     "shell.execute_reply": "2023-12-05T06:24:11.691778Z",
     "shell.execute_reply.started": "2023-12-05T06:24:11.687545Z"
    }
   },
   "outputs": [
    {
     "name": "stdout",
     "output_type": "stream",
     "text": [
      "Results summary\n",
      "Results in tuner_models_1/untitled_project\n",
      "Showing 10 best trials\n",
      "Objective(name=\"val_accuracy\", direction=\"max\")\n",
      "\n",
      "Trial 4 summary\n",
      "Hyperparameters:\n",
      "dense_units: 266\n",
      "activation: sigmoid\n",
      "weight_init: glorot_normal\n",
      "dropout_rate: 0.1\n",
      "optimizer: sgd\n",
      "learning_rate: 0.01\n",
      "Score: 0.6792452931404114\n",
      "\n",
      "Trial 0 summary\n",
      "Hyperparameters:\n",
      "dense_units: 193\n",
      "activation: sigmoid\n",
      "weight_init: glorot_uniform\n",
      "dropout_rate: 0.4\n",
      "optimizer: adam\n",
      "learning_rate: 0.001\n",
      "Score: 0.5924528241157532\n",
      "\n",
      "Trial 3 summary\n",
      "Hyperparameters:\n",
      "dense_units: 183\n",
      "activation: tanh\n",
      "weight_init: he_normal\n",
      "dropout_rate: 0.5\n",
      "optimizer: rmsprop\n",
      "learning_rate: 0.001\n",
      "Score: 0.43396225571632385\n",
      "\n",
      "Trial 1 summary\n",
      "Hyperparameters:\n",
      "dense_units: 185\n",
      "activation: sigmoid\n",
      "weight_init: he_uniform\n",
      "dropout_rate: 0.1\n",
      "optimizer: adadelta\n",
      "learning_rate: 0.001\n",
      "Score: 0.29056602716445923\n",
      "\n",
      "Trial 2 summary\n",
      "Hyperparameters:\n",
      "dense_units: 230\n",
      "activation: sigmoid\n",
      "weight_init: glorot_uniform\n",
      "dropout_rate: 0.5\n",
      "optimizer: rmsprop\n",
      "learning_rate: 0.01\n",
      "Score: 0.14339622855186462\n"
     ]
    }
   ],
   "source": [
    "tuner.results_summary()"
   ]
  },
  {
   "cell_type": "code",
   "execution_count": 12,
   "metadata": {
    "execution": {
     "iopub.execute_input": "2023-12-05T06:24:12.611670Z",
     "iopub.status.busy": "2023-12-05T06:24:12.611301Z",
     "iopub.status.idle": "2023-12-05T06:24:12.618671Z",
     "shell.execute_reply": "2023-12-05T06:24:12.617767Z",
     "shell.execute_reply.started": "2023-12-05T06:24:12.611642Z"
    }
   },
   "outputs": [
    {
     "data": {
      "text/plain": [
       "{'dense_units': 266,\n",
       " 'activation': 'sigmoid',\n",
       " 'weight_init': 'glorot_normal',\n",
       " 'dropout_rate': 0.1,\n",
       " 'optimizer': 'sgd',\n",
       " 'learning_rate': 0.01}"
      ]
     },
     "execution_count": 12,
     "metadata": {},
     "output_type": "execute_result"
    }
   ],
   "source": [
    "tuner.get_best_hyperparameters()[0].values"
   ]
  },
  {
   "cell_type": "code",
   "execution_count": 13,
   "metadata": {
    "execution": {
     "iopub.execute_input": "2023-12-05T06:24:13.750766Z",
     "iopub.status.busy": "2023-12-05T06:24:13.750392Z",
     "iopub.status.idle": "2023-12-05T06:24:14.343391Z",
     "shell.execute_reply": "2023-12-05T06:24:14.342336Z",
     "shell.execute_reply.started": "2023-12-05T06:24:13.750736Z"
    }
   },
   "outputs": [
    {
     "name": "stdout",
     "output_type": "stream",
     "text": [
      "Model: \"sequential\"\n",
      "_________________________________________________________________\n",
      " Layer (type)                Output Shape              Param #   \n",
      "=================================================================\n",
      " vgg19 (Functional)          (None, 7, 7, 512)         20024384  \n",
      "                                                                 \n",
      " flatten (Flatten)           (None, 25088)             0         \n",
      "                                                                 \n",
      " dense (Dense)               (None, 266)               6673674   \n",
      "                                                                 \n",
      " dropout (Dropout)           (None, 266)               0         \n",
      "                                                                 \n",
      " batch_normalization (Batch  (None, 266)               1064      \n",
      " Normalization)                                                  \n",
      "                                                                 \n",
      " dense_1 (Dense)             (None, 53)                14151     \n",
      "                                                                 \n",
      "=================================================================\n",
      "Total params: 26713273 (101.90 MB)\n",
      "Trainable params: 6688357 (25.51 MB)\n",
      "Non-trainable params: 20024916 (76.39 MB)\n",
      "_________________________________________________________________\n"
     ]
    }
   ],
   "source": [
    "fmodel = tuner.get_best_models(num_models = 1)[0]\n",
    "fmodel.summary()"
   ]
  },
  {
   "cell_type": "code",
   "execution_count": 14,
   "metadata": {
    "execution": {
     "iopub.execute_input": "2023-12-05T06:24:43.095458Z",
     "iopub.status.busy": "2023-12-05T06:24:43.094762Z",
     "iopub.status.idle": "2023-12-05T06:24:43.100568Z",
     "shell.execute_reply": "2023-12-05T06:24:43.099701Z",
     "shell.execute_reply.started": "2023-12-05T06:24:43.095423Z"
    }
   },
   "outputs": [],
   "source": [
    "es=EarlyStopping(monitor=\"val_loss\",min_delta=0.1,patience=3,start_from_epoch=4,verbose=1) \n",
    "\n",
    "mc=ModelCheckpoint(r\"model_checkpoint\\model{epoch}.h5\",monitor='val_loss',verbose=1,save_best_only=True)\n",
    "\n",
    "re = ReduceLROnPlateau(monitor=\"val_loss\", factor=0.2, patience=2,verbose=1, min_lr=1e-7)"
   ]
  },
  {
   "cell_type": "code",
   "execution_count": 15,
   "metadata": {
    "execution": {
     "iopub.execute_input": "2023-12-05T06:24:44.821695Z",
     "iopub.status.busy": "2023-12-05T06:24:44.821014Z",
     "iopub.status.idle": "2023-12-05T06:24:44.831966Z",
     "shell.execute_reply": "2023-12-05T06:24:44.830977Z",
     "shell.execute_reply.started": "2023-12-05T06:24:44.821654Z"
    }
   },
   "outputs": [],
   "source": [
    "csv=CSVLogger(r\"log.csv\")\n",
    "tb=TensorBoard(log_dir=r\"tensorboard\\logdir\",histogram_freq=1)"
   ]
  },
  {
   "cell_type": "code",
   "execution_count": 18,
   "metadata": {
    "execution": {
     "iopub.execute_input": "2023-12-05T06:25:14.474834Z",
     "iopub.status.busy": "2023-12-05T06:25:14.474466Z",
     "iopub.status.idle": "2023-12-05T08:53:10.270187Z",
     "shell.execute_reply": "2023-12-05T08:53:10.269397Z",
     "shell.execute_reply.started": "2023-12-05T06:25:14.474802Z"
    }
   },
   "outputs": [
    {
     "name": "stderr",
     "output_type": "stream",
     "text": [
      "/tmp/ipykernel_47/1463224983.py:1: UserWarning: `Model.fit_generator` is deprecated and will be removed in a future version. Please use `Model.fit`, which supports generators.\n",
      "  his = fmodel.fit_generator(training,steps_per_epoch = 7624 //32, epochs = 100,validation_data = validation , validation_steps = 265//32 , callbacks = [tb, mc, csv])\n"
     ]
    },
    {
     "name": "stdout",
     "output_type": "stream",
     "text": [
      "Epoch 1/100\n",
      "238/238 [==============================] - ETA: 0s - loss: 1.2487 - accuracy: 0.6545\n",
      "Epoch 1: val_loss improved from inf to 1.12458, saving model to model_checkpoint\\model1.h5\n"
     ]
    },
    {
     "name": "stderr",
     "output_type": "stream",
     "text": [
      "/opt/conda/lib/python3.10/site-packages/keras/src/engine/training.py:3000: UserWarning: You are saving your model as an HDF5 file via `model.save()`. This file format is considered legacy. We recommend using instead the native Keras format, e.g. `model.save('my_model.keras')`.\n",
      "  saving_api.save_model(\n"
     ]
    },
    {
     "name": "stdout",
     "output_type": "stream",
     "text": [
      "238/238 [==============================] - 90s 377ms/step - loss: 1.2487 - accuracy: 0.6545 - val_loss: 1.1246 - val_accuracy: 0.6562\n",
      "Epoch 2/100\n",
      "238/238 [==============================] - ETA: 0s - loss: 1.2131 - accuracy: 0.6635\n",
      "Epoch 2: val_loss did not improve from 1.12458\n",
      "238/238 [==============================] - 89s 373ms/step - loss: 1.2131 - accuracy: 0.6635 - val_loss: 1.1318 - val_accuracy: 0.6914\n",
      "Epoch 3/100\n",
      "238/238 [==============================] - ETA: 0s - loss: 1.1770 - accuracy: 0.6702\n",
      "Epoch 3: val_loss did not improve from 1.12458\n",
      "238/238 [==============================] - 88s 371ms/step - loss: 1.1770 - accuracy: 0.6702 - val_loss: 1.1446 - val_accuracy: 0.6875\n",
      "Epoch 4/100\n",
      "238/238 [==============================] - ETA: 0s - loss: 1.1690 - accuracy: 0.6751\n",
      "Epoch 4: val_loss did not improve from 1.12458\n",
      "238/238 [==============================] - 89s 374ms/step - loss: 1.1690 - accuracy: 0.6751 - val_loss: 1.1550 - val_accuracy: 0.6641\n",
      "Epoch 5/100\n",
      "238/238 [==============================] - ETA: 0s - loss: 1.1390 - accuracy: 0.6785\n",
      "Epoch 5: val_loss improved from 1.12458 to 1.07991, saving model to model_checkpoint\\model5.h5\n",
      "238/238 [==============================] - 89s 372ms/step - loss: 1.1390 - accuracy: 0.6785 - val_loss: 1.0799 - val_accuracy: 0.6875\n",
      "Epoch 6/100\n",
      "238/238 [==============================] - ETA: 0s - loss: 1.1087 - accuracy: 0.6886\n",
      "Epoch 6: val_loss did not improve from 1.07991\n",
      "238/238 [==============================] - 89s 372ms/step - loss: 1.1087 - accuracy: 0.6886 - val_loss: 1.1727 - val_accuracy: 0.6719\n",
      "Epoch 7/100\n",
      "238/238 [==============================] - ETA: 0s - loss: 1.0730 - accuracy: 0.6982\n",
      "Epoch 7: val_loss did not improve from 1.07991\n",
      "238/238 [==============================] - 89s 374ms/step - loss: 1.0730 - accuracy: 0.6982 - val_loss: 1.1336 - val_accuracy: 0.6914\n",
      "Epoch 8/100\n",
      "238/238 [==============================] - ETA: 0s - loss: 1.0587 - accuracy: 0.7015\n",
      "Epoch 8: val_loss did not improve from 1.07991\n",
      "238/238 [==============================] - 89s 372ms/step - loss: 1.0587 - accuracy: 0.7015 - val_loss: 1.1897 - val_accuracy: 0.7070\n",
      "Epoch 9/100\n",
      "238/238 [==============================] - ETA: 0s - loss: 1.0489 - accuracy: 0.7017\n",
      "Epoch 9: val_loss did not improve from 1.07991\n",
      "238/238 [==============================] - 88s 371ms/step - loss: 1.0489 - accuracy: 0.7017 - val_loss: 1.1090 - val_accuracy: 0.7109\n",
      "Epoch 10/100\n",
      "238/238 [==============================] - ETA: 0s - loss: 1.0304 - accuracy: 0.7064\n",
      "Epoch 10: val_loss did not improve from 1.07991\n",
      "238/238 [==============================] - 89s 375ms/step - loss: 1.0304 - accuracy: 0.7064 - val_loss: 1.1295 - val_accuracy: 0.6914\n",
      "Epoch 11/100\n",
      "238/238 [==============================] - ETA: 0s - loss: 0.9892 - accuracy: 0.7226\n",
      "Epoch 11: val_loss did not improve from 1.07991\n",
      "238/238 [==============================] - 89s 373ms/step - loss: 0.9892 - accuracy: 0.7226 - val_loss: 1.1471 - val_accuracy: 0.6875\n",
      "Epoch 12/100\n",
      "238/238 [==============================] - ETA: 0s - loss: 0.9982 - accuracy: 0.7164\n",
      "Epoch 12: val_loss did not improve from 1.07991\n",
      "238/238 [==============================] - 89s 372ms/step - loss: 0.9982 - accuracy: 0.7164 - val_loss: 1.0829 - val_accuracy: 0.7266\n",
      "Epoch 13/100\n",
      "238/238 [==============================] - ETA: 0s - loss: 0.9651 - accuracy: 0.7260\n",
      "Epoch 13: val_loss did not improve from 1.07991\n",
      "238/238 [==============================] - 89s 372ms/step - loss: 0.9651 - accuracy: 0.7260 - val_loss: 1.1487 - val_accuracy: 0.6719\n",
      "Epoch 14/100\n",
      "238/238 [==============================] - ETA: 0s - loss: 0.9482 - accuracy: 0.7326\n",
      "Epoch 14: val_loss improved from 1.07991 to 1.07655, saving model to model_checkpoint\\model14.h5\n",
      "238/238 [==============================] - 89s 372ms/step - loss: 0.9482 - accuracy: 0.7326 - val_loss: 1.0765 - val_accuracy: 0.7031\n",
      "Epoch 15/100\n",
      "238/238 [==============================] - ETA: 0s - loss: 0.9344 - accuracy: 0.7364\n",
      "Epoch 15: val_loss did not improve from 1.07655\n",
      "238/238 [==============================] - 90s 376ms/step - loss: 0.9344 - accuracy: 0.7364 - val_loss: 1.1035 - val_accuracy: 0.6914\n",
      "Epoch 16/100\n",
      "238/238 [==============================] - ETA: 0s - loss: 0.9219 - accuracy: 0.7349\n",
      "Epoch 16: val_loss improved from 1.07655 to 1.07283, saving model to model_checkpoint\\model16.h5\n",
      "238/238 [==============================] - 89s 375ms/step - loss: 0.9219 - accuracy: 0.7349 - val_loss: 1.0728 - val_accuracy: 0.7227\n",
      "Epoch 17/100\n",
      "238/238 [==============================] - ETA: 0s - loss: 0.9086 - accuracy: 0.7395\n",
      "Epoch 17: val_loss improved from 1.07283 to 1.02768, saving model to model_checkpoint\\model17.h5\n",
      "238/238 [==============================] - 90s 379ms/step - loss: 0.9086 - accuracy: 0.7395 - val_loss: 1.0277 - val_accuracy: 0.7070\n",
      "Epoch 18/100\n",
      "238/238 [==============================] - ETA: 0s - loss: 0.8983 - accuracy: 0.7516\n",
      "Epoch 18: val_loss did not improve from 1.02768\n",
      "238/238 [==============================] - 88s 371ms/step - loss: 0.8983 - accuracy: 0.7516 - val_loss: 1.0854 - val_accuracy: 0.7188\n",
      "Epoch 19/100\n",
      "238/238 [==============================] - ETA: 0s - loss: 0.8642 - accuracy: 0.7545\n",
      "Epoch 19: val_loss did not improve from 1.02768\n",
      "238/238 [==============================] - 89s 372ms/step - loss: 0.8642 - accuracy: 0.7545 - val_loss: 1.1125 - val_accuracy: 0.7109\n",
      "Epoch 20/100\n",
      "238/238 [==============================] - ETA: 0s - loss: 0.8633 - accuracy: 0.7551\n",
      "Epoch 20: val_loss did not improve from 1.02768\n",
      "238/238 [==============================] - 89s 374ms/step - loss: 0.8633 - accuracy: 0.7551 - val_loss: 1.1154 - val_accuracy: 0.6914\n",
      "Epoch 21/100\n",
      "238/238 [==============================] - ETA: 0s - loss: 0.8574 - accuracy: 0.7597\n",
      "Epoch 21: val_loss did not improve from 1.02768\n",
      "238/238 [==============================] - 89s 373ms/step - loss: 0.8574 - accuracy: 0.7597 - val_loss: 1.1338 - val_accuracy: 0.6836\n",
      "Epoch 22/100\n",
      "238/238 [==============================] - ETA: 0s - loss: 0.8216 - accuracy: 0.7654\n",
      "Epoch 22: val_loss did not improve from 1.02768\n",
      "238/238 [==============================] - 89s 374ms/step - loss: 0.8216 - accuracy: 0.7654 - val_loss: 1.0343 - val_accuracy: 0.7148\n",
      "Epoch 23/100\n",
      "238/238 [==============================] - ETA: 0s - loss: 0.8430 - accuracy: 0.7611\n",
      "Epoch 23: val_loss did not improve from 1.02768\n",
      "238/238 [==============================] - 90s 379ms/step - loss: 0.8430 - accuracy: 0.7611 - val_loss: 1.0490 - val_accuracy: 0.7461\n",
      "Epoch 24/100\n",
      "238/238 [==============================] - ETA: 0s - loss: 0.8225 - accuracy: 0.7684\n",
      "Epoch 24: val_loss did not improve from 1.02768\n",
      "238/238 [==============================] - 89s 373ms/step - loss: 0.8225 - accuracy: 0.7684 - val_loss: 1.1137 - val_accuracy: 0.6875\n",
      "Epoch 25/100\n",
      "238/238 [==============================] - ETA: 0s - loss: 0.8231 - accuracy: 0.7649\n",
      "Epoch 25: val_loss did not improve from 1.02768\n",
      "238/238 [==============================] - 90s 379ms/step - loss: 0.8231 - accuracy: 0.7649 - val_loss: 1.0922 - val_accuracy: 0.6836\n",
      "Epoch 26/100\n",
      "238/238 [==============================] - ETA: 0s - loss: 0.8069 - accuracy: 0.7734\n",
      "Epoch 26: val_loss did not improve from 1.02768\n",
      "238/238 [==============================] - 89s 375ms/step - loss: 0.8069 - accuracy: 0.7734 - val_loss: 1.1320 - val_accuracy: 0.6992\n",
      "Epoch 27/100\n",
      "238/238 [==============================] - ETA: 0s - loss: 0.7663 - accuracy: 0.7777\n",
      "Epoch 27: val_loss did not improve from 1.02768\n",
      "238/238 [==============================] - 91s 382ms/step - loss: 0.7663 - accuracy: 0.7777 - val_loss: 1.1606 - val_accuracy: 0.7070\n",
      "Epoch 28/100\n",
      "238/238 [==============================] - ETA: 0s - loss: 0.7677 - accuracy: 0.7788\n",
      "Epoch 28: val_loss improved from 1.02768 to 0.98815, saving model to model_checkpoint\\model28.h5\n",
      "238/238 [==============================] - 89s 375ms/step - loss: 0.7677 - accuracy: 0.7788 - val_loss: 0.9882 - val_accuracy: 0.7344\n",
      "Epoch 29/100\n",
      "238/238 [==============================] - ETA: 0s - loss: 0.7551 - accuracy: 0.7900\n",
      "Epoch 29: val_loss did not improve from 0.98815\n",
      "238/238 [==============================] - 91s 380ms/step - loss: 0.7551 - accuracy: 0.7900 - val_loss: 1.1528 - val_accuracy: 0.6953\n",
      "Epoch 30/100\n",
      "238/238 [==============================] - ETA: 0s - loss: 0.7377 - accuracy: 0.7902\n",
      "Epoch 30: val_loss did not improve from 0.98815\n",
      "238/238 [==============================] - 89s 372ms/step - loss: 0.7377 - accuracy: 0.7902 - val_loss: 1.0461 - val_accuracy: 0.7383\n",
      "Epoch 31/100\n",
      "238/238 [==============================] - ETA: 0s - loss: 0.7384 - accuracy: 0.7891\n",
      "Epoch 31: val_loss improved from 0.98815 to 0.93643, saving model to model_checkpoint\\model31.h5\n",
      "238/238 [==============================] - 89s 372ms/step - loss: 0.7384 - accuracy: 0.7891 - val_loss: 0.9364 - val_accuracy: 0.7578\n",
      "Epoch 32/100\n",
      "238/238 [==============================] - ETA: 0s - loss: 0.7279 - accuracy: 0.7921\n",
      "Epoch 32: val_loss did not improve from 0.93643\n",
      "238/238 [==============================] - 88s 369ms/step - loss: 0.7279 - accuracy: 0.7921 - val_loss: 1.0114 - val_accuracy: 0.7266\n",
      "Epoch 33/100\n",
      "238/238 [==============================] - ETA: 0s - loss: 0.7305 - accuracy: 0.7873\n",
      "Epoch 33: val_loss did not improve from 0.93643\n",
      "238/238 [==============================] - 89s 374ms/step - loss: 0.7305 - accuracy: 0.7873 - val_loss: 1.0061 - val_accuracy: 0.7227\n",
      "Epoch 34/100\n",
      "238/238 [==============================] - ETA: 0s - loss: 0.7210 - accuracy: 0.7935\n",
      "Epoch 34: val_loss did not improve from 0.93643\n",
      "238/238 [==============================] - 88s 371ms/step - loss: 0.7210 - accuracy: 0.7935 - val_loss: 1.0178 - val_accuracy: 0.7109\n",
      "Epoch 35/100\n",
      "238/238 [==============================] - ETA: 0s - loss: 0.7050 - accuracy: 0.7952\n",
      "Epoch 35: val_loss did not improve from 0.93643\n",
      "238/238 [==============================] - 89s 375ms/step - loss: 0.7050 - accuracy: 0.7952 - val_loss: 0.9868 - val_accuracy: 0.7461\n",
      "Epoch 36/100\n",
      "238/238 [==============================] - ETA: 0s - loss: 0.7054 - accuracy: 0.7940\n",
      "Epoch 36: val_loss did not improve from 0.93643\n",
      "238/238 [==============================] - 88s 370ms/step - loss: 0.7054 - accuracy: 0.7940 - val_loss: 0.9688 - val_accuracy: 0.7227\n",
      "Epoch 37/100\n",
      "238/238 [==============================] - ETA: 0s - loss: 0.6935 - accuracy: 0.8016\n",
      "Epoch 37: val_loss did not improve from 0.93643\n",
      "238/238 [==============================] - 89s 375ms/step - loss: 0.6935 - accuracy: 0.8016 - val_loss: 1.0013 - val_accuracy: 0.7422\n",
      "Epoch 38/100\n",
      "238/238 [==============================] - ETA: 0s - loss: 0.6925 - accuracy: 0.7982\n",
      "Epoch 38: val_loss did not improve from 0.93643\n",
      "238/238 [==============================] - 89s 373ms/step - loss: 0.6925 - accuracy: 0.7982 - val_loss: 1.0423 - val_accuracy: 0.6992\n",
      "Epoch 39/100\n",
      "238/238 [==============================] - ETA: 0s - loss: 0.6880 - accuracy: 0.8006\n",
      "Epoch 39: val_loss did not improve from 0.93643\n",
      "238/238 [==============================] - 88s 370ms/step - loss: 0.6880 - accuracy: 0.8006 - val_loss: 1.0768 - val_accuracy: 0.7461\n",
      "Epoch 40/100\n",
      "238/238 [==============================] - ETA: 0s - loss: 0.6478 - accuracy: 0.8072\n",
      "Epoch 40: val_loss did not improve from 0.93643\n",
      "238/238 [==============================] - 88s 371ms/step - loss: 0.6478 - accuracy: 0.8072 - val_loss: 1.1347 - val_accuracy: 0.6797\n",
      "Epoch 41/100\n",
      "238/238 [==============================] - ETA: 0s - loss: 0.6631 - accuracy: 0.8097\n",
      "Epoch 41: val_loss did not improve from 0.93643\n",
      "238/238 [==============================] - 89s 374ms/step - loss: 0.6631 - accuracy: 0.8097 - val_loss: 1.0020 - val_accuracy: 0.7227\n",
      "Epoch 42/100\n",
      "238/238 [==============================] - ETA: 0s - loss: 0.6580 - accuracy: 0.8093\n",
      "Epoch 42: val_loss did not improve from 0.93643\n",
      "238/238 [==============================] - 89s 372ms/step - loss: 0.6580 - accuracy: 0.8093 - val_loss: 1.0778 - val_accuracy: 0.7305\n",
      "Epoch 43/100\n",
      "238/238 [==============================] - ETA: 0s - loss: 0.6556 - accuracy: 0.8116\n",
      "Epoch 43: val_loss did not improve from 0.93643\n",
      "238/238 [==============================] - 88s 368ms/step - loss: 0.6556 - accuracy: 0.8116 - val_loss: 0.9703 - val_accuracy: 0.7461\n",
      "Epoch 44/100\n",
      "238/238 [==============================] - ETA: 0s - loss: 0.6312 - accuracy: 0.8192\n",
      "Epoch 44: val_loss did not improve from 0.93643\n",
      "238/238 [==============================] - 88s 370ms/step - loss: 0.6312 - accuracy: 0.8192 - val_loss: 0.9932 - val_accuracy: 0.7422\n",
      "Epoch 45/100\n",
      "238/238 [==============================] - ETA: 0s - loss: 0.6325 - accuracy: 0.8135\n",
      "Epoch 45: val_loss did not improve from 0.93643\n",
      "238/238 [==============================] - 88s 370ms/step - loss: 0.6325 - accuracy: 0.8135 - val_loss: 1.0439 - val_accuracy: 0.7266\n",
      "Epoch 46/100\n",
      "238/238 [==============================] - ETA: 0s - loss: 0.6321 - accuracy: 0.8169\n",
      "Epoch 46: val_loss did not improve from 0.93643\n",
      "238/238 [==============================] - 88s 368ms/step - loss: 0.6321 - accuracy: 0.8169 - val_loss: 1.0308 - val_accuracy: 0.7344\n",
      "Epoch 47/100\n",
      "238/238 [==============================] - ETA: 0s - loss: 0.6197 - accuracy: 0.8180\n",
      "Epoch 47: val_loss did not improve from 0.93643\n",
      "238/238 [==============================] - 89s 372ms/step - loss: 0.6197 - accuracy: 0.8180 - val_loss: 0.9493 - val_accuracy: 0.7578\n",
      "Epoch 48/100\n",
      "238/238 [==============================] - ETA: 0s - loss: 0.6086 - accuracy: 0.8267\n",
      "Epoch 48: val_loss did not improve from 0.93643\n",
      "238/238 [==============================] - 90s 376ms/step - loss: 0.6086 - accuracy: 0.8267 - val_loss: 0.9741 - val_accuracy: 0.7383\n",
      "Epoch 49/100\n",
      "238/238 [==============================] - ETA: 0s - loss: 0.6167 - accuracy: 0.8202\n",
      "Epoch 49: val_loss did not improve from 0.93643\n",
      "238/238 [==============================] - 88s 370ms/step - loss: 0.6167 - accuracy: 0.8202 - val_loss: 1.0649 - val_accuracy: 0.7422\n",
      "Epoch 50/100\n",
      "238/238 [==============================] - ETA: 0s - loss: 0.5759 - accuracy: 0.8326\n",
      "Epoch 50: val_loss did not improve from 0.93643\n",
      "238/238 [==============================] - 89s 374ms/step - loss: 0.5759 - accuracy: 0.8326 - val_loss: 1.0643 - val_accuracy: 0.7266\n",
      "Epoch 51/100\n",
      "238/238 [==============================] - ETA: 0s - loss: 0.5865 - accuracy: 0.8292\n",
      "Epoch 51: val_loss did not improve from 0.93643\n",
      "238/238 [==============================] - 88s 371ms/step - loss: 0.5865 - accuracy: 0.8292 - val_loss: 0.9617 - val_accuracy: 0.7500\n",
      "Epoch 52/100\n",
      "238/238 [==============================] - ETA: 0s - loss: 0.5846 - accuracy: 0.8318\n",
      "Epoch 52: val_loss did not improve from 0.93643\n",
      "238/238 [==============================] - 89s 375ms/step - loss: 0.5846 - accuracy: 0.8318 - val_loss: 1.0225 - val_accuracy: 0.7305\n",
      "Epoch 53/100\n",
      "238/238 [==============================] - ETA: 0s - loss: 0.5778 - accuracy: 0.8321\n",
      "Epoch 53: val_loss did not improve from 0.93643\n",
      "238/238 [==============================] - 88s 371ms/step - loss: 0.5778 - accuracy: 0.8321 - val_loss: 0.9761 - val_accuracy: 0.7266\n",
      "Epoch 54/100\n",
      "238/238 [==============================] - ETA: 0s - loss: 0.5574 - accuracy: 0.8386\n",
      "Epoch 54: val_loss did not improve from 0.93643\n",
      "238/238 [==============================] - 88s 371ms/step - loss: 0.5574 - accuracy: 0.8386 - val_loss: 0.9683 - val_accuracy: 0.7461\n",
      "Epoch 55/100\n",
      "238/238 [==============================] - ETA: 0s - loss: 0.5777 - accuracy: 0.8335\n",
      "Epoch 55: val_loss did not improve from 0.93643\n",
      "238/238 [==============================] - 89s 375ms/step - loss: 0.5777 - accuracy: 0.8335 - val_loss: 1.0680 - val_accuracy: 0.7305\n",
      "Epoch 56/100\n",
      "238/238 [==============================] - ETA: 0s - loss: 0.5644 - accuracy: 0.8350\n",
      "Epoch 56: val_loss improved from 0.93643 to 0.93378, saving model to model_checkpoint\\model56.h5\n",
      "238/238 [==============================] - 88s 369ms/step - loss: 0.5644 - accuracy: 0.8350 - val_loss: 0.9338 - val_accuracy: 0.7656\n",
      "Epoch 57/100\n",
      "238/238 [==============================] - ETA: 0s - loss: 0.5586 - accuracy: 0.8383\n",
      "Epoch 57: val_loss improved from 0.93378 to 0.93048, saving model to model_checkpoint\\model57.h5\n",
      "238/238 [==============================] - 89s 374ms/step - loss: 0.5586 - accuracy: 0.8383 - val_loss: 0.9305 - val_accuracy: 0.7383\n",
      "Epoch 58/100\n",
      "238/238 [==============================] - ETA: 0s - loss: 0.5467 - accuracy: 0.8380\n",
      "Epoch 58: val_loss did not improve from 0.93048\n",
      "238/238 [==============================] - 89s 374ms/step - loss: 0.5467 - accuracy: 0.8380 - val_loss: 0.9628 - val_accuracy: 0.7773\n",
      "Epoch 59/100\n",
      "238/238 [==============================] - ETA: 0s - loss: 0.5399 - accuracy: 0.8408\n",
      "Epoch 59: val_loss did not improve from 0.93048\n",
      "238/238 [==============================] - 89s 375ms/step - loss: 0.5399 - accuracy: 0.8408 - val_loss: 0.9982 - val_accuracy: 0.7305\n",
      "Epoch 60/100\n",
      "238/238 [==============================] - ETA: 0s - loss: 0.5266 - accuracy: 0.8488\n",
      "Epoch 60: val_loss did not improve from 0.93048\n",
      "238/238 [==============================] - 87s 367ms/step - loss: 0.5266 - accuracy: 0.8488 - val_loss: 1.0090 - val_accuracy: 0.7539\n",
      "Epoch 61/100\n",
      "238/238 [==============================] - ETA: 0s - loss: 0.5510 - accuracy: 0.8402\n",
      "Epoch 61: val_loss did not improve from 0.93048\n",
      "238/238 [==============================] - 88s 370ms/step - loss: 0.5510 - accuracy: 0.8402 - val_loss: 0.9954 - val_accuracy: 0.7539\n",
      "Epoch 62/100\n",
      "238/238 [==============================] - ETA: 0s - loss: 0.5655 - accuracy: 0.8346\n",
      "Epoch 62: val_loss did not improve from 0.93048\n",
      "238/238 [==============================] - 88s 370ms/step - loss: 0.5655 - accuracy: 0.8346 - val_loss: 0.9630 - val_accuracy: 0.7656\n",
      "Epoch 63/100\n",
      "238/238 [==============================] - ETA: 0s - loss: 0.5260 - accuracy: 0.8480\n",
      "Epoch 63: val_loss did not improve from 0.93048\n",
      "238/238 [==============================] - 88s 371ms/step - loss: 0.5260 - accuracy: 0.8480 - val_loss: 1.0229 - val_accuracy: 0.7344\n",
      "Epoch 64/100\n",
      "238/238 [==============================] - ETA: 0s - loss: 0.5080 - accuracy: 0.8489\n",
      "Epoch 64: val_loss did not improve from 0.93048\n",
      "238/238 [==============================] - 90s 376ms/step - loss: 0.5080 - accuracy: 0.8489 - val_loss: 0.9316 - val_accuracy: 0.7500\n",
      "Epoch 65/100\n",
      "238/238 [==============================] - ETA: 0s - loss: 0.5335 - accuracy: 0.8409\n",
      "Epoch 65: val_loss did not improve from 0.93048\n",
      "238/238 [==============================] - 88s 368ms/step - loss: 0.5335 - accuracy: 0.8409 - val_loss: 0.9320 - val_accuracy: 0.7812\n",
      "Epoch 66/100\n",
      "238/238 [==============================] - ETA: 0s - loss: 0.5319 - accuracy: 0.8430\n",
      "Epoch 66: val_loss did not improve from 0.93048\n",
      "238/238 [==============================] - 88s 369ms/step - loss: 0.5319 - accuracy: 0.8430 - val_loss: 0.9725 - val_accuracy: 0.7656\n",
      "Epoch 67/100\n",
      "238/238 [==============================] - ETA: 0s - loss: 0.5156 - accuracy: 0.8529\n",
      "Epoch 67: val_loss did not improve from 0.93048\n",
      "238/238 [==============================] - 89s 374ms/step - loss: 0.5156 - accuracy: 0.8529 - val_loss: 1.0315 - val_accuracy: 0.7656\n",
      "Epoch 68/100\n",
      "238/238 [==============================] - ETA: 0s - loss: 0.5098 - accuracy: 0.8491\n",
      "Epoch 68: val_loss did not improve from 0.93048\n",
      "238/238 [==============================] - 88s 371ms/step - loss: 0.5098 - accuracy: 0.8491 - val_loss: 0.9638 - val_accuracy: 0.7578\n",
      "Epoch 69/100\n",
      "238/238 [==============================] - ETA: 0s - loss: 0.4966 - accuracy: 0.8502\n",
      "Epoch 69: val_loss improved from 0.93048 to 0.90731, saving model to model_checkpoint\\model69.h5\n",
      "238/238 [==============================] - 88s 369ms/step - loss: 0.4966 - accuracy: 0.8502 - val_loss: 0.9073 - val_accuracy: 0.7656\n",
      "Epoch 70/100\n",
      "238/238 [==============================] - ETA: 0s - loss: 0.4953 - accuracy: 0.8566\n",
      "Epoch 70: val_loss improved from 0.90731 to 0.87032, saving model to model_checkpoint\\model70.h5\n",
      "238/238 [==============================] - 88s 370ms/step - loss: 0.4953 - accuracy: 0.8566 - val_loss: 0.8703 - val_accuracy: 0.7734\n",
      "Epoch 71/100\n",
      "238/238 [==============================] - ETA: 0s - loss: 0.5073 - accuracy: 0.8480\n",
      "Epoch 71: val_loss did not improve from 0.87032\n",
      "238/238 [==============================] - 89s 375ms/step - loss: 0.5073 - accuracy: 0.8480 - val_loss: 0.9952 - val_accuracy: 0.7344\n",
      "Epoch 72/100\n",
      "238/238 [==============================] - ETA: 0s - loss: 0.4916 - accuracy: 0.8534\n",
      "Epoch 72: val_loss did not improve from 0.87032\n",
      "238/238 [==============================] - 88s 369ms/step - loss: 0.4916 - accuracy: 0.8534 - val_loss: 0.9654 - val_accuracy: 0.7461\n",
      "Epoch 73/100\n",
      "238/238 [==============================] - ETA: 0s - loss: 0.4899 - accuracy: 0.8516\n",
      "Epoch 73: val_loss did not improve from 0.87032\n",
      "238/238 [==============================] - 87s 367ms/step - loss: 0.4899 - accuracy: 0.8516 - val_loss: 1.0970 - val_accuracy: 0.7344\n",
      "Epoch 74/100\n",
      "238/238 [==============================] - ETA: 0s - loss: 0.4763 - accuracy: 0.8591\n",
      "Epoch 74: val_loss did not improve from 0.87032\n",
      "238/238 [==============================] - 88s 371ms/step - loss: 0.4763 - accuracy: 0.8591 - val_loss: 1.0646 - val_accuracy: 0.7305\n",
      "Epoch 75/100\n",
      "238/238 [==============================] - ETA: 0s - loss: 0.4711 - accuracy: 0.8600\n",
      "Epoch 75: val_loss did not improve from 0.87032\n",
      "238/238 [==============================] - 90s 377ms/step - loss: 0.4711 - accuracy: 0.8600 - val_loss: 1.0849 - val_accuracy: 0.7422\n",
      "Epoch 76/100\n",
      "238/238 [==============================] - ETA: 0s - loss: 0.4701 - accuracy: 0.8588\n",
      "Epoch 76: val_loss did not improve from 0.87032\n",
      "238/238 [==============================] - 88s 370ms/step - loss: 0.4701 - accuracy: 0.8588 - val_loss: 1.0957 - val_accuracy: 0.7695\n",
      "Epoch 77/100\n",
      "238/238 [==============================] - ETA: 0s - loss: 0.4696 - accuracy: 0.8597\n",
      "Epoch 77: val_loss did not improve from 0.87032\n",
      "238/238 [==============================] - 88s 369ms/step - loss: 0.4696 - accuracy: 0.8597 - val_loss: 1.1287 - val_accuracy: 0.6914\n",
      "Epoch 78/100\n",
      "238/238 [==============================] - ETA: 0s - loss: 0.4714 - accuracy: 0.8639\n",
      "Epoch 78: val_loss did not improve from 0.87032\n",
      "238/238 [==============================] - 88s 371ms/step - loss: 0.4714 - accuracy: 0.8639 - val_loss: 1.0854 - val_accuracy: 0.6992\n",
      "Epoch 79/100\n",
      "238/238 [==============================] - ETA: 0s - loss: 0.4531 - accuracy: 0.8653\n",
      "Epoch 79: val_loss did not improve from 0.87032\n",
      "238/238 [==============================] - 88s 368ms/step - loss: 0.4531 - accuracy: 0.8653 - val_loss: 1.0459 - val_accuracy: 0.7734\n",
      "Epoch 80/100\n",
      "238/238 [==============================] - ETA: 0s - loss: 0.4682 - accuracy: 0.8556\n",
      "Epoch 80: val_loss did not improve from 0.87032\n",
      "238/238 [==============================] - 89s 373ms/step - loss: 0.4682 - accuracy: 0.8556 - val_loss: 0.9890 - val_accuracy: 0.7773\n",
      "Epoch 81/100\n",
      "238/238 [==============================] - ETA: 0s - loss: 0.4570 - accuracy: 0.8663\n",
      "Epoch 81: val_loss did not improve from 0.87032\n",
      "238/238 [==============================] - 89s 372ms/step - loss: 0.4570 - accuracy: 0.8663 - val_loss: 1.0051 - val_accuracy: 0.7617\n",
      "Epoch 82/100\n",
      "238/238 [==============================] - ETA: 0s - loss: 0.4567 - accuracy: 0.8663\n",
      "Epoch 82: val_loss did not improve from 0.87032\n",
      "238/238 [==============================] - 88s 371ms/step - loss: 0.4567 - accuracy: 0.8663 - val_loss: 1.0964 - val_accuracy: 0.7266\n",
      "Epoch 83/100\n",
      "238/238 [==============================] - ETA: 0s - loss: 0.4417 - accuracy: 0.8695\n",
      "Epoch 83: val_loss did not improve from 0.87032\n",
      "238/238 [==============================] - 88s 371ms/step - loss: 0.4417 - accuracy: 0.8695 - val_loss: 1.0816 - val_accuracy: 0.7422\n",
      "Epoch 84/100\n",
      "238/238 [==============================] - ETA: 0s - loss: 0.4399 - accuracy: 0.8742\n",
      "Epoch 84: val_loss did not improve from 0.87032\n",
      "238/238 [==============================] - 89s 372ms/step - loss: 0.4399 - accuracy: 0.8742 - val_loss: 0.9443 - val_accuracy: 0.7695\n",
      "Epoch 85/100\n",
      "238/238 [==============================] - ETA: 0s - loss: 0.4629 - accuracy: 0.8587\n",
      "Epoch 85: val_loss did not improve from 0.87032\n",
      "238/238 [==============================] - 88s 370ms/step - loss: 0.4629 - accuracy: 0.8587 - val_loss: 0.9973 - val_accuracy: 0.7617\n",
      "Epoch 86/100\n",
      "238/238 [==============================] - ETA: 0s - loss: 0.4432 - accuracy: 0.8695\n",
      "Epoch 86: val_loss did not improve from 0.87032\n",
      "238/238 [==============================] - 88s 372ms/step - loss: 0.4432 - accuracy: 0.8695 - val_loss: 1.0545 - val_accuracy: 0.7344\n",
      "Epoch 87/100\n",
      "238/238 [==============================] - ETA: 0s - loss: 0.4395 - accuracy: 0.8688\n",
      "Epoch 87: val_loss did not improve from 0.87032\n",
      "238/238 [==============================] - 90s 379ms/step - loss: 0.4395 - accuracy: 0.8688 - val_loss: 1.2106 - val_accuracy: 0.6914\n",
      "Epoch 88/100\n",
      "238/238 [==============================] - ETA: 0s - loss: 0.4327 - accuracy: 0.8691\n",
      "Epoch 88: val_loss did not improve from 0.87032\n",
      "238/238 [==============================] - 90s 379ms/step - loss: 0.4327 - accuracy: 0.8691 - val_loss: 0.9835 - val_accuracy: 0.7539\n",
      "Epoch 89/100\n",
      "238/238 [==============================] - ETA: 0s - loss: 0.4172 - accuracy: 0.8753\n",
      "Epoch 89: val_loss did not improve from 0.87032\n",
      "238/238 [==============================] - 88s 371ms/step - loss: 0.4172 - accuracy: 0.8753 - val_loss: 1.0581 - val_accuracy: 0.7617\n",
      "Epoch 90/100\n",
      "238/238 [==============================] - ETA: 0s - loss: 0.4344 - accuracy: 0.8697\n",
      "Epoch 90: val_loss did not improve from 0.87032\n",
      "238/238 [==============================] - 88s 369ms/step - loss: 0.4344 - accuracy: 0.8697 - val_loss: 0.9339 - val_accuracy: 0.7695\n",
      "Epoch 91/100\n",
      "238/238 [==============================] - ETA: 0s - loss: 0.4325 - accuracy: 0.8724\n",
      "Epoch 91: val_loss did not improve from 0.87032\n",
      "238/238 [==============================] - 88s 369ms/step - loss: 0.4325 - accuracy: 0.8724 - val_loss: 1.0467 - val_accuracy: 0.7695\n",
      "Epoch 92/100\n",
      "238/238 [==============================] - ETA: 0s - loss: 0.4155 - accuracy: 0.8783\n",
      "Epoch 92: val_loss did not improve from 0.87032\n",
      "238/238 [==============================] - 89s 372ms/step - loss: 0.4155 - accuracy: 0.8783 - val_loss: 0.9521 - val_accuracy: 0.7734\n",
      "Epoch 93/100\n",
      "238/238 [==============================] - ETA: 0s - loss: 0.4098 - accuracy: 0.8778\n",
      "Epoch 93: val_loss did not improve from 0.87032\n",
      "238/238 [==============================] - 89s 374ms/step - loss: 0.4098 - accuracy: 0.8778 - val_loss: 0.9830 - val_accuracy: 0.7617\n",
      "Epoch 94/100\n",
      "238/238 [==============================] - ETA: 0s - loss: 0.4188 - accuracy: 0.8724\n",
      "Epoch 94: val_loss did not improve from 0.87032\n",
      "238/238 [==============================] - 89s 374ms/step - loss: 0.4188 - accuracy: 0.8724 - val_loss: 1.0790 - val_accuracy: 0.7656\n",
      "Epoch 95/100\n",
      "238/238 [==============================] - ETA: 0s - loss: 0.4096 - accuracy: 0.8778\n",
      "Epoch 95: val_loss did not improve from 0.87032\n",
      "238/238 [==============================] - 90s 376ms/step - loss: 0.4096 - accuracy: 0.8778 - val_loss: 1.0181 - val_accuracy: 0.7617\n",
      "Epoch 96/100\n",
      "238/238 [==============================] - ETA: 0s - loss: 0.4063 - accuracy: 0.8799\n",
      "Epoch 96: val_loss did not improve from 0.87032\n",
      "238/238 [==============================] - 89s 374ms/step - loss: 0.4063 - accuracy: 0.8799 - val_loss: 1.0061 - val_accuracy: 0.7695\n",
      "Epoch 97/100\n",
      "238/238 [==============================] - ETA: 0s - loss: 0.4061 - accuracy: 0.8799\n",
      "Epoch 97: val_loss did not improve from 0.87032\n",
      "238/238 [==============================] - 90s 376ms/step - loss: 0.4061 - accuracy: 0.8799 - val_loss: 0.9935 - val_accuracy: 0.7695\n",
      "Epoch 98/100\n",
      "238/238 [==============================] - ETA: 0s - loss: 0.4133 - accuracy: 0.8753\n",
      "Epoch 98: val_loss did not improve from 0.87032\n",
      "238/238 [==============================] - 88s 370ms/step - loss: 0.4133 - accuracy: 0.8753 - val_loss: 0.9853 - val_accuracy: 0.7734\n",
      "Epoch 99/100\n",
      "238/238 [==============================] - ETA: 0s - loss: 0.3981 - accuracy: 0.8778\n",
      "Epoch 99: val_loss did not improve from 0.87032\n",
      "238/238 [==============================] - 89s 373ms/step - loss: 0.3981 - accuracy: 0.8778 - val_loss: 0.9947 - val_accuracy: 0.7617\n",
      "Epoch 100/100\n",
      "238/238 [==============================] - ETA: 0s - loss: 0.4114 - accuracy: 0.8779\n",
      "Epoch 100: val_loss did not improve from 0.87032\n",
      "238/238 [==============================] - 89s 374ms/step - loss: 0.4114 - accuracy: 0.8779 - val_loss: 1.0472 - val_accuracy: 0.7656\n"
     ]
    }
   ],
   "source": [
    "his = fmodel.fit_generator(training,steps_per_epoch = 7624 //32, epochs = 100,validation_data = validation , validation_steps = 265//32 , callbacks = [tb, mc, csv])"
   ]
  },
  {
   "cell_type": "code",
   "execution_count": 19,
   "metadata": {
    "execution": {
     "iopub.execute_input": "2023-12-05T08:53:48.889974Z",
     "iopub.status.busy": "2023-12-05T08:53:48.889132Z",
     "iopub.status.idle": "2023-12-05T08:53:49.122633Z",
     "shell.execute_reply": "2023-12-05T08:53:49.121730Z",
     "shell.execute_reply.started": "2023-12-05T08:53:48.889934Z"
    }
   },
   "outputs": [
    {
     "data": {
      "text/plain": [
       "<matplotlib.legend.Legend at 0x7b981e60a710>"
      ]
     },
     "execution_count": 19,
     "metadata": {},
     "output_type": "execute_result"
    },
    {
     "data": {
      "image/png": "[encoded data removed]",
      "text/plain": [
       "<Figure size 640x480 with 1 Axes>"
      ]
     },
     "metadata": {},
     "output_type": "display_data"
    }
   ],
   "source": [
    "plt.plot(range(1,101),his.history[\"loss\"],label=\"train_loss\")\n",
    "plt.plot(range(1,101),his.history[\"val_loss\"],label=\"val_loss\")\n",
    "plt.legend()                               "
   ]
  },
  {
   "cell_type": "code",
   "execution_count": 20,
   "metadata": {
    "execution": {
     "iopub.execute_input": "2023-12-05T08:54:15.509973Z",
     "iopub.status.busy": "2023-12-05T08:54:15.509120Z",
     "iopub.status.idle": "2023-12-05T08:54:15.686328Z",
     "shell.execute_reply": "2023-12-05T08:54:15.685335Z",
     "shell.execute_reply.started": "2023-12-05T08:54:15.509936Z"
    }
   },
   "outputs": [
    {
     "data": {
      "image/png": "[encoded data removed]",
      "text/plain": [
       "<Figure size 640x480 with 1 Axes>"
      ]
     },
     "metadata": {},
     "output_type": "display_data"
    }
   ],
   "source": [
    "plt.plot(his.history['accuracy'], label='accuracy')\n",
    "plt.plot(his.history['val_accuracy'], label='val_accuracy')\n",
    "plt.legend(loc=\"upper left\")\n",
    "plt.show()"
   ]
  },
  {
   "cell_type": "code",
   "execution_count": 21,
   "metadata": {
    "execution": {
     "iopub.execute_input": "2023-12-05T08:54:22.693850Z",
     "iopub.status.busy": "2023-12-05T08:54:22.692883Z",
     "iopub.status.idle": "2023-12-05T08:54:25.444554Z",
     "shell.execute_reply": "2023-12-05T08:54:25.443535Z",
     "shell.execute_reply.started": "2023-12-05T08:54:22.693812Z"
    }
   },
   "outputs": [
    {
     "name": "stdout",
     "output_type": "stream",
     "text": [
      "9/9 [==============================] - 2s 261ms/step\n"
     ]
    }
   ],
   "source": [
    "prediction = fmodel.predict(testing)\n",
    "\n",
    "predicted= np.argmax(prediction,axis=1)"
   ]
  },
  {
   "cell_type": "code",
   "execution_count": 23,
   "metadata": {
    "execution": {
     "iopub.execute_input": "2023-12-05T08:54:32.968411Z",
     "iopub.status.busy": "2023-12-05T08:54:32.968014Z",
     "iopub.status.idle": "2023-12-05T08:54:32.972954Z",
     "shell.execute_reply": "2023-12-05T08:54:32.971938Z",
     "shell.execute_reply.started": "2023-12-05T08:54:32.968375Z"
    }
   },
   "outputs": [],
   "source": [
    "from sklearn.metrics import accuracy_score"
   ]
  },
  {
   "cell_type": "code",
   "execution_count": 24,
   "metadata": {
    "execution": {
     "iopub.execute_input": "2023-12-05T08:54:33.318291Z",
     "iopub.status.busy": "2023-12-05T08:54:33.317912Z",
     "iopub.status.idle": "2023-12-05T08:54:33.324678Z",
     "shell.execute_reply": "2023-12-05T08:54:33.323715Z",
     "shell.execute_reply.started": "2023-12-05T08:54:33.318259Z"
    }
   },
   "outputs": [
    {
     "name": "stdout",
     "output_type": "stream",
     "text": [
      "accuracy: 0.018867924528301886\n"
     ]
    }
   ],
   "source": [
    "print('accuracy:',accuracy_score(testing.labels,predicted))"
   ]
  }
 ],
 "metadata": {
  "kaggle": {
   "accelerator": "gpu",
   "dataSources": [
    {
     "datasetId": 2579480,
     "sourceId": 4532039,
     "sourceType": "datasetVersion"
    }
   ],
   "dockerImageVersionId": 30588,
   "isGpuEnabled": true,
   "isInternetEnabled": true,
   "language": "python",
   "sourceType": "notebook"
  },
  "kernelspec": {
   "display_name": "Python 3 (ipykernel)",
   "language": "python",
   "name": "python3"
  },
  "language_info": {
   "codemirror_mode": {
    "name": "ipython",
    "version": 3
   },
   "file_extension": ".py",
   "mimetype": "text/x-python",
   "name": "python",
   "nbconvert_exporter": "python",
   "pygments_lexer": "ipython3",
   "version": "3.9.7"
  }
 },
 "nbformat": 4,
 "nbformat_minor": 4
}
