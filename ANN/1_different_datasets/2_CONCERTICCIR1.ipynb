{
 "cells": [
  {
   "cell_type": "code",
   "execution_count": 1,
   "id": "756ecf44",
   "metadata": {},
   "outputs": [],
   "source": [
    "# Importing required libraries \n",
    "import pandas as pd \n",
    "import numpy as np\n",
    "import matplotlib.pyplot as plt "
   ]
  },
  {
   "cell_type": "markdown",
   "id": "30390514",
   "metadata": {},
   "source": [
    "### **Loading csv file**"
   ]
  },
  {
   "cell_type": "code",
   "execution_count": 2,
   "id": "a044e743",
   "metadata": {},
   "outputs": [
    {
     "data": {
      "text/html": [
       "<div>\n",
       "<style scoped>\n",
       "    .dataframe tbody tr th:only-of-type {\n",
       "        vertical-align: middle;\n",
       "    }\n",
       "\n",
       "    .dataframe tbody tr th {\n",
       "        vertical-align: top;\n",
       "    }\n",
       "\n",
       "    .dataframe thead th {\n",
       "        text-align: right;\n",
       "    }\n",
       "</style>\n",
       "<table border=\"1\" class=\"dataframe\">\n",
       "  <thead>\n",
       "    <tr style=\"text-align: right;\">\n",
       "      <th></th>\n",
       "      <th>0</th>\n",
       "      <th>1</th>\n",
       "      <th>2</th>\n",
       "    </tr>\n",
       "  </thead>\n",
       "  <tbody>\n",
       "    <tr>\n",
       "      <th>0</th>\n",
       "      <td>-0.382891</td>\n",
       "      <td>-0.090840</td>\n",
       "      <td>1.0</td>\n",
       "    </tr>\n",
       "    <tr>\n",
       "      <th>1</th>\n",
       "      <td>-0.020962</td>\n",
       "      <td>-0.477874</td>\n",
       "      <td>1.0</td>\n",
       "    </tr>\n",
       "    <tr>\n",
       "      <th>2</th>\n",
       "      <td>-0.396116</td>\n",
       "      <td>-1.289427</td>\n",
       "      <td>0.0</td>\n",
       "    </tr>\n",
       "    <tr>\n",
       "      <th>3</th>\n",
       "      <td>-0.618130</td>\n",
       "      <td>-0.063837</td>\n",
       "      <td>1.0</td>\n",
       "    </tr>\n",
       "    <tr>\n",
       "      <th>4</th>\n",
       "      <td>0.703478</td>\n",
       "      <td>-0.187038</td>\n",
       "      <td>1.0</td>\n",
       "    </tr>\n",
       "  </tbody>\n",
       "</table>\n",
       "</div>"
      ],
      "text/plain": [
       "          0         1    2\n",
       "0 -0.382891 -0.090840  1.0\n",
       "1 -0.020962 -0.477874  1.0\n",
       "2 -0.396116 -1.289427  0.0\n",
       "3 -0.618130 -0.063837  1.0\n",
       "4  0.703478 -0.187038  1.0"
      ]
     },
     "execution_count": 2,
     "metadata": {},
     "output_type": "execute_result"
    }
   ],
   "source": [
    "df=pd.read_csv(r\"Multiple CSV/2.concerticcir1.csv\",header=None) \n",
    "df.head()   "
   ]
  },
  {
   "cell_type": "code",
   "execution_count": 3,
   "id": "5edd5186",
   "metadata": {},
   "outputs": [
    {
     "name": "stdout",
     "output_type": "stream",
     "text": [
      "<class 'pandas.core.frame.DataFrame'>\n",
      "RangeIndex: 100 entries, 0 to 99\n",
      "Data columns (total 3 columns):\n",
      " #   Column  Non-Null Count  Dtype  \n",
      "---  ------  --------------  -----  \n",
      " 0   0       100 non-null    float64\n",
      " 1   1       100 non-null    float64\n",
      " 2   2       100 non-null    float64\n",
      "dtypes: float64(3)\n",
      "memory usage: 2.5 KB\n"
     ]
    }
   ],
   "source": [
    "df.info() "
   ]
  },
  {
   "cell_type": "code",
   "execution_count": 4,
   "id": "0fb07a19",
   "metadata": {},
   "outputs": [
    {
     "data": {
      "text/plain": [
       "2\n",
       "1.0    50\n",
       "0.0    50\n",
       "Name: count, dtype: int64"
      ]
     },
     "execution_count": 4,
     "metadata": {},
     "output_type": "execute_result"
    }
   ],
   "source": [
    "# Checking whether target variable is balanced or not\n",
    "df[2].value_counts() "
   ]
  },
  {
   "cell_type": "markdown",
   "id": "b65ed298-6adb-4037-bbc0-572a6b41e550",
   "metadata": {},
   "source": [
    "**Observation:**\n",
    "- The data is balanced with 50% as 1 and 50% as 0."
   ]
  },
  {
   "cell_type": "markdown",
   "id": "13f5b0f5",
   "metadata": {},
   "source": [
    "### **Identifying Input and Output Features**"
   ]
  },
  {
   "cell_type": "code",
   "execution_count": 5,
   "id": "742672c9",
   "metadata": {},
   "outputs": [],
   "source": [
    "x=df.iloc[:,0:2]\n",
    "y=df.iloc[:,2].astype(int) "
   ]
  },
  {
   "cell_type": "code",
   "execution_count": 6,
   "id": "7301a154",
   "metadata": {},
   "outputs": [
    {
     "data": {
      "text/html": [
       "<div>\n",
       "<style scoped>\n",
       "    .dataframe tbody tr th:only-of-type {\n",
       "        vertical-align: middle;\n",
       "    }\n",
       "\n",
       "    .dataframe tbody tr th {\n",
       "        vertical-align: top;\n",
       "    }\n",
       "\n",
       "    .dataframe thead th {\n",
       "        text-align: right;\n",
       "    }\n",
       "</style>\n",
       "<table border=\"1\" class=\"dataframe\">\n",
       "  <thead>\n",
       "    <tr style=\"text-align: right;\">\n",
       "      <th></th>\n",
       "      <th>0</th>\n",
       "      <th>1</th>\n",
       "    </tr>\n",
       "  </thead>\n",
       "  <tbody>\n",
       "    <tr>\n",
       "      <th>0</th>\n",
       "      <td>-0.382891</td>\n",
       "      <td>-0.090840</td>\n",
       "    </tr>\n",
       "    <tr>\n",
       "      <th>1</th>\n",
       "      <td>-0.020962</td>\n",
       "      <td>-0.477874</td>\n",
       "    </tr>\n",
       "    <tr>\n",
       "      <th>2</th>\n",
       "      <td>-0.396116</td>\n",
       "      <td>-1.289427</td>\n",
       "    </tr>\n",
       "    <tr>\n",
       "      <th>3</th>\n",
       "      <td>-0.618130</td>\n",
       "      <td>-0.063837</td>\n",
       "    </tr>\n",
       "    <tr>\n",
       "      <th>4</th>\n",
       "      <td>0.703478</td>\n",
       "      <td>-0.187038</td>\n",
       "    </tr>\n",
       "  </tbody>\n",
       "</table>\n",
       "</div>"
      ],
      "text/plain": [
       "          0         1\n",
       "0 -0.382891 -0.090840\n",
       "1 -0.020962 -0.477874\n",
       "2 -0.396116 -1.289427\n",
       "3 -0.618130 -0.063837\n",
       "4  0.703478 -0.187038"
      ]
     },
     "execution_count": 6,
     "metadata": {},
     "output_type": "execute_result"
    }
   ],
   "source": [
    "x.head() "
   ]
  },
  {
   "cell_type": "markdown",
   "id": "25ea1eb6",
   "metadata": {},
   "source": [
    "### Split the data into train and test "
   ]
  },
  {
   "cell_type": "code",
   "execution_count": 7,
   "id": "a4475097",
   "metadata": {},
   "outputs": [],
   "source": [
    "from sklearn.model_selection import train_test_split\n",
    "x_train,x_test,y_train,y_test=train_test_split(x,y,test_size=0.1) "
   ]
  },
  {
   "cell_type": "code",
   "execution_count": 8,
   "id": "49050428",
   "metadata": {},
   "outputs": [
    {
     "name": "stdout",
     "output_type": "stream",
     "text": [
      "(90, 2)\n",
      "(10, 2)\n"
     ]
    }
   ],
   "source": [
    "# Train and test shape\n",
    "print(x_train.shape) \n",
    "print(x_test.shape)"
   ]
  },
  {
   "cell_type": "markdown",
   "id": "6c912cf4",
   "metadata": {},
   "source": [
    "### Standardizing Input features"
   ]
  },
  {
   "cell_type": "code",
   "execution_count": 9,
   "id": "7cb3593c-7e7d-4667-a6cc-9f4e16696edb",
   "metadata": {},
   "outputs": [],
   "source": [
    "from sklearn.preprocessing import StandardScaler\n",
    "std=StandardScaler()"
   ]
  },
  {
   "cell_type": "markdown",
   "id": "1e9f19e3-443c-49e6-af83-490c9d71c5a2",
   "metadata": {},
   "source": [
    "### Rescaling numerical Input(train and test) features"
   ]
  },
  {
   "cell_type": "code",
   "execution_count": 10,
   "id": "80f5dc5e",
   "metadata": {},
   "outputs": [],
   "source": [
    "# Fit and transform on train data\n",
    "x_train=std.fit_transform(x_train)\n",
    "\n",
    "# Transform on test data\n",
    "x_test=std.transform(x_test)  "
   ]
  },
  {
   "cell_type": "markdown",
   "id": "e4e42b2f",
   "metadata": {},
   "source": [
    "### **Building the Logical Structure**"
   ]
  },
  {
   "cell_type": "code",
   "execution_count": 11,
   "id": "c9f23ee2-f6f9-43f4-bca7-4502082435f6",
   "metadata": {},
   "outputs": [],
   "source": [
    "# Importing libraries to build a neural network \n",
    "from keras import Sequential \n",
    "from keras.layers import Dense, Dropout, BatchNormalization\n",
    "\n",
    "from keras.regularizers import L1,L2,L1L2 \n",
    "from keras.optimizers import SGD "
   ]
  },
  {
   "cell_type": "code",
   "execution_count": 31,
   "id": "c418f0f8",
   "metadata": {},
   "outputs": [],
   "source": [
    "model=Sequential()\n",
    "model.add(Dense(18,activation=\"relu\",kernel_regularizer=L2(0.001),bias_regularizer=L2(0.001),input_dim=2))\n",
    "model.add(Dense(16,activation=\"relu\",kernel_regularizer=L2(0.001),bias_regularizer=L2(0.001)))\n",
    "model.add(Dense(10,activation=\"relu\",kernel_regularizer=L2(0.001),bias_regularizer=L2(0.001)))\n",
    "model.add(Dense(4,activation=\"relu\",kernel_regularizer=L2(0.001),bias_regularizer=L2(0.001)))\n",
    "model.add(Dense(1,activation=\"sigmoid\"))"
   ]
  },
  {
   "cell_type": "code",
   "execution_count": 32,
   "id": "aec08cfb",
   "metadata": {},
   "outputs": [
    {
     "name": "stdout",
     "output_type": "stream",
     "text": [
      "Model: \"sequential_3\"\n",
      "_________________________________________________________________\n",
      " Layer (type)                Output Shape              Param #   \n",
      "=================================================================\n",
      " dense_13 (Dense)            (None, 18)                54        \n",
      "                                                                 \n",
      " dense_14 (Dense)            (None, 16)                304       \n",
      "                                                                 \n",
      " dense_15 (Dense)            (None, 10)                170       \n",
      "                                                                 \n",
      " dense_16 (Dense)            (None, 4)                 44        \n",
      "                                                                 \n",
      " dense_17 (Dense)            (None, 1)                 5         \n",
      "                                                                 \n",
      "=================================================================\n",
      "Total params: 577 (2.25 KB)\n",
      "Trainable params: 577 (2.25 KB)\n",
      "Non-trainable params: 0 (0.00 Byte)\n",
      "_________________________________________________________________\n"
     ]
    }
   ],
   "source": [
    "model.summary()"
   ]
  },
  {
   "cell_type": "markdown",
   "id": "6c875aa0",
   "metadata": {},
   "source": [
    "### compiling the model "
   ]
  },
  {
   "cell_type": "code",
   "execution_count": 35,
   "id": "3d3e948c",
   "metadata": {},
   "outputs": [
    {
     "name": "stdout",
     "output_type": "stream",
     "text": [
      "Epoch 1/100\n",
      "6/6 [==============================] - 1s 60ms/step - loss: 0.6593 - accuracy: 0.8025 - val_loss: 0.6414 - val_accuracy: 0.8889\n",
      "Epoch 2/100\n",
      "6/6 [==============================] - 0s 16ms/step - loss: 0.6577 - accuracy: 0.8025 - val_loss: 0.6408 - val_accuracy: 0.8889\n",
      "Epoch 3/100\n",
      "6/6 [==============================] - 0s 14ms/step - loss: 0.6571 - accuracy: 0.8025 - val_loss: 0.6406 - val_accuracy: 0.8889\n",
      "Epoch 4/100\n",
      "6/6 [==============================] - 0s 15ms/step - loss: 0.6563 - accuracy: 0.8025 - val_loss: 0.6387 - val_accuracy: 0.8889\n",
      "Epoch 5/100\n",
      "6/6 [==============================] - 0s 16ms/step - loss: 0.6547 - accuracy: 0.8148 - val_loss: 0.6375 - val_accuracy: 0.8889\n",
      "Epoch 6/100\n",
      "6/6 [==============================] - 0s 15ms/step - loss: 0.6539 - accuracy: 0.8025 - val_loss: 0.6357 - val_accuracy: 0.8889\n",
      "Epoch 7/100\n",
      "6/6 [==============================] - 0s 13ms/step - loss: 0.6527 - accuracy: 0.8148 - val_loss: 0.6350 - val_accuracy: 0.8889\n",
      "Epoch 8/100\n",
      "6/6 [==============================] - 0s 17ms/step - loss: 0.6520 - accuracy: 0.8025 - val_loss: 0.6329 - val_accuracy: 0.8889\n",
      "Epoch 9/100\n",
      "6/6 [==============================] - 0s 22ms/step - loss: 0.6506 - accuracy: 0.8148 - val_loss: 0.6323 - val_accuracy: 0.8889\n",
      "Epoch 10/100\n",
      "6/6 [==============================] - 0s 19ms/step - loss: 0.6498 - accuracy: 0.8148 - val_loss: 0.6311 - val_accuracy: 0.8889\n",
      "Epoch 11/100\n",
      "6/6 [==============================] - 0s 15ms/step - loss: 0.6489 - accuracy: 0.8148 - val_loss: 0.6282 - val_accuracy: 0.8889\n",
      "Epoch 12/100\n",
      "6/6 [==============================] - 0s 12ms/step - loss: 0.6476 - accuracy: 0.8148 - val_loss: 0.6271 - val_accuracy: 0.8889\n",
      "Epoch 13/100\n",
      "6/6 [==============================] - 0s 13ms/step - loss: 0.6465 - accuracy: 0.8148 - val_loss: 0.6255 - val_accuracy: 0.8889\n",
      "Epoch 14/100\n",
      "6/6 [==============================] - 0s 14ms/step - loss: 0.6453 - accuracy: 0.8148 - val_loss: 0.6235 - val_accuracy: 0.8889\n",
      "Epoch 15/100\n",
      "6/6 [==============================] - 0s 14ms/step - loss: 0.6442 - accuracy: 0.8148 - val_loss: 0.6244 - val_accuracy: 0.8889\n",
      "Epoch 16/100\n",
      "6/6 [==============================] - 0s 15ms/step - loss: 0.6433 - accuracy: 0.8148 - val_loss: 0.6222 - val_accuracy: 0.8889\n",
      "Epoch 17/100\n",
      "6/6 [==============================] - 0s 16ms/step - loss: 0.6420 - accuracy: 0.8148 - val_loss: 0.6198 - val_accuracy: 0.8889\n",
      "Epoch 18/100\n",
      "6/6 [==============================] - 0s 21ms/step - loss: 0.6412 - accuracy: 0.8148 - val_loss: 0.6192 - val_accuracy: 0.8889\n",
      "Epoch 19/100\n",
      "6/6 [==============================] - 0s 19ms/step - loss: 0.6401 - accuracy: 0.8272 - val_loss: 0.6167 - val_accuracy: 0.8889\n",
      "Epoch 20/100\n",
      "6/6 [==============================] - 0s 15ms/step - loss: 0.6388 - accuracy: 0.8148 - val_loss: 0.6138 - val_accuracy: 0.8889\n",
      "Epoch 21/100\n",
      "6/6 [==============================] - 0s 13ms/step - loss: 0.6378 - accuracy: 0.8148 - val_loss: 0.6123 - val_accuracy: 0.8889\n",
      "Epoch 22/100\n",
      "6/6 [==============================] - 0s 11ms/step - loss: 0.6362 - accuracy: 0.8148 - val_loss: 0.6118 - val_accuracy: 0.8889\n",
      "Epoch 23/100\n",
      "6/6 [==============================] - 0s 15ms/step - loss: 0.6353 - accuracy: 0.8148 - val_loss: 0.6107 - val_accuracy: 0.8889\n",
      "Epoch 24/100\n",
      "6/6 [==============================] - 0s 21ms/step - loss: 0.6338 - accuracy: 0.8148 - val_loss: 0.6120 - val_accuracy: 0.8889\n",
      "Epoch 25/100\n",
      "6/6 [==============================] - 0s 20ms/step - loss: 0.6328 - accuracy: 0.8519 - val_loss: 0.6094 - val_accuracy: 0.8889\n",
      "Epoch 26/100\n",
      "6/6 [==============================] - 0s 15ms/step - loss: 0.6316 - accuracy: 0.8148 - val_loss: 0.6080 - val_accuracy: 0.8889\n",
      "Epoch 27/100\n",
      "6/6 [==============================] - 0s 13ms/step - loss: 0.6304 - accuracy: 0.8148 - val_loss: 0.6067 - val_accuracy: 0.8889\n",
      "Epoch 28/100\n",
      "6/6 [==============================] - 0s 14ms/step - loss: 0.6290 - accuracy: 0.8148 - val_loss: 0.6054 - val_accuracy: 0.8889\n",
      "Epoch 29/100\n",
      "6/6 [==============================] - 0s 14ms/step - loss: 0.6282 - accuracy: 0.8272 - val_loss: 0.6058 - val_accuracy: 0.8889\n",
      "Epoch 30/100\n",
      "6/6 [==============================] - 0s 18ms/step - loss: 0.6268 - accuracy: 0.8765 - val_loss: 0.6037 - val_accuracy: 0.8889\n",
      "Epoch 31/100\n",
      "6/6 [==============================] - 0s 16ms/step - loss: 0.6259 - accuracy: 0.8642 - val_loss: 0.6006 - val_accuracy: 0.8889\n",
      "Epoch 32/100\n",
      "6/6 [==============================] - 0s 14ms/step - loss: 0.6248 - accuracy: 0.8889 - val_loss: 0.5981 - val_accuracy: 0.8889\n",
      "Epoch 33/100\n",
      "6/6 [==============================] - 0s 15ms/step - loss: 0.6231 - accuracy: 0.8272 - val_loss: 0.5965 - val_accuracy: 0.8889\n",
      "Epoch 34/100\n",
      "6/6 [==============================] - 0s 16ms/step - loss: 0.6218 - accuracy: 0.8642 - val_loss: 0.5946 - val_accuracy: 0.8889\n",
      "Epoch 35/100\n",
      "6/6 [==============================] - 0s 17ms/step - loss: 0.6210 - accuracy: 0.8395 - val_loss: 0.5919 - val_accuracy: 0.8889\n",
      "Epoch 36/100\n",
      "6/6 [==============================] - 0s 15ms/step - loss: 0.6191 - accuracy: 0.8148 - val_loss: 0.5905 - val_accuracy: 0.8889\n",
      "Epoch 37/100\n",
      "6/6 [==============================] - 0s 10ms/step - loss: 0.6179 - accuracy: 0.8395 - val_loss: 0.5876 - val_accuracy: 0.8889\n",
      "Epoch 38/100\n",
      "6/6 [==============================] - 0s 25ms/step - loss: 0.6166 - accuracy: 0.8272 - val_loss: 0.5860 - val_accuracy: 0.8889\n",
      "Epoch 39/100\n",
      "6/6 [==============================] - 0s 17ms/step - loss: 0.6155 - accuracy: 0.8519 - val_loss: 0.5828 - val_accuracy: 0.8889\n",
      "Epoch 40/100\n",
      "6/6 [==============================] - 0s 14ms/step - loss: 0.6138 - accuracy: 0.8272 - val_loss: 0.5832 - val_accuracy: 0.8889\n",
      "Epoch 41/100\n",
      "6/6 [==============================] - 0s 13ms/step - loss: 0.6131 - accuracy: 0.8395 - val_loss: 0.5826 - val_accuracy: 0.8889\n",
      "Epoch 42/100\n",
      "6/6 [==============================] - 0s 15ms/step - loss: 0.6112 - accuracy: 0.8642 - val_loss: 0.5805 - val_accuracy: 0.8889\n",
      "Epoch 43/100\n",
      "6/6 [==============================] - 0s 26ms/step - loss: 0.6099 - accuracy: 0.8765 - val_loss: 0.5777 - val_accuracy: 0.8889\n",
      "Epoch 44/100\n",
      "6/6 [==============================] - 0s 37ms/step - loss: 0.6089 - accuracy: 0.8272 - val_loss: 0.5776 - val_accuracy: 0.8889\n",
      "Epoch 45/100\n",
      "6/6 [==============================] - 0s 21ms/step - loss: 0.6071 - accuracy: 0.8765 - val_loss: 0.5730 - val_accuracy: 0.8889\n",
      "Epoch 46/100\n",
      "6/6 [==============================] - 0s 13ms/step - loss: 0.6058 - accuracy: 0.8395 - val_loss: 0.5708 - val_accuracy: 0.8889\n",
      "Epoch 47/100\n",
      "6/6 [==============================] - 0s 17ms/step - loss: 0.6044 - accuracy: 0.8395 - val_loss: 0.5681 - val_accuracy: 0.8889\n",
      "Epoch 48/100\n",
      "6/6 [==============================] - 0s 27ms/step - loss: 0.6035 - accuracy: 0.8272 - val_loss: 0.5676 - val_accuracy: 0.8889\n",
      "Epoch 49/100\n",
      "6/6 [==============================] - 0s 14ms/step - loss: 0.6014 - accuracy: 0.8519 - val_loss: 0.5649 - val_accuracy: 0.8889\n",
      "Epoch 50/100\n",
      "6/6 [==============================] - 0s 11ms/step - loss: 0.6008 - accuracy: 0.8519 - val_loss: 0.5607 - val_accuracy: 0.8889\n",
      "Epoch 51/100\n",
      "6/6 [==============================] - 0s 13ms/step - loss: 0.5989 - accuracy: 0.8395 - val_loss: 0.5591 - val_accuracy: 0.8889\n",
      "Epoch 52/100\n",
      "6/6 [==============================] - 0s 14ms/step - loss: 0.5974 - accuracy: 0.8272 - val_loss: 0.5575 - val_accuracy: 0.8889\n",
      "Epoch 53/100\n",
      "6/6 [==============================] - 0s 11ms/step - loss: 0.5962 - accuracy: 0.8395 - val_loss: 0.5555 - val_accuracy: 0.8889\n",
      "Epoch 54/100\n",
      "6/6 [==============================] - 0s 13ms/step - loss: 0.5944 - accuracy: 0.8272 - val_loss: 0.5537 - val_accuracy: 0.8889\n",
      "Epoch 55/100\n",
      "6/6 [==============================] - 0s 9ms/step - loss: 0.5928 - accuracy: 0.8395 - val_loss: 0.5507 - val_accuracy: 0.8889\n",
      "Epoch 56/100\n",
      "6/6 [==============================] - 0s 11ms/step - loss: 0.5916 - accuracy: 0.8272 - val_loss: 0.5502 - val_accuracy: 0.8889\n",
      "Epoch 57/100\n",
      "6/6 [==============================] - 0s 9ms/step - loss: 0.5902 - accuracy: 0.8765 - val_loss: 0.5472 - val_accuracy: 0.8889\n",
      "Epoch 58/100\n",
      "6/6 [==============================] - 0s 9ms/step - loss: 0.5883 - accuracy: 0.8395 - val_loss: 0.5435 - val_accuracy: 0.8889\n",
      "Epoch 59/100\n",
      "6/6 [==============================] - 0s 9ms/step - loss: 0.5869 - accuracy: 0.8272 - val_loss: 0.5431 - val_accuracy: 0.8889\n",
      "Epoch 60/100\n",
      "6/6 [==============================] - 0s 9ms/step - loss: 0.5857 - accuracy: 0.8395 - val_loss: 0.5447 - val_accuracy: 0.8889\n",
      "Epoch 61/100\n",
      "6/6 [==============================] - 0s 9ms/step - loss: 0.5838 - accuracy: 0.8765 - val_loss: 0.5459 - val_accuracy: 0.8889\n",
      "Epoch 62/100\n",
      "6/6 [==============================] - 0s 15ms/step - loss: 0.5824 - accuracy: 0.8765 - val_loss: 0.5459 - val_accuracy: 1.0000\n",
      "Epoch 63/100\n",
      "6/6 [==============================] - 0s 12ms/step - loss: 0.5808 - accuracy: 0.8889 - val_loss: 0.5411 - val_accuracy: 0.8889\n",
      "Epoch 64/100\n",
      "6/6 [==============================] - 0s 14ms/step - loss: 0.5793 - accuracy: 0.8765 - val_loss: 0.5398 - val_accuracy: 0.8889\n",
      "Epoch 65/100\n",
      "6/6 [==============================] - 0s 11ms/step - loss: 0.5781 - accuracy: 0.9012 - val_loss: 0.5394 - val_accuracy: 1.0000\n",
      "Epoch 66/100\n",
      "6/6 [==============================] - 0s 17ms/step - loss: 0.5762 - accuracy: 0.8765 - val_loss: 0.5372 - val_accuracy: 1.0000\n",
      "Epoch 67/100\n",
      "6/6 [==============================] - 0s 14ms/step - loss: 0.5742 - accuracy: 0.8889 - val_loss: 0.5359 - val_accuracy: 1.0000\n",
      "Epoch 68/100\n",
      "6/6 [==============================] - 0s 11ms/step - loss: 0.5729 - accuracy: 0.9012 - val_loss: 0.5324 - val_accuracy: 0.8889\n",
      "Epoch 69/100\n",
      "6/6 [==============================] - 0s 10ms/step - loss: 0.5713 - accuracy: 0.9012 - val_loss: 0.5279 - val_accuracy: 0.8889\n",
      "Epoch 70/100\n",
      "6/6 [==============================] - 0s 9ms/step - loss: 0.5695 - accuracy: 0.8765 - val_loss: 0.5245 - val_accuracy: 0.8889\n",
      "Epoch 71/100\n",
      "6/6 [==============================] - 0s 9ms/step - loss: 0.5679 - accuracy: 0.8765 - val_loss: 0.5256 - val_accuracy: 0.8889\n",
      "Epoch 72/100\n",
      "6/6 [==============================] - 0s 9ms/step - loss: 0.5664 - accuracy: 0.8889 - val_loss: 0.5239 - val_accuracy: 0.8889\n",
      "Epoch 73/100\n",
      "6/6 [==============================] - 0s 10ms/step - loss: 0.5643 - accuracy: 0.9012 - val_loss: 0.5219 - val_accuracy: 1.0000\n",
      "Epoch 74/100\n",
      "6/6 [==============================] - 0s 14ms/step - loss: 0.5631 - accuracy: 0.9012 - val_loss: 0.5207 - val_accuracy: 0.8889\n",
      "Epoch 75/100\n",
      "6/6 [==============================] - 0s 12ms/step - loss: 0.5613 - accuracy: 0.9012 - val_loss: 0.5166 - val_accuracy: 0.8889\n",
      "Epoch 76/100\n",
      "6/6 [==============================] - 0s 10ms/step - loss: 0.5600 - accuracy: 0.9012 - val_loss: 0.5137 - val_accuracy: 0.8889\n",
      "Epoch 77/100\n",
      "6/6 [==============================] - 0s 9ms/step - loss: 0.5591 - accuracy: 0.8889 - val_loss: 0.5103 - val_accuracy: 0.8889\n",
      "Epoch 78/100\n",
      "6/6 [==============================] - 0s 14ms/step - loss: 0.5564 - accuracy: 0.8889 - val_loss: 0.5062 - val_accuracy: 0.8889\n",
      "Epoch 79/100\n",
      "6/6 [==============================] - 0s 15ms/step - loss: 0.5545 - accuracy: 0.8765 - val_loss: 0.5059 - val_accuracy: 0.8889\n",
      "Epoch 80/100\n",
      "6/6 [==============================] - 0s 12ms/step - loss: 0.5532 - accuracy: 0.8765 - val_loss: 0.5049 - val_accuracy: 0.8889\n",
      "Epoch 81/100\n",
      "6/6 [==============================] - 0s 9ms/step - loss: 0.5516 - accuracy: 0.8765 - val_loss: 0.5028 - val_accuracy: 0.8889\n",
      "Epoch 82/100\n",
      "6/6 [==============================] - 0s 9ms/step - loss: 0.5495 - accuracy: 0.8889 - val_loss: 0.5001 - val_accuracy: 0.8889\n",
      "Epoch 83/100\n",
      "6/6 [==============================] - 0s 15ms/step - loss: 0.5479 - accuracy: 0.8765 - val_loss: 0.4962 - val_accuracy: 0.8889\n",
      "Epoch 84/100\n",
      "6/6 [==============================] - 0s 17ms/step - loss: 0.5462 - accuracy: 0.9012 - val_loss: 0.4937 - val_accuracy: 0.8889\n",
      "Epoch 85/100\n",
      "6/6 [==============================] - 0s 12ms/step - loss: 0.5449 - accuracy: 0.8765 - val_loss: 0.4945 - val_accuracy: 0.8889\n",
      "Epoch 86/100\n",
      "6/6 [==============================] - 0s 11ms/step - loss: 0.5427 - accuracy: 0.8765 - val_loss: 0.4916 - val_accuracy: 0.8889\n",
      "Epoch 87/100\n",
      "6/6 [==============================] - 0s 11ms/step - loss: 0.5411 - accuracy: 0.8889 - val_loss: 0.4901 - val_accuracy: 0.8889\n",
      "Epoch 88/100\n",
      "6/6 [==============================] - 0s 14ms/step - loss: 0.5393 - accuracy: 0.8765 - val_loss: 0.4882 - val_accuracy: 0.8889\n",
      "Epoch 89/100\n",
      "6/6 [==============================] - 0s 18ms/step - loss: 0.5384 - accuracy: 0.8889 - val_loss: 0.4831 - val_accuracy: 0.8889\n",
      "Epoch 90/100\n",
      "6/6 [==============================] - 0s 12ms/step - loss: 0.5366 - accuracy: 0.8765 - val_loss: 0.4841 - val_accuracy: 0.8889\n",
      "Epoch 91/100\n",
      "6/6 [==============================] - 0s 9ms/step - loss: 0.5354 - accuracy: 0.8765 - val_loss: 0.4838 - val_accuracy: 0.8889\n",
      "Epoch 92/100\n",
      "6/6 [==============================] - 0s 9ms/step - loss: 0.5327 - accuracy: 0.8889 - val_loss: 0.4821 - val_accuracy: 0.8889\n",
      "Epoch 93/100\n",
      "6/6 [==============================] - 0s 10ms/step - loss: 0.5315 - accuracy: 0.8765 - val_loss: 0.4815 - val_accuracy: 0.8889\n",
      "Epoch 94/100\n",
      "6/6 [==============================] - 0s 16ms/step - loss: 0.5303 - accuracy: 0.8889 - val_loss: 0.4785 - val_accuracy: 0.8889\n",
      "Epoch 95/100\n",
      "6/6 [==============================] - 0s 15ms/step - loss: 0.5287 - accuracy: 0.8889 - val_loss: 0.4779 - val_accuracy: 0.8889\n",
      "Epoch 96/100\n",
      "6/6 [==============================] - 0s 11ms/step - loss: 0.5266 - accuracy: 0.8765 - val_loss: 0.4729 - val_accuracy: 0.8889\n",
      "Epoch 97/100\n",
      "6/6 [==============================] - 0s 10ms/step - loss: 0.5251 - accuracy: 0.8765 - val_loss: 0.4735 - val_accuracy: 0.8889\n",
      "Epoch 98/100\n",
      "6/6 [==============================] - 0s 9ms/step - loss: 0.5232 - accuracy: 0.8889 - val_loss: 0.4739 - val_accuracy: 0.8889\n",
      "Epoch 99/100\n",
      "6/6 [==============================] - 0s 9ms/step - loss: 0.5215 - accuracy: 0.8765 - val_loss: 0.4683 - val_accuracy: 0.8889\n",
      "Epoch 100/100\n",
      "6/6 [==============================] - 0s 10ms/step - loss: 0.5197 - accuracy: 0.8889 - val_loss: 0.4692 - val_accuracy: 0.8889\n"
     ]
    }
   ],
   "source": [
    "model.compile(loss=\"binary_crossentropy\",optimizer=SGD(0.01),metrics=[\"accuracy\"])\n",
    "history=model.fit(x_train,y_train,batch_size=15,epochs=100,validation_split=0.1) "
   ]
  },
  {
   "cell_type": "code",
   "execution_count": 37,
   "id": "f264010e",
   "metadata": {},
   "outputs": [
    {
     "data": {
      "text/plain": [
       "<matplotlib.legend.Legend at 0x1c835fb6ca0>"
      ]
     },
     "execution_count": 37,
     "metadata": {},
     "output_type": "execute_result"
    },
    {
     "data": {
      "image/png": "[encoded data removed]",
      "text/plain": [
       "<Figure size 640x480 with 1 Axes>"
      ]
     },
     "metadata": {},
     "output_type": "display_data"
    }
   ],
   "source": [
    "plt.plot(range(1,101),history.history[\"loss\"],label=\"train_loss\")\n",
    "plt.plot(range(1,101),history.history[\"val_loss\"],label=\"test_loss\") \n",
    "plt.legend()"
   ]
  },
  {
   "cell_type": "markdown",
   "id": "bb0e957f",
   "metadata": {},
   "source": [
    "### Predicting the model "
   ]
  },
  {
   "cell_type": "code",
   "execution_count": 38,
   "id": "55eca951",
   "metadata": {},
   "outputs": [
    {
     "name": "stdout",
     "output_type": "stream",
     "text": [
      "1/1 [==============================] - 0s 84ms/step\n"
     ]
    },
    {
     "data": {
      "text/plain": [
       "array([[0.6529581 ],\n",
       "       [0.63498324],\n",
       "       [0.19323705],\n",
       "       [0.43972674],\n",
       "       [0.18520477],\n",
       "       [0.16665967],\n",
       "       [0.6342365 ],\n",
       "       [0.21986055],\n",
       "       [0.3468449 ],\n",
       "       [0.36950657]], dtype=float32)"
      ]
     },
     "execution_count": 38,
     "metadata": {},
     "output_type": "execute_result"
    }
   ],
   "source": [
    "predicted=model.predict(x_test) \n",
    "predicted "
   ]
  },
  {
   "cell_type": "markdown",
   "id": "336483b7-f8d8-478a-9736-cc46b3bb4e84",
   "metadata": {},
   "source": [
    "**Observation:**\n",
    "- As predicted values are in probability values and we want predicted label either 1 or 0, if probability value is >0.5 then predicted label will be as 1 and if <= 0.5 then predicted label will be as 0."
   ]
  },
  {
   "cell_type": "code",
   "execution_count": 39,
   "id": "438b972e",
   "metadata": {},
   "outputs": [
    {
     "data": {
      "text/plain": [
       "array([[1],\n",
       "       [1],\n",
       "       [0],\n",
       "       [0],\n",
       "       [0],\n",
       "       [0],\n",
       "       [1],\n",
       "       [0],\n",
       "       [0],\n",
       "       [0]])"
      ]
     },
     "execution_count": 39,
     "metadata": {},
     "output_type": "execute_result"
    }
   ],
   "source": [
    "predicted=np.where(predicted>0.5,1,0)\n",
    "predicted  "
   ]
  },
  {
   "cell_type": "markdown",
   "id": "1cdca40d",
   "metadata": {},
   "source": [
    "### **Evaluating the model**"
   ]
  },
  {
   "cell_type": "code",
   "execution_count": 40,
   "id": "e5665761",
   "metadata": {},
   "outputs": [
    {
     "name": "stdout",
     "output_type": "stream",
     "text": [
      "Accuracy: 0.9\n"
     ]
    }
   ],
   "source": [
    "# Accuracy for the model\n",
    "from sklearn.metrics import accuracy_score,confusion_matrix,ConfusionMatrixDisplay\n",
    "print('Accuracy:',accuracy_score(y_test,predicted))"
   ]
  },
  {
   "cell_type": "code",
   "execution_count": 41,
   "id": "49862c50-ad74-45b1-96e4-d2a1644052c0",
   "metadata": {},
   "outputs": [
    {
     "data": {
      "image/png": "[encoded data removed]",
      "text/plain": [
       "<Figure size 640x480 with 2 Axes>"
      ]
     },
     "metadata": {},
     "output_type": "display_data"
    }
   ],
   "source": [
    "# Plotting confusion matrix to visual the correctly predicted labels\n",
    "cm=confusion_matrix(y_test,predicted)\n",
    "va=ConfusionMatrixDisplay(cm)\n",
    "va.plot() \n",
    "plt.show()"
   ]
  },
  {
   "cell_type": "markdown",
   "id": "39787e6a-25e7-427b-904e-f78e6d70d115",
   "metadata": {},
   "source": [
    "**Observation:**\n",
    "- As diagonal elements should be as high as possible, We can conclude model predictions are correct."
   ]
  },
  {
   "cell_type": "markdown",
   "id": "e29e3ce8",
   "metadata": {},
   "source": [
    "### **PLOTING THE DECISION SURFACE**"
   ]
  },
  {
   "cell_type": "code",
   "execution_count": 42,
   "id": "ffffa104",
   "metadata": {},
   "outputs": [
    {
     "name": "stdout",
     "output_type": "stream",
     "text": [
      "9600/9600 [==============================] - 18s 2ms/step\n"
     ]
    },
    {
     "data": {
      "text/plain": [
       "<Axes: >"
      ]
     },
     "execution_count": 42,
     "metadata": {},
     "output_type": "execute_result"
    },
    {
     "data": {
      "image/png": "[encoded data removed]",
      "text/plain": [
       "<Figure size 640x480 with 1 Axes>"
      ]
     },
     "metadata": {},
     "output_type": "display_data"
    }
   ],
   "source": [
    "# Decision surface on train data\n",
    "from mlxtend.plotting  import plot_decision_regions  \n",
    "plot_decision_regions(x_train,y_train.values,clf=model) "
   ]
  },
  {
   "cell_type": "code",
   "execution_count": 43,
   "id": "d8e35fb0",
   "metadata": {},
   "outputs": [
    {
     "name": "stdout",
     "output_type": "stream",
     "text": [
      "9600/9600 [==============================] - 16s 2ms/step\n"
     ]
    },
    {
     "data": {
      "text/plain": [
       "<Axes: >"
      ]
     },
     "execution_count": 43,
     "metadata": {},
     "output_type": "execute_result"
    },
    {
     "data": {
      "image/png": "[encoded data removed]",
      "text/plain": [
       "<Figure size 640x480 with 1 Axes>"
      ]
     },
     "metadata": {},
     "output_type": "display_data"
    }
   ],
   "source": [
    "# Decision surface on test data\n",
    "plot_decision_regions(x_test,y_test.values,clf=model)  "
   ]
  },
  {
   "cell_type": "markdown",
   "id": "f8e19e71",
   "metadata": {},
   "source": [
    "## **Conclusions:**\n",
    "- This neural network model achieves an accuracy of 90%. The model architecture consists of 4 hidden layers.\n",
    "- In the first hidden layer, there are 18 neurons with the ReLU activation function and an L2 regularizer with learning rate as 0.001.\n",
    "- In the second hidden layer, there are 16 neurons with the ReLU activation function and an L2 regularizer with learning rate as 0.001.\n",
    "- In the third hidden layer, there are 10 neurons with the ReLU activation function and an L2 regularizer with learning rate as 0.001.\n",
    "\n",
    "- The output layer uses the sigmoid activation function.\n",
    "\n",
    "### In model compilation,\n",
    "- Loss function is Binary cross-entropy as our target variable is like 0's and 1's.\n",
    "- Optimizer is SGD(Stochastic Gradient Descent) with a batch size of 10 and a learning rate of 0.01.\n",
    "- The model was trained for 100 epochs.\n",
    " \n",
    "- **Overall, this neural network model architecture and training configuration achieve an accuracy of 90%.**"
   ]
  },
  {
   "cell_type": "code",
   "execution_count": null,
   "id": "29447001",
   "metadata": {},
   "outputs": [],
   "source": []
  }
 ],
 "metadata": {
  "kernelspec": {
   "display_name": "Python 3 (ipykernel)",
   "language": "python",
   "name": "python3"
  },
  "language_info": {
   "codemirror_mode": {
    "name": "ipython",
    "version": 3
   },
   "file_extension": ".py",
   "mimetype": "text/x-python",
   "name": "python",
   "nbconvert_exporter": "python",
   "pygments_lexer": "ipython3",
   "version": "3.9.13"
  }
 },
 "nbformat": 4,
 "nbformat_minor": 5
}
