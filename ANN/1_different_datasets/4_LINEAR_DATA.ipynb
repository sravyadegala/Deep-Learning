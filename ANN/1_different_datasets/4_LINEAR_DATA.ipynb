{
 "cells": [
  {
   "cell_type": "markdown",
   "id": "5be3d139",
   "metadata": {},
   "source": [
    "## Importing Libraries"
   ]
  },
  {
   "cell_type": "code",
   "execution_count": 14,
   "id": "40abc87c",
   "metadata": {},
   "outputs": [],
   "source": [
    "import numpy as np\n",
    "import pandas as pd  \n",
    "import matplotlib.pyplot as plt \n",
    "import seaborn as sns  "
   ]
  },
  {
   "cell_type": "markdown",
   "id": "437f92c6",
   "metadata": {},
   "source": [
    "## Loading the CSV file "
   ]
  },
  {
   "cell_type": "code",
   "execution_count": 15,
   "id": "a99e2cdc",
   "metadata": {},
   "outputs": [
    {
     "data": {
      "text/html": [
       "<div>\n",
       "<style scoped>\n",
       "    .dataframe tbody tr th:only-of-type {\n",
       "        vertical-align: middle;\n",
       "    }\n",
       "\n",
       "    .dataframe tbody tr th {\n",
       "        vertical-align: top;\n",
       "    }\n",
       "\n",
       "    .dataframe thead th {\n",
       "        text-align: right;\n",
       "    }\n",
       "</style>\n",
       "<table border=\"1\" class=\"dataframe\">\n",
       "  <thead>\n",
       "    <tr style=\"text-align: right;\">\n",
       "      <th></th>\n",
       "      <th>0</th>\n",
       "      <th>1</th>\n",
       "      <th>2</th>\n",
       "    </tr>\n",
       "  </thead>\n",
       "  <tbody>\n",
       "    <tr>\n",
       "      <th>0</th>\n",
       "      <td>-0.177497</td>\n",
       "      <td>0.930496</td>\n",
       "      <td>1.0</td>\n",
       "    </tr>\n",
       "    <tr>\n",
       "      <th>1</th>\n",
       "      <td>1.977424</td>\n",
       "      <td>1.766155</td>\n",
       "      <td>0.0</td>\n",
       "    </tr>\n",
       "    <tr>\n",
       "      <th>2</th>\n",
       "      <td>1.800024</td>\n",
       "      <td>1.700343</td>\n",
       "      <td>0.0</td>\n",
       "    </tr>\n",
       "    <tr>\n",
       "      <th>3</th>\n",
       "      <td>-0.770837</td>\n",
       "      <td>2.359163</td>\n",
       "      <td>1.0</td>\n",
       "    </tr>\n",
       "    <tr>\n",
       "      <th>4</th>\n",
       "      <td>-0.308009</td>\n",
       "      <td>1.594063</td>\n",
       "      <td>1.0</td>\n",
       "    </tr>\n",
       "  </tbody>\n",
       "</table>\n",
       "</div>"
      ],
      "text/plain": [
       "          0         1    2\n",
       "0 -0.177497  0.930496  1.0\n",
       "1  1.977424  1.766155  0.0\n",
       "2  1.800024  1.700343  0.0\n",
       "3 -0.770837  2.359163  1.0\n",
       "4 -0.308009  1.594063  1.0"
      ]
     },
     "execution_count": 15,
     "metadata": {},
     "output_type": "execute_result"
    }
   ],
   "source": [
    "df=pd.read_csv(r\"Multiple CSV/4.linearsep.csv\",header=None) \n",
    "df.head() "
   ]
  },
  {
   "cell_type": "code",
   "execution_count": 16,
   "id": "9b109e72",
   "metadata": {},
   "outputs": [
    {
     "name": "stdout",
     "output_type": "stream",
     "text": [
      "<class 'pandas.core.frame.DataFrame'>\n",
      "RangeIndex: 100 entries, 0 to 99\n",
      "Data columns (total 3 columns):\n",
      " #   Column  Non-Null Count  Dtype  \n",
      "---  ------  --------------  -----  \n",
      " 0   0       100 non-null    float64\n",
      " 1   1       100 non-null    float64\n",
      " 2   2       100 non-null    float64\n",
      "dtypes: float64(3)\n",
      "memory usage: 2.5 KB\n"
     ]
    }
   ],
   "source": [
    "df.info() "
   ]
  },
  {
   "cell_type": "code",
   "execution_count": 51,
   "id": "c446690c",
   "metadata": {},
   "outputs": [
    {
     "data": {
      "text/plain": [
       "2\n",
       "1.0    50\n",
       "0.0    48\n",
       "Name: count, dtype: int64"
      ]
     },
     "execution_count": 51,
     "metadata": {},
     "output_type": "execute_result"
    }
   ],
   "source": [
    "# Checking whether target variable is imbalanced or not\n",
    "df[2].value_counts()   "
   ]
  },
  {
   "cell_type": "markdown",
   "id": "47048078",
   "metadata": {},
   "source": [
    "## checking outliers"
   ]
  },
  {
   "cell_type": "code",
   "execution_count": 18,
   "id": "d0be3bd7",
   "metadata": {},
   "outputs": [
    {
     "data": {
      "text/plain": [
       "<Axes: ylabel='0'>"
      ]
     },
     "execution_count": 18,
     "metadata": {},
     "output_type": "execute_result"
    },
    {
     "data": {
      "image/png": "[encoded data removed]",
      "text/plain": [
       "<Figure size 640x480 with 1 Axes>"
      ]
     },
     "metadata": {},
     "output_type": "display_data"
    }
   ],
   "source": [
    "sns.boxplot(df[0]) "
   ]
  },
  {
   "cell_type": "code",
   "execution_count": 19,
   "id": "6ad54a2c",
   "metadata": {},
   "outputs": [
    {
     "data": {
      "text/plain": [
       "<Axes: ylabel='1'>"
      ]
     },
     "execution_count": 19,
     "metadata": {},
     "output_type": "execute_result"
    },
    {
     "data": {
      "image/png": "[encoded data removed]",
      "text/plain": [
       "<Figure size 640x480 with 1 Axes>"
      ]
     },
     "metadata": {},
     "output_type": "display_data"
    }
   ],
   "source": [
    "sns.boxplot(df[1]) "
   ]
  },
  {
   "cell_type": "code",
   "execution_count": 23,
   "id": "018b78c1",
   "metadata": {},
   "outputs": [],
   "source": [
    "# removing the outliers\n",
    "df=df[df[1]<3.6] "
   ]
  },
  {
   "cell_type": "code",
   "execution_count": 24,
   "id": "d8567821",
   "metadata": {},
   "outputs": [
    {
     "name": "stdout",
     "output_type": "stream",
     "text": [
      "<class 'pandas.core.frame.DataFrame'>\n",
      "Index: 98 entries, 0 to 99\n",
      "Data columns (total 3 columns):\n",
      " #   Column  Non-Null Count  Dtype  \n",
      "---  ------  --------------  -----  \n",
      " 0   0       98 non-null     float64\n",
      " 1   1       98 non-null     float64\n",
      " 2   2       98 non-null     float64\n",
      "dtypes: float64(3)\n",
      "memory usage: 3.1 KB\n"
     ]
    }
   ],
   "source": [
    "df.info() "
   ]
  },
  {
   "cell_type": "code",
   "execution_count": 25,
   "id": "470f2292",
   "metadata": {},
   "outputs": [
    {
     "data": {
      "text/plain": [
       "<Axes: ylabel='1'>"
      ]
     },
     "execution_count": 25,
     "metadata": {},
     "output_type": "execute_result"
    },
    {
     "data": {
      "image/png": "[encoded data removed]",
      "text/plain": [
       "<Figure size 640x480 with 1 Axes>"
      ]
     },
     "metadata": {},
     "output_type": "display_data"
    }
   ],
   "source": [
    "sns.boxplot(df[1])  "
   ]
  },
  {
   "cell_type": "markdown",
   "id": "062ae0d6",
   "metadata": {},
   "source": [
    "## Identifying Input and Output Features"
   ]
  },
  {
   "cell_type": "code",
   "execution_count": 26,
   "id": "c2f1d6c8",
   "metadata": {},
   "outputs": [],
   "source": [
    "x=df.iloc[:,0:2]\n",
    "y=df.iloc[:,2].astype(int)  "
   ]
  },
  {
   "cell_type": "markdown",
   "id": "bc6aa381",
   "metadata": {},
   "source": [
    "## Spliting the data into train and test"
   ]
  },
  {
   "cell_type": "code",
   "execution_count": 29,
   "id": "4e66ac17",
   "metadata": {},
   "outputs": [],
   "source": [
    "from sklearn.model_selection import train_test_split\n",
    "x_train,x_test,y_train,y_test=train_test_split(x,y,test_size=0.1) "
   ]
  },
  {
   "cell_type": "markdown",
   "id": "9dfd8f22",
   "metadata": {},
   "source": [
    "## Standardising input features "
   ]
  },
  {
   "cell_type": "code",
   "execution_count": 32,
   "id": "01a58ff8",
   "metadata": {},
   "outputs": [],
   "source": [
    "from sklearn.preprocessing import StandardScaler\n",
    "std=StandardScaler()\n",
    "x_train=std.fit_transform(x_train)\n",
    "x_test=std.transform(x_test) "
   ]
  },
  {
   "cell_type": "markdown",
   "id": "b9b620bb",
   "metadata": {},
   "source": [
    "## Build the Logical Structure "
   ]
  },
  {
   "cell_type": "code",
   "execution_count": 33,
   "id": "fcbe15c3-c64f-43c4-8725-afd31ea9fcb0",
   "metadata": {},
   "outputs": [],
   "source": [
    "from keras import Sequential \n",
    "from keras.layers import Dense \n",
    "from keras.regularizers import L1,L2,L1L2 \n",
    "from keras.optimizers import SGD  "
   ]
  },
  {
   "cell_type": "code",
   "execution_count": 41,
   "id": "47e3e141",
   "metadata": {},
   "outputs": [],
   "source": [
    "model=Sequential()\n",
    "model.add(Dense(6,activation=\"tanh\",kernel_regularizer=L2(0.001),bias_regularizer=L2(0.001),input_dim=2))\n",
    "model.add(Dense(3,activation=\"tanh\",kernel_regularizer=L2(0.001),bias_regularizer=L2(0.001)))\n",
    "model.add(Dense(1,activation=\"sigmoid\",kernel_regularizer=L2(0.001),bias_regularizer=L2(0.001)))"
   ]
  },
  {
   "cell_type": "markdown",
   "id": "55dffebc-6803-484f-9651-13a2cc47b474",
   "metadata": {},
   "source": [
    "**Observation:**\n",
    "- As the data is not much complex, tanh activation function is used.\n",
    "- As model is overfitting, Regularization is used as Lasso with 0.001 learning rate.\n",
    "- As target variable contains binary class, In output layer i have used sigmoid as activation function."
   ]
  },
  {
   "cell_type": "code",
   "execution_count": 42,
   "id": "bf5f1d1b",
   "metadata": {},
   "outputs": [
    {
     "name": "stdout",
     "output_type": "stream",
     "text": [
      "Model: \"sequential_1\"\n",
      "_________________________________________________________________\n",
      " Layer (type)                Output Shape              Param #   \n",
      "=================================================================\n",
      " dense_3 (Dense)             (None, 6)                 18        \n",
      "                                                                 \n",
      " dense_4 (Dense)             (None, 3)                 21        \n",
      "                                                                 \n",
      " dense_5 (Dense)             (None, 1)                 4         \n",
      "                                                                 \n",
      "=================================================================\n",
      "Total params: 43 (172.00 Byte)\n",
      "Trainable params: 43 (172.00 Byte)\n",
      "Non-trainable params: 0 (0.00 Byte)\n",
      "_________________________________________________________________\n"
     ]
    }
   ],
   "source": [
    "model.summary()  "
   ]
  },
  {
   "cell_type": "markdown",
   "id": "68f49633",
   "metadata": {},
   "source": [
    "## compiling the model "
   ]
  },
  {
   "cell_type": "code",
   "execution_count": 43,
   "id": "651afe9a",
   "metadata": {},
   "outputs": [
    {
     "name": "stdout",
     "output_type": "stream",
     "text": [
      "Epoch 1/20\n",
      "8/8 [==============================] - 1s 32ms/step - loss: 0.8213 - accuracy: 0.2911 - val_loss: 0.8578 - val_accuracy: 0.0000e+00\n",
      "Epoch 2/20\n",
      "8/8 [==============================] - 0s 9ms/step - loss: 0.7968 - accuracy: 0.2911 - val_loss: 0.8278 - val_accuracy: 0.0000e+00\n",
      "Epoch 3/20\n",
      "8/8 [==============================] - 0s 10ms/step - loss: 0.7737 - accuracy: 0.3544 - val_loss: 0.7995 - val_accuracy: 0.1111\n",
      "Epoch 4/20\n",
      "8/8 [==============================] - 0s 8ms/step - loss: 0.7518 - accuracy: 0.4051 - val_loss: 0.7727 - val_accuracy: 0.3333\n",
      "Epoch 5/20\n",
      "8/8 [==============================] - 0s 8ms/step - loss: 0.7314 - accuracy: 0.4557 - val_loss: 0.7473 - val_accuracy: 0.4444\n",
      "Epoch 6/20\n",
      "8/8 [==============================] - 0s 9ms/step - loss: 0.7119 - accuracy: 0.5063 - val_loss: 0.7230 - val_accuracy: 0.4444\n",
      "Epoch 7/20\n",
      "8/8 [==============================] - 0s 8ms/step - loss: 0.6932 - accuracy: 0.5949 - val_loss: 0.7000 - val_accuracy: 0.5556\n",
      "Epoch 8/20\n",
      "8/8 [==============================] - 0s 8ms/step - loss: 0.6756 - accuracy: 0.6203 - val_loss: 0.6781 - val_accuracy: 0.7778\n",
      "Epoch 9/20\n",
      "8/8 [==============================] - 0s 9ms/step - loss: 0.6589 - accuracy: 0.6582 - val_loss: 0.6570 - val_accuracy: 0.7778\n",
      "Epoch 10/20\n",
      "8/8 [==============================] - 0s 8ms/step - loss: 0.6428 - accuracy: 0.6835 - val_loss: 0.6369 - val_accuracy: 0.7778\n",
      "Epoch 11/20\n",
      "8/8 [==============================] - 0s 9ms/step - loss: 0.6273 - accuracy: 0.6962 - val_loss: 0.6176 - val_accuracy: 0.7778\n",
      "Epoch 12/20\n",
      "8/8 [==============================] - 0s 8ms/step - loss: 0.6122 - accuracy: 0.7342 - val_loss: 0.5992 - val_accuracy: 0.7778\n",
      "Epoch 13/20\n",
      "8/8 [==============================] - 0s 8ms/step - loss: 0.5979 - accuracy: 0.7468 - val_loss: 0.5816 - val_accuracy: 0.7778\n",
      "Epoch 14/20\n",
      "8/8 [==============================] - 0s 8ms/step - loss: 0.5840 - accuracy: 0.8101 - val_loss: 0.5646 - val_accuracy: 0.7778\n",
      "Epoch 15/20\n",
      "8/8 [==============================] - 0s 14ms/step - loss: 0.5709 - accuracy: 0.8354 - val_loss: 0.5483 - val_accuracy: 0.8889\n",
      "Epoch 16/20\n",
      "8/8 [==============================] - 0s 12ms/step - loss: 0.5581 - accuracy: 0.8481 - val_loss: 0.5326 - val_accuracy: 0.8889\n",
      "Epoch 17/20\n",
      "8/8 [==============================] - 0s 8ms/step - loss: 0.5458 - accuracy: 0.8481 - val_loss: 0.5175 - val_accuracy: 0.8889\n",
      "Epoch 18/20\n",
      "8/8 [==============================] - 0s 9ms/step - loss: 0.5340 - accuracy: 0.8608 - val_loss: 0.5030 - val_accuracy: 0.8889\n",
      "Epoch 19/20\n",
      "8/8 [==============================] - 0s 8ms/step - loss: 0.5225 - accuracy: 0.8608 - val_loss: 0.4891 - val_accuracy: 0.8889\n",
      "Epoch 20/20\n",
      "8/8 [==============================] - 0s 12ms/step - loss: 0.5114 - accuracy: 0.8734 - val_loss: 0.4757 - val_accuracy: 0.8889\n"
     ]
    }
   ],
   "source": [
    "model.compile(loss=\"binary_crossentropy\",optimizer=SGD(0.01),metrics=[\"accuracy\"])\n",
    "history=model.fit(x_train,y_train,batch_size=10,epochs=20,validation_split=0.1)  "
   ]
  },
  {
   "cell_type": "code",
   "execution_count": 44,
   "id": "4ef5ab05",
   "metadata": {},
   "outputs": [
    {
     "data": {
      "text/plain": [
       "<matplotlib.legend.Legend at 0x20c828d5e20>"
      ]
     },
     "execution_count": 44,
     "metadata": {},
     "output_type": "execute_result"
    },
    {
     "data": {
      "image/png": "[encoded data removed]",
      "text/plain": [
       "<Figure size 640x480 with 1 Axes>"
      ]
     },
     "metadata": {},
     "output_type": "display_data"
    }
   ],
   "source": [
    "plt.plot(range(1,21),history.history[\"loss\"],label=\"train_loss\")\n",
    "plt.plot(range(1,21),history.history[\"val_loss\"],label=\"test_loss\") \n",
    "plt.legend()  "
   ]
  },
  {
   "cell_type": "markdown",
   "id": "816597eb",
   "metadata": {},
   "source": [
    "## Predicting the model"
   ]
  },
  {
   "cell_type": "code",
   "execution_count": 45,
   "id": "e795194f",
   "metadata": {},
   "outputs": [
    {
     "name": "stdout",
     "output_type": "stream",
     "text": [
      "1/1 [==============================] - 0s 112ms/step\n"
     ]
    },
    {
     "data": {
      "text/plain": [
       "array([[0.35657474],\n",
       "       [0.4022385 ],\n",
       "       [0.38883555],\n",
       "       [0.37556168],\n",
       "       [0.58582413],\n",
       "       [0.5645532 ],\n",
       "       [0.33565804],\n",
       "       [0.42801887],\n",
       "       [0.35750246],\n",
       "       [0.6528859 ]], dtype=float32)"
      ]
     },
     "execution_count": 45,
     "metadata": {},
     "output_type": "execute_result"
    }
   ],
   "source": [
    "predicted=model.predict(x_test) \n",
    "predicted    "
   ]
  },
  {
   "cell_type": "code",
   "execution_count": 46,
   "id": "a661cc60",
   "metadata": {},
   "outputs": [
    {
     "data": {
      "text/plain": [
       "array([[0],\n",
       "       [0],\n",
       "       [0],\n",
       "       [0],\n",
       "       [1],\n",
       "       [1],\n",
       "       [0],\n",
       "       [0],\n",
       "       [0],\n",
       "       [1]])"
      ]
     },
     "execution_count": 46,
     "metadata": {},
     "output_type": "execute_result"
    }
   ],
   "source": [
    "predicted=np.where(predicted>0.5,1,0)\n",
    "predicted "
   ]
  },
  {
   "cell_type": "markdown",
   "id": "8ffd0323",
   "metadata": {},
   "source": [
    "## Evaluating the model"
   ]
  },
  {
   "cell_type": "code",
   "execution_count": 47,
   "id": "c958f17a",
   "metadata": {},
   "outputs": [
    {
     "name": "stdout",
     "output_type": "stream",
     "text": [
      "1.0\n"
     ]
    },
    {
     "data": {
      "image/png": "[encoded data removed]",
      "text/plain": [
       "<Figure size 640x480 with 2 Axes>"
      ]
     },
     "metadata": {},
     "output_type": "display_data"
    }
   ],
   "source": [
    "from sklearn.metrics import accuracy_score,confusion_matrix,ConfusionMatrixDisplay\n",
    "print(accuracy_score(y_test,predicted))\n",
    "cm=confusion_matrix(y_test,predicted)\n",
    "va=ConfusionMatrixDisplay(cm)\n",
    "va.plot() \n",
    "plt.show()  "
   ]
  },
  {
   "cell_type": "markdown",
   "id": "b92d2491",
   "metadata": {},
   "source": [
    "## PLOTING THE DECISION SURFACE "
   ]
  },
  {
   "cell_type": "code",
   "execution_count": 48,
   "id": "0cf2f1a5",
   "metadata": {},
   "outputs": [],
   "source": [
    "from mlxtend.plotting  import plot_decision_regions  "
   ]
  },
  {
   "cell_type": "code",
   "execution_count": 49,
   "id": "a9aba988",
   "metadata": {},
   "outputs": [
    {
     "name": "stdout",
     "output_type": "stream",
     "text": [
      "9600/9600 [==============================] - 16s 2ms/step\n"
     ]
    },
    {
     "data": {
      "text/plain": [
       "<Axes: >"
      ]
     },
     "execution_count": 49,
     "metadata": {},
     "output_type": "execute_result"
    },
    {
     "data": {
      "image/png": "[encoded data removed]",
      "text/plain": [
       "<Figure size 640x480 with 1 Axes>"
      ]
     },
     "metadata": {},
     "output_type": "display_data"
    }
   ],
   "source": [
    "# Decision surface for train data\n",
    "plot_decision_regions(x_train,y_train.values,clf=model)   "
   ]
  },
  {
   "cell_type": "code",
   "execution_count": 50,
   "id": "edee34eb",
   "metadata": {},
   "outputs": [
    {
     "name": "stdout",
     "output_type": "stream",
     "text": [
      "9600/9600 [==============================] - 16s 2ms/step\n"
     ]
    },
    {
     "data": {
      "text/plain": [
       "<Axes: >"
      ]
     },
     "execution_count": 50,
     "metadata": {},
     "output_type": "execute_result"
    },
    {
     "data": {
      "image/png": "[encoded data removed]",
      "text/plain": [
       "<Figure size 640x480 with 1 Axes>"
      ]
     },
     "metadata": {},
     "output_type": "display_data"
    }
   ],
   "source": [
    "# Decision surface for test data\n",
    "plot_decision_regions(x_test,y_test.values,clf=model) "
   ]
  },
  {
   "cell_type": "markdown",
   "id": "769dd5a9",
   "metadata": {},
   "source": [
    "## Conclusions:\n",
    "\n",
    "- This neural network model achieves an accuracy of  100%.\n",
    "            \n",
    "#### The model architecture consists of 2 hidden layers: \n",
    "- In the first hidden layer, there are 6 neurons with the tanh activation function \n",
    "- In the second hidden layer, there are 3 neurons with the tanh activation function \n",
    "\n",
    "- The output layer uses the sigmoid activation function.\n",
    "\n",
    "### In model compilation,\n",
    "\n",
    "- Loss function is Binary cross-entropy.\n",
    "- Optimizer is Stochastic Gradient Descent (SGD) with a batch size of 10 and a learning rate of 0.01.\n",
    "- The model was trained for 20 epochs.\n",
    " \n",
    "#### Overall, this neural network model architecture and training configuration achieve an accuracy of 100%.    "
   ]
  },
  {
   "cell_type": "code",
   "execution_count": null,
   "id": "93e10a18",
   "metadata": {},
   "outputs": [],
   "source": []
  }
 ],
 "metadata": {
  "kernelspec": {
   "display_name": "Python 3 (ipykernel)",
   "language": "python",
   "name": "python3"
  },
  "language_info": {
   "codemirror_mode": {
    "name": "ipython",
    "version": 3
   },
   "file_extension": ".py",
   "mimetype": "text/x-python",
   "name": "python",
   "nbconvert_exporter": "python",
   "pygments_lexer": "ipython3",
   "version": "3.9.13"
  }
 },
 "nbformat": 4,
 "nbformat_minor": 5
}
