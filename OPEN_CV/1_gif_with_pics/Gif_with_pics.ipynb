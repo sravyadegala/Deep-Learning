{
 "cells": [
  {
   "cell_type": "code",
   "execution_count": 1,
   "id": "a9b9a50b",
   "metadata": {},
   "outputs": [],
   "source": [
    "import numpy as np\n",
    "import cv2"
   ]
  },
  {
   "cell_type": "code",
   "execution_count": 2,
   "id": "114dcce4",
   "metadata": {},
   "outputs": [],
   "source": [
    "\n",
    "\n",
    "black_img=np.zeros((250,250,3),np.uint8)\n",
    "img=cv2.circle(black_img,(45,50),40,(50,127,205),-1)\n",
    "img=cv2.circle(black_img,(25,40),10,(255,255,255),-1)\n",
    "img=cv2.circle(black_img,(25,40),2,(0,0,0),-1)\n",
    "img=cv2.circle(black_img,(25,40),12,(0,0,0),2)\n",
    "\n",
    "img=cv2.circle(black_img,(60,40),10,(255,255,255),-1)\n",
    "img=cv2.circle(black_img,(60,40),2,(0,0,0),-1)\n",
    "img=cv2.circle(black_img,(60,40),12,(0,0,0),2)\n",
    "\n",
    "cv2.putText(img,'spread of conjunctivitis',(12,123),cv2.FONT_ITALIC,0.6,(255,255,255),2)\n",
    "img=cv2.line(black_img,(115,125),(135,125),(0,0,0),2)\n",
    "\n",
    "\n",
    "cv2.imshow(\"emoji\",img)\n",
    "cv2.waitKey()\n",
    "cv2.destroyAllWindows()"
   ]
  },
  {
   "cell_type": "markdown",
   "id": "42590961",
   "metadata": {},
   "source": [
    "cv2.imwrite(r\"C:\\Users\\home\\gif\\gif3\\i1.jpg\",img)"
   ]
  },
  {
   "cell_type": "code",
   "execution_count": 3,
   "id": "d8ae6d37",
   "metadata": {},
   "outputs": [],
   "source": [
    "\n",
    "black_img=np.zeros((250,250,3),np.uint8)\n",
    "img1=cv2.circle(black_img,(45,50),40,(50,127,205),-1)\n",
    "img1=cv2.circle(black_img,(25,40),10,(255,255,255),-1)\n",
    "img1=cv2.circle(black_img,(25,40),2,(0,0,0),-1)\n",
    "img1=cv2.circle(black_img,(25,40),12,(0,0,0),2)\n",
    "\n",
    "img1=cv2.circle(black_img,(60,40),10,(255,255,255),-1)\n",
    "img1=cv2.circle(black_img,(60,40),2,(0,0,0),-1)\n",
    "img1=cv2.circle(black_img,(60,40),12,(0,0,0),2)\n",
    "\n",
    "img1=cv2.line(black_img,(115,125),(135,125),(0,0,0),2)\n",
    "img1=cv2.circle(black_img,(185,50),40,(109,160,218),-1)\n",
    "img1=cv2.circle(black_img,(165,40),11,(0,0,255),-1)\n",
    "img1=cv2.circle(black_img,(165,40),2,(0,0,0),-1)\n",
    "img1=cv2.circle(black_img,(165,40),12,(0,0,0),2)\n",
    "\n",
    "img1=cv2.circle(black_img,(205,40),11,(0,0,255),-1)\n",
    "img1=cv2.circle(black_img,(205,40),2,(0,0,0),-1)\n",
    "img1=cv2.circle(black_img,(205,40),12,(0,0,0),2)\n",
    "cv2.putText(img1,'spread of conjunctivitis',(12,123),cv2.FONT_ITALIC,0.6,(255,255,255),2)\n",
    "img1=cv2.line(black_img,(115,125),(135,125),(0,0,0),2)\n",
    "\n",
    "\n",
    "cv2.imshow(\"emoji\",img1)\n",
    "cv2.waitKey()\n",
    "cv2.destroyAllWindows()"
   ]
  },
  {
   "cell_type": "markdown",
   "id": "4f8dab9b",
   "metadata": {},
   "source": [
    "cv2.imwrite(r\"C:\\Users\\home\\gif\\gif3\\i2.jpg\",img1)"
   ]
  },
  {
   "cell_type": "code",
   "execution_count": 4,
   "id": "5468bfce",
   "metadata": {},
   "outputs": [],
   "source": [
    "black_img=np.zeros((250,250,3),np.uint8)\n",
    "img2=cv2.circle(black_img,(45,50),40,(50,127,205),-1)\n",
    "img2=cv2.circle(black_img,(25,40),10,(255,255,255),-1)\n",
    "img2=cv2.circle(black_img,(29,40),2,(0,0,0),-1)\n",
    "img2=cv2.circle(black_img,(25,40),12,(0,0,0),2)\n",
    "\n",
    "img2=cv2.circle(black_img,(60,40),10,(255,255,255),-1)\n",
    "img2=cv2.circle(black_img,(68,40),2,(0,0,0),-1)\n",
    "img2=cv2.circle(black_img,(60,40),12,(0,0,0),2)\n",
    "\n",
    "img2=cv2.line(black_img,(115,125),(135,125),(0,0,0),2)\n",
    "\n",
    "img2=cv2.line(black_img,(115,125),(135,125),(0,0,0),2)\n",
    "img2=cv2.circle(black_img,(185,50),40,(109,160,218),-1)\n",
    "img2=cv2.circle(black_img,(165,40),11,(0,0,255),-1)\n",
    "img2=cv2.circle(black_img,(159,40),2,(0,0,0),-1)\n",
    "img2=cv2.circle(black_img,(165,40),12,(0,0,0),2)\n",
    "\n",
    "img2=cv2.circle(black_img,(205,40),11,(0,0,255),-1)\n",
    "img2=cv2.circle(black_img,(199,40),2,(0,0,0),-1)\n",
    "img2=cv2.circle(black_img,(205,40),12,(0,0,0),2)\n",
    "cv2.putText(img2,'spread of conjunctivitis',(12,123),cv2.FONT_ITALIC,0.6,(255,255,255),2)\n",
    "img2=cv2.line(black_img,(115,125),(135,125),(0,0,0),2)\n",
    "\n",
    "cv2.imshow(\"emoji\",img2)\n",
    "cv2.waitKey()\n",
    "cv2.destroyAllWindows()\n"
   ]
  },
  {
   "cell_type": "markdown",
   "id": "5fabe3b8",
   "metadata": {},
   "source": [
    "cv2.imwrite(r\"C:\\Users\\home\\gif\\gif3\\i3.jpg\",img2)"
   ]
  },
  {
   "cell_type": "code",
   "execution_count": 5,
   "id": "ae86e30a",
   "metadata": {},
   "outputs": [],
   "source": [
    "black_img=np.zeros((250,250,3),np.uint8)\n",
    "img4=cv2.circle(black_img,(45,50),40,(50,127,205),-1)\n",
    "img4=cv2.circle(black_img,(25,40),11,(255,255,255),-1)\n",
    "img4=cv2.circle(black_img,(29,40),2,(0,0,0),-1)\n",
    "img4=cv2.circle(black_img,(25,40),12,(0,0,0),2)\n",
    "\n",
    "img4=cv2.circle(black_img,(60,40),11,(0,0,255),-1)\n",
    "img4=cv2.circle(black_img,(68,40),2,(0,0,0),-1)\n",
    "img4=cv2.circle(black_img,(60,40),12,(0,0,0),2)\n",
    "\n",
    "img4=cv2.line(black_img,(115,125),(135,125),(0,0,0),2)\n",
    "\n",
    "img4=cv2.line(black_img,(115,125),(135,125),(0,0,0),2)\n",
    "img4=cv2.circle(black_img,(185,50),40,(109,160,218),-1)\n",
    "img4=cv2.circle(black_img,(165,40),11,(0,0,255),-1)\n",
    "img4=cv2.circle(black_img,(159,40),2,(0,0,0),-1)\n",
    "img4=cv2.circle(black_img,(165,40),12,(0,0,0),2)\n",
    "\n",
    "img4=cv2.circle(black_img,(205,40),11,(0,0,255),-1)\n",
    "img4=cv2.circle(black_img,(199,40),2,(0,0,0),-1)\n",
    "img4=cv2.circle(black_img,(205,40),12,(0,0,0),2)\n",
    "cv2.putText(img4,'spread of conjunctivitis',(12,123),cv2.FONT_ITALIC,0.6,(255,255,255),2)\n",
    "img4=cv2.line(black_img,(115,125),(135,125),(0,0,0),2)\n",
    "\n",
    "cv2.imshow(\"emoji\",img4)\n",
    "cv2.waitKey()\n",
    "cv2.destroyAllWindows()"
   ]
  },
  {
   "cell_type": "markdown",
   "id": "174ef7b4",
   "metadata": {},
   "source": [
    "cv2.imwrite(r\"C:\\Users\\home\\gif\\gif3\\i4.jpg\",img4)"
   ]
  },
  {
   "cell_type": "code",
   "execution_count": 6,
   "id": "bf6fcedd",
   "metadata": {},
   "outputs": [],
   "source": [
    "black_img=np.zeros((250,250,3),np.uint8)\n",
    "img5=cv2.circle(black_img,(45,50),40,(50,127,205),-1)\n",
    "img5=cv2.circle(black_img,(25,40),11,(0,0,255),-1)\n",
    "img5=cv2.circle(black_img,(29,40),2,(0,0,0),-1)\n",
    "img5=cv2.circle(black_img,(25,40),12,(0,0,0),2)\n",
    "\n",
    "img5=cv2.circle(black_img,(60,40),11,(0,0,255),-1)\n",
    "img5=cv2.circle(black_img,(68,40),2,(0,0,0),-1)\n",
    "img5=cv2.circle(black_img,(60,40),12,(0,0,0),2)\n",
    "\n",
    "img5=cv2.line(black_img,(115,125),(135,125),(0,0,0),2)\n",
    "\n",
    "img5=cv2.line(black_img,(115,125),(135,125),(0,0,0),2)\n",
    "img5=cv2.circle(black_img,(185,50),40,(109,160,218),-1)\n",
    "img5=cv2.circle(black_img,(165,40),11,(0,0,255),-1)\n",
    "img5=cv2.circle(black_img,(159,40),2,(0,0,0),-1)\n",
    "img5=cv2.circle(black_img,(165,40),12,(0,0,0),2)\n",
    "\n",
    "img5=cv2.circle(black_img,(205,40),11,(0,0,255),-1)\n",
    "img5=cv2.circle(black_img,(199,40),2,(0,0,0),-1)\n",
    "img5=cv2.circle(black_img,(205,40),12,(0,0,0),2)\n",
    "cv2.putText(img5,'spread of conjunctivitis',(12,123),cv2.FONT_ITALIC,0.6,(255,255,255),2)\n",
    "img5=cv2.line(black_img,(115,125),(135,125),(0,0,0),2)\n",
    "\n",
    "cv2.imshow(\"emoji\",img5)\n",
    "cv2.waitKey()\n",
    "cv2.destroyAllWindows()"
   ]
  },
  {
   "cell_type": "markdown",
   "id": "0b41f38b",
   "metadata": {},
   "source": [
    "cv2.imwrite(r\"C:\\Users\\home\\gif\\gif3\\i5.jpg\",img5)"
   ]
  },
  {
   "cell_type": "code",
   "execution_count": 7,
   "id": "1ef3cecf",
   "metadata": {},
   "outputs": [],
   "source": [
    "black_img=np.zeros((250,250,3),np.uint8)\n",
    "img6=cv2.circle(black_img,(45,50),40,(50,127,205),-1)\n",
    "img6=cv2.circle(black_img,(25,40),11,(0,0,255),-1)\n",
    "img6=cv2.circle(black_img,(25,40),2,(0,0,0),-1)\n",
    "img6=cv2.circle(black_img,(25,40),12,(0,0,0),2)\n",
    "\n",
    "img6=cv2.circle(black_img,(60,40),11,(0,0,255),-1)\n",
    "img6=cv2.circle(black_img,(60,40),2,(0,0,0),-1)\n",
    "img6=cv2.circle(black_img,(60,40),12,(0,0,0),2)\n",
    "\n",
    "img6=cv2.line(black_img,(115,125),(135,125),(0,0,0),2)\n",
    "\n",
    "img6=cv2.line(black_img,(115,125),(135,125),(0,0,0),2)\n",
    "img6=cv2.circle(black_img,(185,50),40,(109,160,218),-1)\n",
    "img6=cv2.circle(black_img,(165,40),11,(0,0,255),-1)\n",
    "img6=cv2.circle(black_img,(165,40),2,(0,0,0),-1)\n",
    "img6=cv2.circle(black_img,(165,40),12,(0,0,0),2)\n",
    "\n",
    "img6=cv2.circle(black_img,(205,40),11,(0,0,255),-1)\n",
    "img6=cv2.circle(black_img,(205,40),2,(0,0,0),-1)\n",
    "img6=cv2.circle(black_img,(205,40),12,(0,0,0),2)\n",
    "cv2.putText(img6,'spread of conjunctivitis',(12,123),cv2.FONT_ITALIC,0.6,(255,255,255),2)\n",
    "img6=cv2.line(black_img,(115,125),(135,125),(0,0,0),2)\n",
    "\n",
    "cv2.imshow(\"emoji\",img6)\n",
    "cv2.waitKey()\n",
    "cv2.destroyAllWindows()"
   ]
  },
  {
   "cell_type": "markdown",
   "id": "6fe6c647",
   "metadata": {},
   "source": [
    "cv2.imwrite(r\"C:\\Users\\home\\gif\\gif3\\i6.jpg\",img6)"
   ]
  },
  {
   "cell_type": "code",
   "execution_count": 8,
   "id": "442174d5",
   "metadata": {},
   "outputs": [],
   "source": [
    "black_img=np.zeros((250,250,3),np.uint8)\n",
    "img7=cv2.circle(black_img,(45,50),40,(50,127,205),-1)\n",
    "img7=cv2.circle(black_img,(25,40),11,(0,0,0),-1)\n",
    "img7=cv2.circle(black_img,(25,40),2,(0,0,0),-1)\n",
    "img7=cv2.circle(black_img,(25,40),12,(0,0,0),2)\n",
    "img7=cv2.line(black_img,(36,35),(47,35),(0,0,0),3)\n",
    "\n",
    "img7=cv2.circle(black_img,(60,40),11,(0,0,0),-1)\n",
    "img7=cv2.circle(black_img,(60,40),2,(0,0,0),-1)\n",
    "img7=cv2.circle(black_img,(60,40),12,(0,0,0),2)\n",
    "\n",
    "img7=cv2.line(black_img,(115,125),(135,125),(0,0,0),2)\n",
    "\n",
    "img7=cv2.line(black_img,(115,125),(135,125),(0,0,0),2)\n",
    "img7=cv2.circle(black_img,(185,50),40,(109,160,218),-1)\n",
    "img7=cv2.circle(black_img,(165,40),11,(0,0,0),-1)\n",
    "img7=cv2.circle(black_img,(165,40),2,(0,0,0),-1)\n",
    "img7=cv2.circle(black_img,(165,40),12,(0,0,0),2)\n",
    "img7=cv2.line(black_img,(175,35),(195,35),(0,0,0),3)\n",
    "img7=cv2.circle(black_img,(205,40),11,(0,0,0),-1)\n",
    "img7=cv2.circle(black_img,(205,40),2,(0,0,0),-1)\n",
    "img7=cv2.circle(black_img,(205,40),12,(0,0,0),2)\n",
    "cv2.putText(img7,'spread of conjunctivitis',(12,123),cv2.FONT_ITALIC,0.6,(255,255,255),2)\n",
    "img7=cv2.line(black_img,(115,125),(135,125),(0,0,0),2)\n",
    "\n",
    "cv2.imshow(\"emoji\",img7)\n",
    "cv2.waitKey()\n",
    "cv2.destroyAllWindows()"
   ]
  },
  {
   "cell_type": "markdown",
   "id": "efdc3756",
   "metadata": {},
   "source": [
    "cv2.imwrite(r\"C:\\Users\\home\\gif\\gif3\\i7.jpg\",img7)"
   ]
  },
  {
   "cell_type": "code",
   "execution_count": 9,
   "id": "6600d857",
   "metadata": {},
   "outputs": [],
   "source": [
    "count=1\n",
    "while True:\n",
    "    imgf=cv2.imread(r\"C:\\Users\\home\\gif\\gif3\\i{}.jpg\".format(count))\n",
    "    cv2.imshow(\"gif\",imgf)\n",
    "    if cv2.waitKey(1000) & 255 ==ord(\"q\"):\n",
    "        break\n",
    "    count=count+1\n",
    "    if count==8:\n",
    "        count=1\n",
    "cv2.destroyAllWindows()"
   ]
  },
  {
   "cell_type": "code",
   "execution_count": null,
   "id": "65dddab2",
   "metadata": {},
   "outputs": [],
   "source": []
  }
 ],
 "metadata": {
  "kernelspec": {
   "display_name": "Python 3 (ipykernel)",
   "language": "python",
   "name": "python3"
  },
  "language_info": {
   "codemirror_mode": {
    "name": "ipython",
    "version": 3
   },
   "file_extension": ".py",
   "mimetype": "text/x-python",
   "name": "python",
   "nbconvert_exporter": "python",
   "pygments_lexer": "ipython3",
   "version": "3.9.13"
  }
 },
 "nbformat": 4,
 "nbformat_minor": 5
}
